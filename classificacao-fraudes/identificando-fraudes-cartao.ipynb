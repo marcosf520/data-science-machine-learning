{
 "cells": [
  {
   "cell_type": "markdown",
   "metadata": {
    "id": "QyzQjcW9sM3t"
   },
   "source": [
    "# Identificando Fraudes de Cartão de Crédito (Classificação)"
   ]
  },
  {
   "cell_type": "markdown",
   "metadata": {},
   "source": [
    "Esse projeto tem como objetivos:\n",
    "- Analisar um arquivo CSV com 1 milhão de transações de cartão de crédito (normais e fraudulentas) para identificar as **características comuns nas fraudes**;\n",
    "- Treinar um **modelo de machine learning** para ser capaz de classificar futuras transações como fraudulentas ou não através de suas características."
   ]
  },
  {
   "cell_type": "markdown",
   "metadata": {},
   "source": [
    "# Instalando as bibliotecas"
   ]
  },
  {
   "cell_type": "code",
   "execution_count": 347,
   "metadata": {},
   "outputs": [],
   "source": [
    "# !pip install --upgrade scikit-learn imbalanced-learn\n",
    "# !pip install graphviz"
   ]
  },
  {
   "cell_type": "markdown",
   "metadata": {
    "id": "bL8T3iudsQaw"
   },
   "source": [
    "# Importando os dados"
   ]
  },
  {
   "cell_type": "code",
   "execution_count": 349,
   "metadata": {
    "colab": {
     "base_uri": "https://localhost:8080/",
     "height": 444
    },
    "id": "x0ECX84-rBm1",
    "outputId": "fbe8dcad-dbe7-430c-f2b4-b10358175b0f"
   },
   "outputs": [
    {
     "data": {
      "text/html": [
       "<div>\n",
       "<style scoped>\n",
       "    .dataframe tbody tr th:only-of-type {\n",
       "        vertical-align: middle;\n",
       "    }\n",
       "\n",
       "    .dataframe tbody tr th {\n",
       "        vertical-align: top;\n",
       "    }\n",
       "\n",
       "    .dataframe thead th {\n",
       "        text-align: right;\n",
       "    }\n",
       "</style>\n",
       "<table border=\"1\" class=\"dataframe\">\n",
       "  <thead>\n",
       "    <tr style=\"text-align: right;\">\n",
       "      <th></th>\n",
       "      <th>distance_from_home</th>\n",
       "      <th>distance_from_last_transaction</th>\n",
       "      <th>ratio_to_median_purchase_price</th>\n",
       "      <th>repeat_retailer</th>\n",
       "      <th>used_chip</th>\n",
       "      <th>used_pin_number</th>\n",
       "      <th>online_order</th>\n",
       "      <th>fraud</th>\n",
       "    </tr>\n",
       "  </thead>\n",
       "  <tbody>\n",
       "    <tr>\n",
       "      <th>0</th>\n",
       "      <td>57.87785658389723</td>\n",
       "      <td>0.3111400080477545</td>\n",
       "      <td>1.9459399775518595</td>\n",
       "      <td>1.0</td>\n",
       "      <td>1.0</td>\n",
       "      <td>0.0</td>\n",
       "      <td>0.0</td>\n",
       "      <td>0.0</td>\n",
       "    </tr>\n",
       "    <tr>\n",
       "      <th>1</th>\n",
       "      <td>10.829942699255543</td>\n",
       "      <td>0.1755915022816658</td>\n",
       "      <td>1.294218810619857</td>\n",
       "      <td>1.0</td>\n",
       "      <td>0.0</td>\n",
       "      <td>0.0</td>\n",
       "      <td>0.0</td>\n",
       "      <td>0.0</td>\n",
       "    </tr>\n",
       "    <tr>\n",
       "      <th>2</th>\n",
       "      <td>5.091079490616996</td>\n",
       "      <td>0.8051525945853258</td>\n",
       "      <td>0.4277145611942758</td>\n",
       "      <td>1.0</td>\n",
       "      <td>0.0</td>\n",
       "      <td>0.0</td>\n",
       "      <td>1.0</td>\n",
       "      <td>0.0</td>\n",
       "    </tr>\n",
       "    <tr>\n",
       "      <th>3</th>\n",
       "      <td>2.2475643282963613</td>\n",
       "      <td>5.60004354707232</td>\n",
       "      <td>0.3626625780570958</td>\n",
       "      <td>1.0</td>\n",
       "      <td>1.0</td>\n",
       "      <td>0.0</td>\n",
       "      <td>1.0</td>\n",
       "      <td>0.0</td>\n",
       "    </tr>\n",
       "    <tr>\n",
       "      <th>4</th>\n",
       "      <td>44.19093600261837</td>\n",
       "      <td>0.5664862680583477</td>\n",
       "      <td>2.2227672978404707</td>\n",
       "      <td>1.0</td>\n",
       "      <td>1.0</td>\n",
       "      <td>0.0</td>\n",
       "      <td>1.0</td>\n",
       "      <td>0.0</td>\n",
       "    </tr>\n",
       "    <tr>\n",
       "      <th>...</th>\n",
       "      <td>...</td>\n",
       "      <td>...</td>\n",
       "      <td>...</td>\n",
       "      <td>...</td>\n",
       "      <td>...</td>\n",
       "      <td>...</td>\n",
       "      <td>...</td>\n",
       "      <td>...</td>\n",
       "    </tr>\n",
       "    <tr>\n",
       "      <th>999995</th>\n",
       "      <td>2.2071007085956595</td>\n",
       "      <td>0.1126513027947371</td>\n",
       "      <td>1.6267975897996456</td>\n",
       "      <td>1.0</td>\n",
       "      <td>1.0</td>\n",
       "      <td>0.0</td>\n",
       "      <td>0.0</td>\n",
       "      <td>0.0</td>\n",
       "    </tr>\n",
       "    <tr>\n",
       "      <th>999996</th>\n",
       "      <td>19.872725762075127</td>\n",
       "      <td>2.6839037264517254</td>\n",
       "      <td>2.778302935930713</td>\n",
       "      <td>1.0</td>\n",
       "      <td>1.0</td>\n",
       "      <td>0.0</td>\n",
       "      <td>0.0</td>\n",
       "      <td>0.0</td>\n",
       "    </tr>\n",
       "    <tr>\n",
       "      <th>999997</th>\n",
       "      <td>2.914856986796768</td>\n",
       "      <td>1.4726866870566833</td>\n",
       "      <td>0.2180754860145264</td>\n",
       "      <td>1.0</td>\n",
       "      <td>1.0</td>\n",
       "      <td>0.0</td>\n",
       "      <td>1.0</td>\n",
       "      <td>0.0</td>\n",
       "    </tr>\n",
       "    <tr>\n",
       "      <th>999998</th>\n",
       "      <td>4.258729391720518</td>\n",
       "      <td>0.2420233659455144</td>\n",
       "      <td>0.4758220644483312</td>\n",
       "      <td>1.0</td>\n",
       "      <td>0.0</td>\n",
       "      <td>0.0</td>\n",
       "      <td>1.0</td>\n",
       "      <td>0.0</td>\n",
       "    </tr>\n",
       "    <tr>\n",
       "      <th>999999</th>\n",
       "      <td>58.10812496080576</td>\n",
       "      <td>0.3181101207150046</td>\n",
       "      <td>0.3869198471921602</td>\n",
       "      <td>1.0</td>\n",
       "      <td>1.0</td>\n",
       "      <td>0.0</td>\n",
       "      <td>1.0</td>\n",
       "      <td>0.0</td>\n",
       "    </tr>\n",
       "  </tbody>\n",
       "</table>\n",
       "<p>1000000 rows × 8 columns</p>\n",
       "</div>"
      ],
      "text/plain": [
       "        distance_from_home  distance_from_last_transaction  \\\n",
       "0        57.87785658389723              0.3111400080477545   \n",
       "1       10.829942699255543              0.1755915022816658   \n",
       "2        5.091079490616996              0.8051525945853258   \n",
       "3       2.2475643282963613                5.60004354707232   \n",
       "4        44.19093600261837              0.5664862680583477   \n",
       "...                    ...                             ...   \n",
       "999995  2.2071007085956595              0.1126513027947371   \n",
       "999996  19.872725762075127              2.6839037264517254   \n",
       "999997   2.914856986796768              1.4726866870566833   \n",
       "999998   4.258729391720518              0.2420233659455144   \n",
       "999999   58.10812496080576              0.3181101207150046   \n",
       "\n",
       "        ratio_to_median_purchase_price  repeat_retailer  used_chip  \\\n",
       "0                   1.9459399775518595              1.0        1.0   \n",
       "1                    1.294218810619857              1.0        0.0   \n",
       "2                   0.4277145611942758              1.0        0.0   \n",
       "3                   0.3626625780570958              1.0        1.0   \n",
       "4                   2.2227672978404707              1.0        1.0   \n",
       "...                                ...              ...        ...   \n",
       "999995              1.6267975897996456              1.0        1.0   \n",
       "999996               2.778302935930713              1.0        1.0   \n",
       "999997              0.2180754860145264              1.0        1.0   \n",
       "999998              0.4758220644483312              1.0        0.0   \n",
       "999999              0.3869198471921602              1.0        1.0   \n",
       "\n",
       "        used_pin_number  online_order  fraud  \n",
       "0                   0.0           0.0    0.0  \n",
       "1                   0.0           0.0    0.0  \n",
       "2                   0.0           1.0    0.0  \n",
       "3                   0.0           1.0    0.0  \n",
       "4                   0.0           1.0    0.0  \n",
       "...                 ...           ...    ...  \n",
       "999995              0.0           0.0    0.0  \n",
       "999996              0.0           0.0    0.0  \n",
       "999997              0.0           1.0    0.0  \n",
       "999998              0.0           1.0    0.0  \n",
       "999999              0.0           1.0    0.0  \n",
       "\n",
       "[1000000 rows x 8 columns]"
      ]
     },
     "execution_count": 349,
     "metadata": {},
     "output_type": "execute_result"
    }
   ],
   "source": [
    "import pandas as pd\n",
    "pd.options.display.float_format = \"{:,}\".format\n",
    "\n",
    "uri = \"https://github.com/marcosf520/data-science-machine-learning/raw/refs/heads/master/classificacao-fraudes/dados/fraud_dataset.csv\"\n",
    "dados = pd.read_csv(uri)\n",
    "dados"
   ]
  },
  {
   "cell_type": "markdown",
   "metadata": {
    "id": "lFEpoBeQKuqW"
   },
   "source": [
    "## Significado das colunas\n",
    "\n",
    "- **distance_from_home**: distância do local da transação para a casa do cliente (em km);\n",
    "\n",
    "- **distance_from_last_transaction**: distância do local da transação para o local da última transação (em km);\n",
    "\n",
    "- **ratio_to_median_purchase_price**: proporção ao preço médio de compra (vai de 0 ao infinito). Ex: se é 1.0, significa que o valor da transação é igual ao preço médio de compra (100%). Se é 0.5, significa que o valor da transação é igual a 50% do preço médio de compra;\n",
    "\n",
    "- **repeat_retailer**: se o lojista é recorrente (1-sim, 0-não);\n",
    "\n",
    "- **used_chip**: se foi usado chip (1-sim, 0-não);\n",
    "\n",
    "- **used_pin_number**: se foi usada a senha do cartão de crédito (1-sim, 0-não);\n",
    "\n",
    "- **online_order**: se é compra online (1-sim, 0-não);\n",
    "\n",
    "- **fraud**: se a transação é uma fraude (1-sim, 0-não);"
   ]
  },
  {
   "cell_type": "markdown",
   "metadata": {},
   "source": [
    "# Limpeza dos dados"
   ]
  },
  {
   "cell_type": "markdown",
   "metadata": {
    "id": "eFouTYg-rO1E"
   },
   "source": [
    "## Valores nulos"
   ]
  },
  {
   "cell_type": "code",
   "execution_count": 353,
   "metadata": {
    "colab": {
     "base_uri": "https://localhost:8080/",
     "height": 335
    },
    "id": "fVVNsJrwsdAv",
    "outputId": "53ccfdfc-d87c-486b-9101-522702699e06"
   },
   "outputs": [
    {
     "data": {
      "text/plain": [
       "distance_from_home                0\n",
       "distance_from_last_transaction    0\n",
       "ratio_to_median_purchase_price    0\n",
       "repeat_retailer                   0\n",
       "used_chip                         0\n",
       "used_pin_number                   0\n",
       "online_order                      0\n",
       "fraud                             0\n",
       "dtype: int64"
      ]
     },
     "execution_count": 353,
     "metadata": {},
     "output_type": "execute_result"
    }
   ],
   "source": [
    "dados.isna().sum()"
   ]
  },
  {
   "cell_type": "markdown",
   "metadata": {
    "id": "7O_ALlQWygNg"
   },
   "source": [
    "Não existem valores nulos."
   ]
  },
  {
   "cell_type": "markdown",
   "metadata": {},
   "source": [
    "## Registros duplicados"
   ]
  },
  {
   "cell_type": "code",
   "execution_count": 356,
   "metadata": {},
   "outputs": [
    {
     "data": {
      "text/plain": [
       "0"
      ]
     },
     "execution_count": 356,
     "metadata": {},
     "output_type": "execute_result"
    }
   ],
   "source": [
    "dados.duplicated().sum()"
   ]
  },
  {
   "cell_type": "markdown",
   "metadata": {},
   "source": [
    "Não existem registros duplicados."
   ]
  },
  {
   "cell_type": "markdown",
   "metadata": {},
   "source": [
    "## Tipos das colunas"
   ]
  },
  {
   "cell_type": "code",
   "execution_count": 359,
   "metadata": {},
   "outputs": [
    {
     "name": "stdout",
     "output_type": "stream",
     "text": [
      "<class 'pandas.core.frame.DataFrame'>\n",
      "RangeIndex: 1000000 entries, 0 to 999999\n",
      "Data columns (total 8 columns):\n",
      " #   Column                          Non-Null Count    Dtype  \n",
      "---  ------                          --------------    -----  \n",
      " 0   distance_from_home              1000000 non-null  float64\n",
      " 1   distance_from_last_transaction  1000000 non-null  float64\n",
      " 2   ratio_to_median_purchase_price  1000000 non-null  float64\n",
      " 3   repeat_retailer                 1000000 non-null  float64\n",
      " 4   used_chip                       1000000 non-null  float64\n",
      " 5   used_pin_number                 1000000 non-null  float64\n",
      " 6   online_order                    1000000 non-null  float64\n",
      " 7   fraud                           1000000 non-null  float64\n",
      "dtypes: float64(8)\n",
      "memory usage: 61.0 MB\n"
     ]
    }
   ],
   "source": [
    "dados.info()"
   ]
  },
  {
   "cell_type": "markdown",
   "metadata": {},
   "source": [
    "O tipo das colunas está adequado. Se alguma estivesse como string teríamos que converter."
   ]
  },
  {
   "cell_type": "markdown",
   "metadata": {},
   "source": [
    "## Valores e intervalo das colunas"
   ]
  },
  {
   "cell_type": "code",
   "execution_count": 362,
   "metadata": {},
   "outputs": [
    {
     "data": {
      "text/html": [
       "<div>\n",
       "<style scoped>\n",
       "    .dataframe tbody tr th:only-of-type {\n",
       "        vertical-align: middle;\n",
       "    }\n",
       "\n",
       "    .dataframe tbody tr th {\n",
       "        vertical-align: top;\n",
       "    }\n",
       "\n",
       "    .dataframe thead th {\n",
       "        text-align: right;\n",
       "    }\n",
       "</style>\n",
       "<table border=\"1\" class=\"dataframe\">\n",
       "  <thead>\n",
       "    <tr style=\"text-align: right;\">\n",
       "      <th></th>\n",
       "      <th>repeat_retailer</th>\n",
       "      <th>used_chip</th>\n",
       "      <th>used_pin_number</th>\n",
       "      <th>online_order</th>\n",
       "      <th>fraud</th>\n",
       "    </tr>\n",
       "  </thead>\n",
       "  <tbody>\n",
       "    <tr>\n",
       "      <th>1.0</th>\n",
       "      <td>881536</td>\n",
       "      <td>350399</td>\n",
       "      <td>100608</td>\n",
       "      <td>650552</td>\n",
       "      <td>87403</td>\n",
       "    </tr>\n",
       "    <tr>\n",
       "      <th>0.0</th>\n",
       "      <td>118464</td>\n",
       "      <td>649601</td>\n",
       "      <td>899392</td>\n",
       "      <td>349448</td>\n",
       "      <td>912597</td>\n",
       "    </tr>\n",
       "  </tbody>\n",
       "</table>\n",
       "</div>"
      ],
      "text/plain": [
       "     repeat_retailer  used_chip  used_pin_number  online_order   fraud\n",
       "1.0           881536     350399           100608        650552   87403\n",
       "0.0           118464     649601           899392        349448  912597"
      ]
     },
     "execution_count": 362,
     "metadata": {},
     "output_type": "execute_result"
    }
   ],
   "source": [
    "colunas_boleanas = [\n",
    "    \"repeat_retailer\",\n",
    "    \"used_chip\",\n",
    "    \"used_pin_number\",\n",
    "    \"online_order\",\n",
    "    \"fraud\",\n",
    "    ]\n",
    "pd.concat(\n",
    "    [dados[var].value_counts() for var in colunas_boleanas],\n",
    "    axis=1,\n",
    "    keys=colunas_boleanas,\n",
    "    )"
   ]
  },
  {
   "cell_type": "markdown",
   "metadata": {},
   "source": [
    "As colunas boleanas estão corretamente preenchidas, com nada além de 0 e 1."
   ]
  },
  {
   "cell_type": "code",
   "execution_count": 364,
   "metadata": {},
   "outputs": [
    {
     "data": {
      "text/html": [
       "<div>\n",
       "<style scoped>\n",
       "    .dataframe tbody tr th:only-of-type {\n",
       "        vertical-align: middle;\n",
       "    }\n",
       "\n",
       "    .dataframe tbody tr th {\n",
       "        vertical-align: top;\n",
       "    }\n",
       "\n",
       "    .dataframe thead th {\n",
       "        text-align: right;\n",
       "    }\n",
       "</style>\n",
       "<table border=\"1\" class=\"dataframe\">\n",
       "  <thead>\n",
       "    <tr style=\"text-align: right;\">\n",
       "      <th></th>\n",
       "      <th>min</th>\n",
       "      <th>max</th>\n",
       "    </tr>\n",
       "  </thead>\n",
       "  <tbody>\n",
       "    <tr>\n",
       "      <th>distance_from_home</th>\n",
       "      <td>0.0048743850667442</td>\n",
       "      <td>10,632.723672241103</td>\n",
       "    </tr>\n",
       "    <tr>\n",
       "      <th>distance_from_last_transaction</th>\n",
       "      <td>0.000118281615244</td>\n",
       "      <td>11,851.10456494614</td>\n",
       "    </tr>\n",
       "    <tr>\n",
       "      <th>ratio_to_median_purchase_price</th>\n",
       "      <td>0.004399239615964</td>\n",
       "      <td>267.8029421832708</td>\n",
       "    </tr>\n",
       "  </tbody>\n",
       "</table>\n",
       "</div>"
      ],
      "text/plain": [
       "                                              min                 max\n",
       "distance_from_home             0.0048743850667442 10,632.723672241103\n",
       "distance_from_last_transaction  0.000118281615244  11,851.10456494614\n",
       "ratio_to_median_purchase_price  0.004399239615964   267.8029421832708"
      ]
     },
     "execution_count": 364,
     "metadata": {},
     "output_type": "execute_result"
    }
   ],
   "source": [
    "dados.drop(columns=colunas_boleanas).describe().T[[\"min\", \"max\"]]"
   ]
  },
  {
   "cell_type": "markdown",
   "metadata": {},
   "source": [
    "As colunas numéricas possuem valores adequados ao que representam (nenhum valor negativo nem distância absurda maior que metade da circunferência da Terra, por exemplo (20.000 km))."
   ]
  },
  {
   "cell_type": "markdown",
   "metadata": {
    "id": "AaR5XHCwyGR-"
   },
   "source": [
    "# Análise exploratória"
   ]
  },
  {
   "cell_type": "markdown",
   "metadata": {
    "id": "0Q8U_CM9_Zn2"
   },
   "source": [
    "## A variável target (y): fraud"
   ]
  },
  {
   "cell_type": "code",
   "execution_count": 368,
   "metadata": {},
   "outputs": [],
   "source": [
    "import warnings\n",
    "warnings.filterwarnings(\"ignore\")"
   ]
  },
  {
   "cell_type": "code",
   "execution_count": 369,
   "metadata": {},
   "outputs": [
    {
     "data": {
      "image/png": "[encoded data removed]",
      "text/plain": [
       "<Figure size 400x400 with 1 Axes>"
      ]
     },
     "metadata": {},
     "output_type": "display_data"
    }
   ],
   "source": [
    "import matplotlib.pyplot as plt\n",
    "\n",
    "contagem = (dados.fraud.value_counts(normalize=True) * 100).round(2)\n",
    "\n",
    "azul = \"cornflowerblue\"\n",
    "laranja = \"sandybrown\"\n",
    "cores = [azul, laranja]\n",
    "\n",
    "plt.figure(figsize=(4, 4))\n",
    "bars = plt.bar(contagem.index.astype(str), contagem, color=cores)\n",
    "plt.bar_label(bars)\n",
    "plt.title(\"Fraudes (%)\")\n",
    "plt.gca().set_xticklabels([\"Não\", \"Sim\"]);"
   ]
  },
  {
   "cell_type": "markdown",
   "metadata": {
    "id": "vcXA5h3a4lDn"
   },
   "source": [
    "Existem muito mais casos de \"não fraude\" do que de fraude (era esperado), pois apenas cerca de 9% das transações são fraudulentas. Mas isso pode variar de acordo com o cenário, como por exemplo cenário de comprar online x compras presenciais, compras com chip x compras sem chip, etc. Veremos mais abaixo.\n",
    "\n",
    "Mas de qualquer forma, temos que lidar com esse **desequilíbrio de classes** para treinarmos nosso algoritmo de machine learning. Mais abaixo usaremos a técnica SMOTE para fazer Oversampling, para assim treinarmos adequadamente nosso algoritmo para ficar preciso em identificar fraudes."
   ]
  },
  {
   "cell_type": "markdown",
   "metadata": {},
   "source": [
    "## Correlações"
   ]
  },
  {
   "cell_type": "code",
   "execution_count": 372,
   "metadata": {},
   "outputs": [
    {
     "data": {
      "application/vnd.plotly.v1+json": {
       "config": {
        "plotlyServerURL": "https://plot.ly"
       },
       "data": [
        {
         "coloraxis": "coloraxis",
         "hovertemplate": "x: %{x}<br>y: %{y}<br>color: %{z}<extra></extra>",
         "name": "0",
         "texttemplate": "%{z}",
         "type": "heatmap",
         "x": [
          "distance_from_home",
          "distance_from_last_transaction",
          "ratio_to_median_purchase_price",
          "repeat_retailer",
          "used_chip",
          "used_pin_number",
          "online_order",
          "fraud"
         ],
         "xaxis": "x",
         "y": [
          "distance_from_home",
          "distance_from_last_transaction",
          "ratio_to_median_purchase_price",
          "repeat_retailer",
          "used_chip",
          "used_pin_number",
          "online_order",
          "fraud"
         ],
         "yaxis": "y",
         "z": [
          [
           1,
           null,
           null,
           null,
           null,
           null,
           null,
           null
          ],
          [
           0,
           1,
           null,
           null,
           null,
           null,
           null,
           null
          ],
          [
           0,
           0,
           1,
           null,
           null,
           null,
           null,
           null
          ],
          [
           0.14,
           0,
           0,
           1,
           null,
           null,
           null,
           null
          ],
          [
           0,
           0,
           0,
           0,
           1,
           null,
           null,
           null
          ],
          [
           0,
           0,
           0,
           0,
           0,
           1,
           null,
           null
          ],
          [
           0,
           0,
           0,
           0,
           0,
           0,
           1,
           null
          ],
          [
           0.19,
           0.09,
           0.46,
           0,
           -0.06,
           -0.1,
           0.19,
           1
          ]
         ]
        }
       ],
       "layout": {
        "coloraxis": {
         "colorscale": [
          [
           0,
           "#0d0887"
          ],
          [
           0.1111111111111111,
           "#46039f"
          ],
          [
           0.2222222222222222,
           "#7201a8"
          ],
          [
           0.3333333333333333,
           "#9c179e"
          ],
          [
           0.4444444444444444,
           "#bd3786"
          ],
          [
           0.5555555555555556,
           "#d8576b"
          ],
          [
           0.6666666666666666,
           "#ed7953"
          ],
          [
           0.7777777777777778,
           "#fb9f3a"
          ],
          [
           0.8888888888888888,
           "#fdca26"
          ],
          [
           1,
           "#f0f921"
          ]
         ]
        },
        "height": 600,
        "margin": {
         "t": 60
        },
        "template": {
         "data": {
          "bar": [
           {
            "error_x": {
             "color": "#2a3f5f"
            },
            "error_y": {
             "color": "#2a3f5f"
            },
            "marker": {
             "line": {
              "color": "#E5ECF6",
              "width": 0.5
             },
             "pattern": {
              "fillmode": "overlay",
              "size": 10,
              "solidity": 0.2
             }
            },
            "type": "bar"
           }
          ],
          "barpolar": [
           {
            "marker": {
             "line": {
              "color": "#E5ECF6",
              "width": 0.5
             },
             "pattern": {
              "fillmode": "overlay",
              "size": 10,
              "solidity": 0.2
             }
            },
            "type": "barpolar"
           }
          ],
          "carpet": [
           {
            "aaxis": {
             "endlinecolor": "#2a3f5f",
             "gridcolor": "white",
             "linecolor": "white",
             "minorgridcolor": "white",
             "startlinecolor": "#2a3f5f"
            },
            "baxis": {
             "endlinecolor": "#2a3f5f",
             "gridcolor": "white",
             "linecolor": "white",
             "minorgridcolor": "white",
             "startlinecolor": "#2a3f5f"
            },
            "type": "carpet"
           }
          ],
          "choropleth": [
           {
            "colorbar": {
             "outlinewidth": 0,
             "ticks": ""
            },
            "type": "choropleth"
           }
          ],
          "contour": [
           {
            "colorbar": {
             "outlinewidth": 0,
             "ticks": ""
            },
            "colorscale": [
             [
              0,
              "#0d0887"
             ],
             [
              0.1111111111111111,
              "#46039f"
             ],
             [
              0.2222222222222222,
              "#7201a8"
             ],
             [
              0.3333333333333333,
              "#9c179e"
             ],
             [
              0.4444444444444444,
              "#bd3786"
             ],
             [
              0.5555555555555556,
              "#d8576b"
             ],
             [
              0.6666666666666666,
              "#ed7953"
             ],
             [
              0.7777777777777778,
              "#fb9f3a"
             ],
             [
              0.8888888888888888,
              "#fdca26"
             ],
             [
              1,
              "#f0f921"
             ]
            ],
            "type": "contour"
           }
          ],
          "contourcarpet": [
           {
            "colorbar": {
             "outlinewidth": 0,
             "ticks": ""
            },
            "type": "contourcarpet"
           }
          ],
          "heatmap": [
           {
            "colorbar": {
             "outlinewidth": 0,
             "ticks": ""
            },
            "colorscale": [
             [
              0,
              "#0d0887"
             ],
             [
              0.1111111111111111,
              "#46039f"
             ],
             [
              0.2222222222222222,
              "#7201a8"
             ],
             [
              0.3333333333333333,
              "#9c179e"
             ],
             [
              0.4444444444444444,
              "#bd3786"
             ],
             [
              0.5555555555555556,
              "#d8576b"
             ],
             [
              0.6666666666666666,
              "#ed7953"
             ],
             [
              0.7777777777777778,
              "#fb9f3a"
             ],
             [
              0.8888888888888888,
              "#fdca26"
             ],
             [
              1,
              "#f0f921"
             ]
            ],
            "type": "heatmap"
           }
          ],
          "heatmapgl": [
           {
            "colorbar": {
             "outlinewidth": 0,
             "ticks": ""
            },
            "colorscale": [
             [
              0,
              "#0d0887"
             ],
             [
              0.1111111111111111,
              "#46039f"
             ],
             [
              0.2222222222222222,
              "#7201a8"
             ],
             [
              0.3333333333333333,
              "#9c179e"
             ],
             [
              0.4444444444444444,
              "#bd3786"
             ],
             [
              0.5555555555555556,
              "#d8576b"
             ],
             [
              0.6666666666666666,
              "#ed7953"
             ],
             [
              0.7777777777777778,
              "#fb9f3a"
             ],
             [
              0.8888888888888888,
              "#fdca26"
             ],
             [
              1,
              "#f0f921"
             ]
            ],
            "type": "heatmapgl"
           }
          ],
          "histogram": [
           {
            "marker": {
             "pattern": {
              "fillmode": "overlay",
              "size": 10,
              "solidity": 0.2
             }
            },
            "type": "histogram"
           }
          ],
          "histogram2d": [
           {
            "colorbar": {
             "outlinewidth": 0,
             "ticks": ""
            },
            "colorscale": [
             [
              0,
              "#0d0887"
             ],
             [
              0.1111111111111111,
              "#46039f"
             ],
             [
              0.2222222222222222,
              "#7201a8"
             ],
             [
              0.3333333333333333,
              "#9c179e"
             ],
             [
              0.4444444444444444,
              "#bd3786"
             ],
             [
              0.5555555555555556,
              "#d8576b"
             ],
             [
              0.6666666666666666,
              "#ed7953"
             ],
             [
              0.7777777777777778,
              "#fb9f3a"
             ],
             [
              0.8888888888888888,
              "#fdca26"
             ],
             [
              1,
              "#f0f921"
             ]
            ],
            "type": "histogram2d"
           }
          ],
          "histogram2dcontour": [
           {
            "colorbar": {
             "outlinewidth": 0,
             "ticks": ""
            },
            "colorscale": [
             [
              0,
              "#0d0887"
             ],
             [
              0.1111111111111111,
              "#46039f"
             ],
             [
              0.2222222222222222,
              "#7201a8"
             ],
             [
              0.3333333333333333,
              "#9c179e"
             ],
             [
              0.4444444444444444,
              "#bd3786"
             ],
             [
              0.5555555555555556,
              "#d8576b"
             ],
             [
              0.6666666666666666,
              "#ed7953"
             ],
             [
              0.7777777777777778,
              "#fb9f3a"
             ],
             [
              0.8888888888888888,
              "#fdca26"
             ],
             [
              1,
              "#f0f921"
             ]
            ],
            "type": "histogram2dcontour"
           }
          ],
          "mesh3d": [
           {
            "colorbar": {
             "outlinewidth": 0,
             "ticks": ""
            },
            "type": "mesh3d"
           }
          ],
          "parcoords": [
           {
            "line": {
             "colorbar": {
              "outlinewidth": 0,
              "ticks": ""
             }
            },
            "type": "parcoords"
           }
          ],
          "pie": [
           {
            "automargin": true,
            "type": "pie"
           }
          ],
          "scatter": [
           {
            "fillpattern": {
             "fillmode": "overlay",
             "size": 10,
             "solidity": 0.2
            },
            "type": "scatter"
           }
          ],
          "scatter3d": [
           {
            "line": {
             "colorbar": {
              "outlinewidth": 0,
              "ticks": ""
             }
            },
            "marker": {
             "colorbar": {
              "outlinewidth": 0,
              "ticks": ""
             }
            },
            "type": "scatter3d"
           }
          ],
          "scattercarpet": [
           {
            "marker": {
             "colorbar": {
              "outlinewidth": 0,
              "ticks": ""
             }
            },
            "type": "scattercarpet"
           }
          ],
          "scattergeo": [
           {
            "marker": {
             "colorbar": {
              "outlinewidth": 0,
              "ticks": ""
             }
            },
            "type": "scattergeo"
           }
          ],
          "scattergl": [
           {
            "marker": {
             "colorbar": {
              "outlinewidth": 0,
              "ticks": ""
             }
            },
            "type": "scattergl"
           }
          ],
          "scattermapbox": [
           {
            "marker": {
             "colorbar": {
              "outlinewidth": 0,
              "ticks": ""
             }
            },
            "type": "scattermapbox"
           }
          ],
          "scatterpolar": [
           {
            "marker": {
             "colorbar": {
              "outlinewidth": 0,
              "ticks": ""
             }
            },
            "type": "scatterpolar"
           }
          ],
          "scatterpolargl": [
           {
            "marker": {
             "colorbar": {
              "outlinewidth": 0,
              "ticks": ""
             }
            },
            "type": "scatterpolargl"
           }
          ],
          "scatterternary": [
           {
            "marker": {
             "colorbar": {
              "outlinewidth": 0,
              "ticks": ""
             }
            },
            "type": "scatterternary"
           }
          ],
          "surface": [
           {
            "colorbar": {
             "outlinewidth": 0,
             "ticks": ""
            },
            "colorscale": [
             [
              0,
              "#0d0887"
             ],
             [
              0.1111111111111111,
              "#46039f"
             ],
             [
              0.2222222222222222,
              "#7201a8"
             ],
             [
              0.3333333333333333,
              "#9c179e"
             ],
             [
              0.4444444444444444,
              "#bd3786"
             ],
             [
              0.5555555555555556,
              "#d8576b"
             ],
             [
              0.6666666666666666,
              "#ed7953"
             ],
             [
              0.7777777777777778,
              "#fb9f3a"
             ],
             [
              0.8888888888888888,
              "#fdca26"
             ],
             [
              1,
              "#f0f921"
             ]
            ],
            "type": "surface"
           }
          ],
          "table": [
           {
            "cells": {
             "fill": {
              "color": "#EBF0F8"
             },
             "line": {
              "color": "white"
             }
            },
            "header": {
             "fill": {
              "color": "#C8D4E3"
             },
             "line": {
              "color": "white"
             }
            },
            "type": "table"
           }
          ]
         },
         "layout": {
          "annotationdefaults": {
           "arrowcolor": "#2a3f5f",
           "arrowhead": 0,
           "arrowwidth": 1
          },
          "autotypenumbers": "strict",
          "coloraxis": {
           "colorbar": {
            "outlinewidth": 0,
            "ticks": ""
           }
          },
          "colorscale": {
           "diverging": [
            [
             0,
             "#8e0152"
            ],
            [
             0.1,
             "#c51b7d"
            ],
            [
             0.2,
             "#de77ae"
            ],
            [
             0.3,
             "#f1b6da"
            ],
            [
             0.4,
             "#fde0ef"
            ],
            [
             0.5,
             "#f7f7f7"
            ],
            [
             0.6,
             "#e6f5d0"
            ],
            [
             0.7,
             "#b8e186"
            ],
            [
             0.8,
             "#7fbc41"
            ],
            [
             0.9,
             "#4d9221"
            ],
            [
             1,
             "#276419"
            ]
           ],
           "sequential": [
            [
             0,
             "#0d0887"
            ],
            [
             0.1111111111111111,
             "#46039f"
            ],
            [
             0.2222222222222222,
             "#7201a8"
            ],
            [
             0.3333333333333333,
             "#9c179e"
            ],
            [
             0.4444444444444444,
             "#bd3786"
            ],
            [
             0.5555555555555556,
             "#d8576b"
            ],
            [
             0.6666666666666666,
             "#ed7953"
            ],
            [
             0.7777777777777778,
             "#fb9f3a"
            ],
            [
             0.8888888888888888,
             "#fdca26"
            ],
            [
             1,
             "#f0f921"
            ]
           ],
           "sequentialminus": [
            [
             0,
             "#0d0887"
            ],
            [
             0.1111111111111111,
             "#46039f"
            ],
            [
             0.2222222222222222,
             "#7201a8"
            ],
            [
             0.3333333333333333,
             "#9c179e"
            ],
            [
             0.4444444444444444,
             "#bd3786"
            ],
            [
             0.5555555555555556,
             "#d8576b"
            ],
            [
             0.6666666666666666,
             "#ed7953"
            ],
            [
             0.7777777777777778,
             "#fb9f3a"
            ],
            [
             0.8888888888888888,
             "#fdca26"
            ],
            [
             1,
             "#f0f921"
            ]
           ]
          },
          "colorway": [
           "#636efa",
           "#EF553B",
           "#00cc96",
           "#ab63fa",
           "#FFA15A",
           "#19d3f3",
           "#FF6692",
           "#B6E880",
           "#FF97FF",
           "#FECB52"
          ],
          "font": {
           "color": "#2a3f5f"
          },
          "geo": {
           "bgcolor": "white",
           "lakecolor": "white",
           "landcolor": "#E5ECF6",
           "showlakes": true,
           "showland": true,
           "subunitcolor": "white"
          },
          "hoverlabel": {
           "align": "left"
          },
          "hovermode": "closest",
          "mapbox": {
           "style": "light"
          },
          "paper_bgcolor": "white",
          "plot_bgcolor": "#E5ECF6",
          "polar": {
           "angularaxis": {
            "gridcolor": "white",
            "linecolor": "white",
            "ticks": ""
           },
           "bgcolor": "#E5ECF6",
           "radialaxis": {
            "gridcolor": "white",
            "linecolor": "white",
            "ticks": ""
           }
          },
          "scene": {
           "xaxis": {
            "backgroundcolor": "#E5ECF6",
            "gridcolor": "white",
            "gridwidth": 2,
            "linecolor": "white",
            "showbackground": true,
            "ticks": "",
            "zerolinecolor": "white"
           },
           "yaxis": {
            "backgroundcolor": "#E5ECF6",
            "gridcolor": "white",
            "gridwidth": 2,
            "linecolor": "white",
            "showbackground": true,
            "ticks": "",
            "zerolinecolor": "white"
           },
           "zaxis": {
            "backgroundcolor": "#E5ECF6",
            "gridcolor": "white",
            "gridwidth": 2,
            "linecolor": "white",
            "showbackground": true,
            "ticks": "",
            "zerolinecolor": "white"
           }
          },
          "shapedefaults": {
           "line": {
            "color": "#2a3f5f"
           }
          },
          "ternary": {
           "aaxis": {
            "gridcolor": "white",
            "linecolor": "white",
            "ticks": ""
           },
           "baxis": {
            "gridcolor": "white",
            "linecolor": "white",
            "ticks": ""
           },
           "bgcolor": "#E5ECF6",
           "caxis": {
            "gridcolor": "white",
            "linecolor": "white",
            "ticks": ""
           }
          },
          "title": {
           "x": 0.05
          },
          "xaxis": {
           "automargin": true,
           "gridcolor": "white",
           "linecolor": "white",
           "ticks": "",
           "title": {
            "standoff": 15
           },
           "zerolinecolor": "white",
           "zerolinewidth": 2
          },
          "yaxis": {
           "automargin": true,
           "gridcolor": "white",
           "linecolor": "white",
           "ticks": "",
           "title": {
            "standoff": 15
           },
           "zerolinecolor": "white",
           "zerolinewidth": 2
          }
         }
        },
        "width": 1000,
        "xaxis": {
         "anchor": "y",
         "autorange": true,
         "constrain": "domain",
         "domain": [
          0.24817518248175185,
          0.7518248175182483
         ],
         "range": [
          -0.5,
          7.5
         ],
         "scaleanchor": "y",
         "type": "category"
        },
        "yaxis": {
         "anchor": "x",
         "autorange": true,
         "constrain": "domain",
         "domain": [
          0.0035971223021581955,
          0.9964028776978417
         ],
         "range": [
          7.5,
          -0.5
         ],
         "type": "category"
        }
       }
      },
      "text/html": [
       "<div>                            <div id=\"5956beb3-0f3a-4404-b088-b6512480ee91\" class=\"plotly-graph-div\" style=\"height:600px; width:1000px;\"></div>            <script type=\"text/javascript\">                require([\"plotly\"], function(Plotly) {                    window.PLOTLYENV=window.PLOTLYENV || {};                                    if (document.getElementById(\"5956beb3-0f3a-4404-b088-b6512480ee91\")) {                    Plotly.newPlot(                        \"5956beb3-0f3a-4404-b088-b6512480ee91\",                        [{\"coloraxis\":\"coloraxis\",\"name\":\"0\",\"texttemplate\":\"%{z}\",\"x\":[\"distance_from_home\",\"distance_from_last_transaction\",\"ratio_to_median_purchase_price\",\"repeat_retailer\",\"used_chip\",\"used_pin_number\",\"online_order\",\"fraud\"],\"y\":[\"distance_from_home\",\"distance_from_last_transaction\",\"ratio_to_median_purchase_price\",\"repeat_retailer\",\"used_chip\",\"used_pin_number\",\"online_order\",\"fraud\"],\"z\":[[1.0,null,null,null,null,null,null,null],[0.0,1.0,null,null,null,null,null,null],[-0.0,0.0,1.0,null,null,null,null,null],[0.14,-0.0,0.0,1.0,null,null,null,null],[-0.0,0.0,0.0,-0.0,1.0,null,null,null],[-0.0,-0.0,0.0,-0.0,-0.0,1.0,null,null],[-0.0,0.0,-0.0,-0.0,-0.0,-0.0,1.0,null],[0.19,0.09,0.46,-0.0,-0.06,-0.1,0.19,1.0]],\"type\":\"heatmap\",\"xaxis\":\"x\",\"yaxis\":\"y\",\"hovertemplate\":\"x: %{x}<br>y: %{y}<br>color: %{z}<extra></extra>\"}],                        {\"template\":{\"data\":{\"histogram2dcontour\":[{\"type\":\"histogram2dcontour\",\"colorbar\":{\"outlinewidth\":0,\"ticks\":\"\"},\"colorscale\":[[0.0,\"#0d0887\"],[0.1111111111111111,\"#46039f\"],[0.2222222222222222,\"#7201a8\"],[0.3333333333333333,\"#9c179e\"],[0.4444444444444444,\"#bd3786\"],[0.5555555555555556,\"#d8576b\"],[0.6666666666666666,\"#ed7953\"],[0.7777777777777778,\"#fb9f3a\"],[0.8888888888888888,\"#fdca26\"],[1.0,\"#f0f921\"]]}],\"choropleth\":[{\"type\":\"choropleth\",\"colorbar\":{\"outlinewidth\":0,\"ticks\":\"\"}}],\"histogram2d\":[{\"type\":\"histogram2d\",\"colorbar\":{\"outlinewidth\":0,\"ticks\":\"\"},\"colorscale\":[[0.0,\"#0d0887\"],[0.1111111111111111,\"#46039f\"],[0.2222222222222222,\"#7201a8\"],[0.3333333333333333,\"#9c179e\"],[0.4444444444444444,\"#bd3786\"],[0.5555555555555556,\"#d8576b\"],[0.6666666666666666,\"#ed7953\"],[0.7777777777777778,\"#fb9f3a\"],[0.8888888888888888,\"#fdca26\"],[1.0,\"#f0f921\"]]}],\"heatmap\":[{\"type\":\"heatmap\",\"colorbar\":{\"outlinewidth\":0,\"ticks\":\"\"},\"colorscale\":[[0.0,\"#0d0887\"],[0.1111111111111111,\"#46039f\"],[0.2222222222222222,\"#7201a8\"],[0.3333333333333333,\"#9c179e\"],[0.4444444444444444,\"#bd3786\"],[0.5555555555555556,\"#d8576b\"],[0.6666666666666666,\"#ed7953\"],[0.7777777777777778,\"#fb9f3a\"],[0.8888888888888888,\"#fdca26\"],[1.0,\"#f0f921\"]]}],\"heatmapgl\":[{\"type\":\"heatmapgl\",\"colorbar\":{\"outlinewidth\":0,\"ticks\":\"\"},\"colorscale\":[[0.0,\"#0d0887\"],[0.1111111111111111,\"#46039f\"],[0.2222222222222222,\"#7201a8\"],[0.3333333333333333,\"#9c179e\"],[0.4444444444444444,\"#bd3786\"],[0.5555555555555556,\"#d8576b\"],[0.6666666666666666,\"#ed7953\"],[0.7777777777777778,\"#fb9f3a\"],[0.8888888888888888,\"#fdca26\"],[1.0,\"#f0f921\"]]}],\"contourcarpet\":[{\"type\":\"contourcarpet\",\"colorbar\":{\"outlinewidth\":0,\"ticks\":\"\"}}],\"contour\":[{\"type\":\"contour\",\"colorbar\":{\"outlinewidth\":0,\"ticks\":\"\"},\"colorscale\":[[0.0,\"#0d0887\"],[0.1111111111111111,\"#46039f\"],[0.2222222222222222,\"#7201a8\"],[0.3333333333333333,\"#9c179e\"],[0.4444444444444444,\"#bd3786\"],[0.5555555555555556,\"#d8576b\"],[0.6666666666666666,\"#ed7953\"],[0.7777777777777778,\"#fb9f3a\"],[0.8888888888888888,\"#fdca26\"],[1.0,\"#f0f921\"]]}],\"surface\":[{\"type\":\"surface\",\"colorbar\":{\"outlinewidth\":0,\"ticks\":\"\"},\"colorscale\":[[0.0,\"#0d0887\"],[0.1111111111111111,\"#46039f\"],[0.2222222222222222,\"#7201a8\"],[0.3333333333333333,\"#9c179e\"],[0.4444444444444444,\"#bd3786\"],[0.5555555555555556,\"#d8576b\"],[0.6666666666666666,\"#ed7953\"],[0.7777777777777778,\"#fb9f3a\"],[0.8888888888888888,\"#fdca26\"],[1.0,\"#f0f921\"]]}],\"mesh3d\":[{\"type\":\"mesh3d\",\"colorbar\":{\"outlinewidth\":0,\"ticks\":\"\"}}],\"scatter\":[{\"fillpattern\":{\"fillmode\":\"overlay\",\"size\":10,\"solidity\":0.2},\"type\":\"scatter\"}],\"parcoords\":[{\"type\":\"parcoords\",\"line\":{\"colorbar\":{\"outlinewidth\":0,\"ticks\":\"\"}}}],\"scatterpolargl\":[{\"type\":\"scatterpolargl\",\"marker\":{\"colorbar\":{\"outlinewidth\":0,\"ticks\":\"\"}}}],\"bar\":[{\"error_x\":{\"color\":\"#2a3f5f\"},\"error_y\":{\"color\":\"#2a3f5f\"},\"marker\":{\"line\":{\"color\":\"#E5ECF6\",\"width\":0.5},\"pattern\":{\"fillmode\":\"overlay\",\"size\":10,\"solidity\":0.2}},\"type\":\"bar\"}],\"scattergeo\":[{\"type\":\"scattergeo\",\"marker\":{\"colorbar\":{\"outlinewidth\":0,\"ticks\":\"\"}}}],\"scatterpolar\":[{\"type\":\"scatterpolar\",\"marker\":{\"colorbar\":{\"outlinewidth\":0,\"ticks\":\"\"}}}],\"histogram\":[{\"marker\":{\"pattern\":{\"fillmode\":\"overlay\",\"size\":10,\"solidity\":0.2}},\"type\":\"histogram\"}],\"scattergl\":[{\"type\":\"scattergl\",\"marker\":{\"colorbar\":{\"outlinewidth\":0,\"ticks\":\"\"}}}],\"scatter3d\":[{\"type\":\"scatter3d\",\"line\":{\"colorbar\":{\"outlinewidth\":0,\"ticks\":\"\"}},\"marker\":{\"colorbar\":{\"outlinewidth\":0,\"ticks\":\"\"}}}],\"scattermapbox\":[{\"type\":\"scattermapbox\",\"marker\":{\"colorbar\":{\"outlinewidth\":0,\"ticks\":\"\"}}}],\"scatterternary\":[{\"type\":\"scatterternary\",\"marker\":{\"colorbar\":{\"outlinewidth\":0,\"ticks\":\"\"}}}],\"scattercarpet\":[{\"type\":\"scattercarpet\",\"marker\":{\"colorbar\":{\"outlinewidth\":0,\"ticks\":\"\"}}}],\"carpet\":[{\"aaxis\":{\"endlinecolor\":\"#2a3f5f\",\"gridcolor\":\"white\",\"linecolor\":\"white\",\"minorgridcolor\":\"white\",\"startlinecolor\":\"#2a3f5f\"},\"baxis\":{\"endlinecolor\":\"#2a3f5f\",\"gridcolor\":\"white\",\"linecolor\":\"white\",\"minorgridcolor\":\"white\",\"startlinecolor\":\"#2a3f5f\"},\"type\":\"carpet\"}],\"table\":[{\"cells\":{\"fill\":{\"color\":\"#EBF0F8\"},\"line\":{\"color\":\"white\"}},\"header\":{\"fill\":{\"color\":\"#C8D4E3\"},\"line\":{\"color\":\"white\"}},\"type\":\"table\"}],\"barpolar\":[{\"marker\":{\"line\":{\"color\":\"#E5ECF6\",\"width\":0.5},\"pattern\":{\"fillmode\":\"overlay\",\"size\":10,\"solidity\":0.2}},\"type\":\"barpolar\"}],\"pie\":[{\"automargin\":true,\"type\":\"pie\"}]},\"layout\":{\"autotypenumbers\":\"strict\",\"colorway\":[\"#636efa\",\"#EF553B\",\"#00cc96\",\"#ab63fa\",\"#FFA15A\",\"#19d3f3\",\"#FF6692\",\"#B6E880\",\"#FF97FF\",\"#FECB52\"],\"font\":{\"color\":\"#2a3f5f\"},\"hovermode\":\"closest\",\"hoverlabel\":{\"align\":\"left\"},\"paper_bgcolor\":\"white\",\"plot_bgcolor\":\"#E5ECF6\",\"polar\":{\"bgcolor\":\"#E5ECF6\",\"angularaxis\":{\"gridcolor\":\"white\",\"linecolor\":\"white\",\"ticks\":\"\"},\"radialaxis\":{\"gridcolor\":\"white\",\"linecolor\":\"white\",\"ticks\":\"\"}},\"ternary\":{\"bgcolor\":\"#E5ECF6\",\"aaxis\":{\"gridcolor\":\"white\",\"linecolor\":\"white\",\"ticks\":\"\"},\"baxis\":{\"gridcolor\":\"white\",\"linecolor\":\"white\",\"ticks\":\"\"},\"caxis\":{\"gridcolor\":\"white\",\"linecolor\":\"white\",\"ticks\":\"\"}},\"coloraxis\":{\"colorbar\":{\"outlinewidth\":0,\"ticks\":\"\"}},\"colorscale\":{\"sequential\":[[0.0,\"#0d0887\"],[0.1111111111111111,\"#46039f\"],[0.2222222222222222,\"#7201a8\"],[0.3333333333333333,\"#9c179e\"],[0.4444444444444444,\"#bd3786\"],[0.5555555555555556,\"#d8576b\"],[0.6666666666666666,\"#ed7953\"],[0.7777777777777778,\"#fb9f3a\"],[0.8888888888888888,\"#fdca26\"],[1.0,\"#f0f921\"]],\"sequentialminus\":[[0.0,\"#0d0887\"],[0.1111111111111111,\"#46039f\"],[0.2222222222222222,\"#7201a8\"],[0.3333333333333333,\"#9c179e\"],[0.4444444444444444,\"#bd3786\"],[0.5555555555555556,\"#d8576b\"],[0.6666666666666666,\"#ed7953\"],[0.7777777777777778,\"#fb9f3a\"],[0.8888888888888888,\"#fdca26\"],[1.0,\"#f0f921\"]],\"diverging\":[[0,\"#8e0152\"],[0.1,\"#c51b7d\"],[0.2,\"#de77ae\"],[0.3,\"#f1b6da\"],[0.4,\"#fde0ef\"],[0.5,\"#f7f7f7\"],[0.6,\"#e6f5d0\"],[0.7,\"#b8e186\"],[0.8,\"#7fbc41\"],[0.9,\"#4d9221\"],[1,\"#276419\"]]},\"xaxis\":{\"gridcolor\":\"white\",\"linecolor\":\"white\",\"ticks\":\"\",\"title\":{\"standoff\":15},\"zerolinecolor\":\"white\",\"automargin\":true,\"zerolinewidth\":2},\"yaxis\":{\"gridcolor\":\"white\",\"linecolor\":\"white\",\"ticks\":\"\",\"title\":{\"standoff\":15},\"zerolinecolor\":\"white\",\"automargin\":true,\"zerolinewidth\":2},\"scene\":{\"xaxis\":{\"backgroundcolor\":\"#E5ECF6\",\"gridcolor\":\"white\",\"linecolor\":\"white\",\"showbackground\":true,\"ticks\":\"\",\"zerolinecolor\":\"white\",\"gridwidth\":2},\"yaxis\":{\"backgroundcolor\":\"#E5ECF6\",\"gridcolor\":\"white\",\"linecolor\":\"white\",\"showbackground\":true,\"ticks\":\"\",\"zerolinecolor\":\"white\",\"gridwidth\":2},\"zaxis\":{\"backgroundcolor\":\"#E5ECF6\",\"gridcolor\":\"white\",\"linecolor\":\"white\",\"showbackground\":true,\"ticks\":\"\",\"zerolinecolor\":\"white\",\"gridwidth\":2}},\"shapedefaults\":{\"line\":{\"color\":\"#2a3f5f\"}},\"annotationdefaults\":{\"arrowcolor\":\"#2a3f5f\",\"arrowhead\":0,\"arrowwidth\":1},\"geo\":{\"bgcolor\":\"white\",\"landcolor\":\"#E5ECF6\",\"subunitcolor\":\"white\",\"showland\":true,\"showlakes\":true,\"lakecolor\":\"white\"},\"title\":{\"x\":0.05},\"mapbox\":{\"style\":\"light\"}}},\"xaxis\":{\"anchor\":\"y\",\"domain\":[0.0,1.0],\"scaleanchor\":\"y\",\"constrain\":\"domain\"},\"yaxis\":{\"anchor\":\"x\",\"domain\":[0.0,1.0],\"autorange\":\"reversed\",\"constrain\":\"domain\"},\"coloraxis\":{\"colorscale\":[[0.0,\"#0d0887\"],[0.1111111111111111,\"#46039f\"],[0.2222222222222222,\"#7201a8\"],[0.3333333333333333,\"#9c179e\"],[0.4444444444444444,\"#bd3786\"],[0.5555555555555556,\"#d8576b\"],[0.6666666666666666,\"#ed7953\"],[0.7777777777777778,\"#fb9f3a\"],[0.8888888888888888,\"#fdca26\"],[1.0,\"#f0f921\"]]},\"margin\":{\"t\":60},\"width\":1000,\"height\":600},                        {\"responsive\": true}                    ).then(function(){\n",
       "                            \n",
       "var gd = document.getElementById('5956beb3-0f3a-4404-b088-b6512480ee91');\n",
       "var x = new MutationObserver(function (mutations, observer) {{\n",
       "        var display = window.getComputedStyle(gd).display;\n",
       "        if (!display || display === 'none') {{\n",
       "            console.log([gd, 'removed!']);\n",
       "            Plotly.purge(gd);\n",
       "            observer.disconnect();\n",
       "        }}\n",
       "}});\n",
       "\n",
       "// Listen for the removal of the full notebook cells\n",
       "var notebookContainer = gd.closest('#notebook-container');\n",
       "if (notebookContainer) {{\n",
       "    x.observe(notebookContainer, {childList: true});\n",
       "}}\n",
       "\n",
       "// Listen for the clearing of the current output cell\n",
       "var outputEl = gd.closest('.output');\n",
       "if (outputEl) {{\n",
       "    x.observe(outputEl, {childList: true});\n",
       "}}\n",
       "\n",
       "                        })                };                });            </script>        </div>"
      ]
     },
     "metadata": {},
     "output_type": "display_data"
    }
   ],
   "source": [
    "import plotly.express as px\n",
    "\n",
    "corr = dados.corr().round(2)\n",
    "mascara = np.tril(np.ones(corr.shape).astype(bool))\n",
    "corr = corr.where(mascara)\n",
    "fig = px.imshow(corr, text_auto=True)\n",
    "fig.update_layout(width=1000, height=600)"
   ]
  },
  {
   "cell_type": "markdown",
   "metadata": {},
   "source": [
    "- As **variáveis explicativas não possuem colinearidade** entre si, o que é bom (senão causaria instabilidade nos modelos de predição, principalmente os de regressão);\n",
    "- Vemos uma certa **correlação positiva entre \"fraud\" e \"ratio_to_median_purchase_price\"**. Exploraremos mais abaixo."
   ]
  },
  {
   "cell_type": "markdown",
   "metadata": {
    "id": "ceABQ_6pSk_F"
   },
   "source": [
    "## Variáveis contínuas"
   ]
  },
  {
   "cell_type": "markdown",
   "metadata": {
    "id": "BlJwWKQDSyWl"
   },
   "source": [
    "### Boxplot"
   ]
  },
  {
   "cell_type": "code",
   "execution_count": 376,
   "metadata": {
    "colab": {
     "base_uri": "https://localhost:8080/",
     "height": 558
    },
    "id": "0N2rxQhKPAUy",
    "outputId": "edc470f0-6f25-4317-e806-89c78dbf5093"
   },
   "outputs": [
    {
     "data": {
      "image/png": "[encoded data removed]",
      "text/plain": [
       "<Figure size 1200x700 with 6 Axes>"
      ]
     },
     "metadata": {},
     "output_type": "display_data"
    }
   ],
   "source": [
    "variaveis_continuas = [\n",
    "    \"distance_from_home\",\n",
    "    \"distance_from_last_transaction\",\n",
    "    \"ratio_to_median_purchase_price\",\n",
    "    ]\n",
    "\n",
    "fig, axes = plt.subplots(3, 2, figsize=(12, 7))\n",
    "fig.subplots_adjust(hspace=0.7)\n",
    "\n",
    "dados.boxplot(variaveis_continuas, by=\"fraud\", vert=False, widths=0.5,\n",
    "              ax=axes[::, 0], sharex=False, sharey=False)\n",
    "\n",
    "dados.boxplot(variaveis_continuas, by=\"fraud\", vert=False, widths=0.5,\n",
    "              ax=axes[::,1], sharex=False, sharey=False, showfliers=False);\n",
    "\n",
    "fig.suptitle(\"Boxplot com outliers x Boxplot SEM outliers\", size=15, y=1);"
   ]
  },
  {
   "cell_type": "markdown",
   "metadata": {
    "id": "Rb3rbxKzZAAn"
   },
   "source": [
    "As variáveis acima alcançam **valores maiores em casos de fraude, principalmente a proporção ao preço médio de compra**, o que faz sentido já que normalmente fraudadores fazem compras de alto valor.\n",
    "<br>Podemos concluir que:\n",
    "- Se numa transação as variáveis acima possuem valores mais baixos, são baixas as chances de se tratar de uma fraude. Caso contrário, caso possuam valores muito altos, são altas as chances de fraude.\n",
    "\n",
    "Abaixo uma análise descritiva, com média, mediana, quartis, etc:"
   ]
  },
  {
   "cell_type": "markdown",
   "metadata": {
    "id": "nCwXueWVSsAx"
   },
   "source": [
    "### Estatísticas descritivas"
   ]
  },
  {
   "cell_type": "code",
   "execution_count": 379,
   "metadata": {
    "colab": {
     "base_uri": "https://localhost:8080/",
     "height": 802
    },
    "id": "7HUKRxxt5NHK",
    "outputId": "8647fe1c-8d66-4d05-fe1f-7615e2ec31f0"
   },
   "outputs": [
    {
     "data": {
      "text/html": [
       "<div>\n",
       "<style scoped>\n",
       "    .dataframe tbody tr th:only-of-type {\n",
       "        vertical-align: middle;\n",
       "    }\n",
       "\n",
       "    .dataframe tbody tr th {\n",
       "        vertical-align: top;\n",
       "    }\n",
       "\n",
       "    .dataframe thead th {\n",
       "        text-align: right;\n",
       "    }\n",
       "</style>\n",
       "<table border=\"1\" class=\"dataframe\">\n",
       "  <thead>\n",
       "    <tr style=\"text-align: right;\">\n",
       "      <th></th>\n",
       "      <th>fraud</th>\n",
       "      <th>0.0</th>\n",
       "      <th>1.0</th>\n",
       "    </tr>\n",
       "  </thead>\n",
       "  <tbody>\n",
       "    <tr>\n",
       "      <th rowspan=\"8\" valign=\"top\">distance_from_home</th>\n",
       "      <th>count</th>\n",
       "      <td>912,597.0</td>\n",
       "      <td>87,403.0</td>\n",
       "    </tr>\n",
       "    <tr>\n",
       "      <th>mean</th>\n",
       "      <td>22.83</td>\n",
       "      <td>66.26</td>\n",
       "    </tr>\n",
       "    <tr>\n",
       "      <th>std</th>\n",
       "      <td>52.83</td>\n",
       "      <td>134.39</td>\n",
       "    </tr>\n",
       "    <tr>\n",
       "      <th>min</th>\n",
       "      <td>0.0</td>\n",
       "      <td>0.03</td>\n",
       "    </tr>\n",
       "    <tr>\n",
       "      <th>25%</th>\n",
       "      <td>3.83</td>\n",
       "      <td>4.59</td>\n",
       "    </tr>\n",
       "    <tr>\n",
       "      <th>50%</th>\n",
       "      <td>9.67</td>\n",
       "      <td>15.45</td>\n",
       "    </tr>\n",
       "    <tr>\n",
       "      <th>75%</th>\n",
       "      <td>24.16</td>\n",
       "      <td>101.11</td>\n",
       "    </tr>\n",
       "    <tr>\n",
       "      <th>max</th>\n",
       "      <td>8,777.14</td>\n",
       "      <td>10,632.72</td>\n",
       "    </tr>\n",
       "    <tr>\n",
       "      <th rowspan=\"8\" valign=\"top\">distance_from_last_transaction</th>\n",
       "      <th>count</th>\n",
       "      <td>912,597.0</td>\n",
       "      <td>87,403.0</td>\n",
       "    </tr>\n",
       "    <tr>\n",
       "      <th>mean</th>\n",
       "      <td>4.3</td>\n",
       "      <td>12.71</td>\n",
       "    </tr>\n",
       "    <tr>\n",
       "      <th>std</th>\n",
       "      <td>22.47</td>\n",
       "      <td>48.0</td>\n",
       "    </tr>\n",
       "    <tr>\n",
       "      <th>min</th>\n",
       "      <td>0.0</td>\n",
       "      <td>0.0</td>\n",
       "    </tr>\n",
       "    <tr>\n",
       "      <th>25%</th>\n",
       "      <td>0.29</td>\n",
       "      <td>0.33</td>\n",
       "    </tr>\n",
       "    <tr>\n",
       "      <th>50%</th>\n",
       "      <td>0.99</td>\n",
       "      <td>1.16</td>\n",
       "    </tr>\n",
       "    <tr>\n",
       "      <th>75%</th>\n",
       "      <td>3.27</td>\n",
       "      <td>4.6</td>\n",
       "    </tr>\n",
       "    <tr>\n",
       "      <th>max</th>\n",
       "      <td>11,851.1</td>\n",
       "      <td>2,160.5</td>\n",
       "    </tr>\n",
       "    <tr>\n",
       "      <th rowspan=\"8\" valign=\"top\">ratio_to_median_purchase_price</th>\n",
       "      <th>count</th>\n",
       "      <td>912,597.0</td>\n",
       "      <td>87,403.0</td>\n",
       "    </tr>\n",
       "    <tr>\n",
       "      <th>mean</th>\n",
       "      <td>1.42</td>\n",
       "      <td>6.01</td>\n",
       "    </tr>\n",
       "    <tr>\n",
       "      <th>std</th>\n",
       "      <td>1.95</td>\n",
       "      <td>5.56</td>\n",
       "    </tr>\n",
       "    <tr>\n",
       "      <th>min</th>\n",
       "      <td>0.0</td>\n",
       "      <td>0.01</td>\n",
       "    </tr>\n",
       "    <tr>\n",
       "      <th>25%</th>\n",
       "      <td>0.45</td>\n",
       "      <td>3.5</td>\n",
       "    </tr>\n",
       "    <tr>\n",
       "      <th>50%</th>\n",
       "      <td>0.91</td>\n",
       "      <td>5.07</td>\n",
       "    </tr>\n",
       "    <tr>\n",
       "      <th>75%</th>\n",
       "      <td>1.79</td>\n",
       "      <td>7.33</td>\n",
       "    </tr>\n",
       "    <tr>\n",
       "      <th>max</th>\n",
       "      <td>267.8</td>\n",
       "      <td>266.69</td>\n",
       "    </tr>\n",
       "  </tbody>\n",
       "</table>\n",
       "</div>"
      ],
      "text/plain": [
       "fraud                                      0.0       1.0\n",
       "distance_from_home             count 912,597.0  87,403.0\n",
       "                               mean      22.83     66.26\n",
       "                               std       52.83    134.39\n",
       "                               min         0.0      0.03\n",
       "                               25%        3.83      4.59\n",
       "                               50%        9.67     15.45\n",
       "                               75%       24.16    101.11\n",
       "                               max    8,777.14 10,632.72\n",
       "distance_from_last_transaction count 912,597.0  87,403.0\n",
       "                               mean        4.3     12.71\n",
       "                               std       22.47      48.0\n",
       "                               min         0.0       0.0\n",
       "                               25%        0.29      0.33\n",
       "                               50%        0.99      1.16\n",
       "                               75%        3.27       4.6\n",
       "                               max    11,851.1   2,160.5\n",
       "ratio_to_median_purchase_price count 912,597.0  87,403.0\n",
       "                               mean       1.42      6.01\n",
       "                               std        1.95      5.56\n",
       "                               min         0.0      0.01\n",
       "                               25%        0.45       3.5\n",
       "                               50%        0.91      5.07\n",
       "                               75%        1.79      7.33\n",
       "                               max       267.8    266.69"
      ]
     },
     "execution_count": 379,
     "metadata": {},
     "output_type": "execute_result"
    }
   ],
   "source": [
    "dados.groupby(\"fraud\")[variaveis_continuas].describe().round(2).T"
   ]
  },
  {
   "cell_type": "markdown",
   "metadata": {
    "id": "1bfjqVLH3CD9"
   },
   "source": [
    "As **médias** mostram o que vimos acima. Porém o problema de olhar só as médias é que elas costumam ser muito afetadas pelos outliers. Por isso a importância de olharmos também os **quartis** e os **boxplots**."
   ]
  },
  {
   "cell_type": "markdown",
   "metadata": {
    "id": "_aWbP2pnS8ti"
   },
   "source": [
    "## Variáveis categóricas"
   ]
  },
  {
   "cell_type": "markdown",
   "metadata": {
    "id": "VdAjhoeYoWL_"
   },
   "source": [
    "### Comportamento das variáveis categóricas em cenários de Fraude x Não fraude"
   ]
  },
  {
   "cell_type": "code",
   "execution_count": 383,
   "metadata": {
    "colab": {
     "base_uri": "https://localhost:8080/",
     "height": 1228
    },
    "id": "6zjKIO39wDjm",
    "outputId": "80d9342b-8856-4b49-a935-1345976054b5"
   },
   "outputs": [
    {
     "data": {
      "image/png": "[encoded data removed]",
      "text/plain": [
       "<Figure size 800x1400 with 8 Axes>"
      ]
     },
     "metadata": {},
     "output_type": "display_data"
    }
   ],
   "source": [
    "# # NO GOOGLE COLAB: AUMENTANDO A JANELA DE OUTPUT PARA NÃO PRECISAR\n",
    "# # USAR A BARRA DE ROLAGEM\n",
    "# from IPython.display import Javascript\n",
    "# display(Javascript(\n",
    "#     \"google.colab.output.setIframeHeight(0, true, {maxHeight: 5000})\"))\n",
    "\n",
    "variaveis_categoricas = [\n",
    "    \"repeat_retailer\",\n",
    "    \"used_chip\",\n",
    "    \"used_pin_number\",\n",
    "    \"online_order\",\n",
    "    ]\n",
    "\n",
    "fig, axes = plt.subplots(len(variaveis_categoricas), 2, figsize=(8, 14),\n",
    "                         sharey=True)\n",
    "fig.subplots_adjust(hspace=0.4)\n",
    "\n",
    "for fraud, cor in zip([0, 1], cores):\n",
    "    for i, variavel in enumerate(variaveis_categoricas):\n",
    "        ax = axes[i][fraud]\n",
    "        contagem = dados[dados.fraud == fraud][variavel].value_counts(\n",
    "            normalize=True).sort_index()\n",
    "        contagem = (contagem * 100).round(2)\n",
    "        bars = ax.bar(contagem.index.astype(str), contagem, color=cor)\n",
    "        ax.bar_label(bars)\n",
    "        ax.set_xlabel(variavel)\n",
    "\n",
    "fig.suptitle(\"Comportamento das variáveis (em %) - \"\n",
    "             \"Cenário de Transações Normais x Fraudes\", y=0.97)\n",
    "axes[0][0].set_title(\"TRANSAÇÕES NORMAIS\", y=1.23)\n",
    "axes[0][1].set_title(\"FRAUDES\", y=1.23);"
   ]
  },
  {
   "cell_type": "markdown",
   "metadata": {
    "id": "w5VLcAUdAHSH"
   },
   "source": [
    "Em comparação às transações normais, as fraudes:\n",
    "- Quase nunca usam a senha do cartão (pin number): apenas 0,31%;\n",
    "- São quase todas em compras online (aprox. 95%).\n",
    "\n",
    "<br>Agora vejamos qual é o percentual de fraudes por variável:"
   ]
  },
  {
   "cell_type": "markdown",
   "metadata": {},
   "source": [
    "### % de fraudes em cada cenário isolado"
   ]
  },
  {
   "cell_type": "code",
   "execution_count": 386,
   "metadata": {
    "colab": {
     "base_uri": "https://localhost:8080/",
     "height": 1208
    },
    "id": "J7m5xOp7GjtU",
    "outputId": "2937b0fc-b93e-42d3-9c10-779da14eabb0"
   },
   "outputs": [
    {
     "data": {
      "image/png": "[encoded data removed]",
      "text/plain": [
       "<Figure size 800x1400 with 8 Axes>"
      ]
     },
     "metadata": {},
     "output_type": "display_data"
    }
   ],
   "source": [
    "# # NO GOOGLE COLAB: AUMENTANDO A JANELA DE OUTPUT PARA NÃO PRECISAR\n",
    "# # USAR A BARRA DE ROLAGEM\n",
    "# display(Javascript(\n",
    "#     \"google.colab.output.setIframeHeight(0, true, {maxHeight: 5000})\"))\n",
    "\n",
    "fig, axes = plt.subplots(len(variaveis_categoricas), 2, figsize=(8, 14),\n",
    "                         sharey=True)\n",
    "plt.subplots_adjust(hspace=0.4)\n",
    "\n",
    "for i, variavel in enumerate(variaveis_categoricas):\n",
    "    for b in [0, 1]:\n",
    "        ax = axes[i][b]\n",
    "        contagem = dados[dados[variavel] == b].fraud.replace(\n",
    "            [0, 1], [\"nao_fraudes\", \"fraudes\"]).value_counts(\n",
    "            normalize=True).sort_index(ascending=False)\n",
    "        contagem = (contagem * 100).round(2)\n",
    "        bars = ax.bar(contagem.index.astype(str), contagem, color=cores)\n",
    "        ax.bar_label(bars)\n",
    "        ax.set_title(f\"{variavel} = {b}\")\n",
    "\n",
    "plt.suptitle(\"Contagem das fraudes (em %) em cada cenário isolado\", y=0.93);"
   ]
  },
  {
   "cell_type": "markdown",
   "metadata": {
    "id": "C-5mcCyQ3iX5"
   },
   "source": [
    "- Usar a **senha parece ser um ótimo fator de segurança**, pois das transações com senha, apenas 0,27% são fraudes, enquanto que das transações sem senha, 9,69% são fraudes, um aumento de 3.489%!!!\n",
    "- Em seguida temos se a **compra foi online ou não**, onde o percentual de fraudes vai de 1,34% para 12,71%, um aumento de 849%!\n",
    "\n",
    "<br>Segue a diferença de cada variável:"
   ]
  },
  {
   "cell_type": "code",
   "execution_count": 493,
   "metadata": {
    "colab": {
     "base_uri": "https://localhost:8080/",
     "height": 161
    },
    "id": "ySLGYkD1_MHz",
    "outputId": "df5d3d8d-b9f9-4722-d268-e49acf707aba"
   },
   "outputs": [
    {
     "name": "stdout",
     "output_type": "stream",
     "text": [
      "Percentual (%) de fraudes por variável (dif = diferença em %)\n"
     ]
    },
    {
     "data": {
      "text/html": [
       "<div>\n",
       "<style scoped>\n",
       "    .dataframe tbody tr th:only-of-type {\n",
       "        vertical-align: middle;\n",
       "    }\n",
       "\n",
       "    .dataframe tbody tr th {\n",
       "        vertical-align: top;\n",
       "    }\n",
       "\n",
       "    .dataframe thead th {\n",
       "        text-align: right;\n",
       "    }\n",
       "</style>\n",
       "<table border=\"1\" class=\"dataframe\">\n",
       "  <thead>\n",
       "    <tr style=\"text-align: right;\">\n",
       "      <th></th>\n",
       "      <th>repeat_retailer</th>\n",
       "      <th>used_chip</th>\n",
       "      <th>used_pin_number</th>\n",
       "      <th>online_order</th>\n",
       "    </tr>\n",
       "  </thead>\n",
       "  <tbody>\n",
       "    <tr>\n",
       "      <th>0.0</th>\n",
       "      <td>8.84</td>\n",
       "      <td>10.01</td>\n",
       "      <td>9.69</td>\n",
       "      <td>1.34</td>\n",
       "    </tr>\n",
       "    <tr>\n",
       "      <th>1.0</th>\n",
       "      <td>8.73</td>\n",
       "      <td>6.4</td>\n",
       "      <td>0.27</td>\n",
       "      <td>12.71</td>\n",
       "    </tr>\n",
       "    <tr>\n",
       "      <th>dif</th>\n",
       "      <td>1.26</td>\n",
       "      <td>56.41</td>\n",
       "      <td>3,488.89</td>\n",
       "      <td>848.51</td>\n",
       "    </tr>\n",
       "  </tbody>\n",
       "</table>\n",
       "</div>"
      ],
      "text/plain": [
       "     repeat_retailer  used_chip  used_pin_number  online_order\n",
       "0.0             8.84      10.01             9.69          1.34\n",
       "1.0             8.73        6.4             0.27         12.71\n",
       "dif             1.26      56.41         3,488.89        848.51"
      ]
     },
     "execution_count": 493,
     "metadata": {},
     "output_type": "execute_result"
    }
   ],
   "source": [
    "print(\"Percentual (%) de fraudes por variável (dif = diferença em %)\")        \n",
    "lista = [\n",
    "    pd.crosstab(dados[variavel], dados.fraud, normalize=\"index\")[1]\n",
    "    for variavel in variaveis_categoricas\n",
    "    ]\n",
    "probabilidades = pd.concat(lista, axis=1)\n",
    "probabilidades = (probabilidades * 100).round(2)\n",
    "probabilidades.columns = variaveis_categoricas\n",
    "probabilidades.loc[\"dif\"] = probabilidades.apply(\n",
    "    lambda x: max(x[0], x[1]) / min(x[0], x[1]) * 100 - 100).round(2)\n",
    "probabilidades"
   ]
  },
  {
   "cell_type": "markdown",
   "metadata": {},
   "source": [
    "### % de fraudes em cada cenário combinado"
   ]
  },
  {
   "cell_type": "code",
   "execution_count": 495,
   "metadata": {
    "colab": {
     "base_uri": "https://localhost:8080/",
     "height": 600
    },
    "id": "L429gXo74RkP",
    "outputId": "e3e050bb-2880-4da1-9093-e9f46e2c424d"
   },
   "outputs": [
    {
     "name": "stdout",
     "output_type": "stream",
     "text": [
      "===== Contagem de fraudes em cada cenário (combinação das variáveis) =====\n"
     ]
    },
    {
     "data": {
      "text/html": [
       "<div>\n",
       "<style scoped>\n",
       "    .dataframe tbody tr th:only-of-type {\n",
       "        vertical-align: middle;\n",
       "    }\n",
       "\n",
       "    .dataframe tbody tr th {\n",
       "        vertical-align: top;\n",
       "    }\n",
       "\n",
       "    .dataframe thead th {\n",
       "        text-align: right;\n",
       "    }\n",
       "</style>\n",
       "<table border=\"1\" class=\"dataframe\">\n",
       "  <thead>\n",
       "    <tr style=\"text-align: right;\">\n",
       "      <th></th>\n",
       "      <th></th>\n",
       "      <th></th>\n",
       "      <th></th>\n",
       "      <th>nao_fraudes</th>\n",
       "      <th>fraudes</th>\n",
       "      <th>percentual_fraudes</th>\n",
       "    </tr>\n",
       "    <tr>\n",
       "      <th>used_pin_number</th>\n",
       "      <th>online_order</th>\n",
       "      <th>used_chip</th>\n",
       "      <th>repeat_retailer</th>\n",
       "      <th></th>\n",
       "      <th></th>\n",
       "      <th></th>\n",
       "    </tr>\n",
       "  </thead>\n",
       "  <tbody>\n",
       "    <tr>\n",
       "      <th rowspan=\"8\" valign=\"top\">0.0</th>\n",
       "      <th rowspan=\"4\" valign=\"top\">0.0</th>\n",
       "      <th rowspan=\"2\" valign=\"top\">0.0</th>\n",
       "      <th>0.0</th>\n",
       "      <td>21543</td>\n",
       "      <td>2,451.0</td>\n",
       "      <td>10.22</td>\n",
       "    </tr>\n",
       "    <tr>\n",
       "      <th>1.0</th>\n",
       "      <td>178700</td>\n",
       "      <td>1,430.0</td>\n",
       "      <td>0.79</td>\n",
       "    </tr>\n",
       "    <tr>\n",
       "      <th rowspan=\"2\" valign=\"top\">1.0</th>\n",
       "      <th>0.0</th>\n",
       "      <td>13190</td>\n",
       "      <td>16.0</td>\n",
       "      <td>0.12</td>\n",
       "    </tr>\n",
       "    <tr>\n",
       "      <th>1.0</th>\n",
       "      <td>96125</td>\n",
       "      <td>794.0</td>\n",
       "      <td>0.82</td>\n",
       "    </tr>\n",
       "    <tr>\n",
       "      <th rowspan=\"4\" valign=\"top\">1.0</th>\n",
       "      <th rowspan=\"2\" valign=\"top\">0.0</th>\n",
       "      <th>0.0</th>\n",
       "      <td>39891</td>\n",
       "      <td>5,180.0</td>\n",
       "      <td>11.49</td>\n",
       "    </tr>\n",
       "    <tr>\n",
       "      <th>1.0</th>\n",
       "      <td>279183</td>\n",
       "      <td>55,668.0</td>\n",
       "      <td>16.62</td>\n",
       "    </tr>\n",
       "    <tr>\n",
       "      <th rowspan=\"2\" valign=\"top\">1.0</th>\n",
       "      <th>0.0</th>\n",
       "      <td>21417</td>\n",
       "      <td>2,817.0</td>\n",
       "      <td>11.62</td>\n",
       "    </tr>\n",
       "    <tr>\n",
       "      <th>1.0</th>\n",
       "      <td>162213</td>\n",
       "      <td>18,774.0</td>\n",
       "      <td>10.37</td>\n",
       "    </tr>\n",
       "    <tr>\n",
       "      <th rowspan=\"8\" valign=\"top\">1.0</th>\n",
       "      <th rowspan=\"4\" valign=\"top\">0.0</th>\n",
       "      <th rowspan=\"2\" valign=\"top\">0.0</th>\n",
       "      <th>0.0</th>\n",
       "      <td>2650</td>\n",
       "      <td>0.0</td>\n",
       "      <td>0.0</td>\n",
       "    </tr>\n",
       "    <tr>\n",
       "      <th>1.0</th>\n",
       "      <td>20178</td>\n",
       "      <td>0.0</td>\n",
       "      <td>0.0</td>\n",
       "    </tr>\n",
       "    <tr>\n",
       "      <th rowspan=\"2\" valign=\"top\">1.0</th>\n",
       "      <th>0.0</th>\n",
       "      <td>1465</td>\n",
       "      <td>0.0</td>\n",
       "      <td>0.0</td>\n",
       "    </tr>\n",
       "    <tr>\n",
       "      <th>1.0</th>\n",
       "      <td>10905</td>\n",
       "      <td>1.0</td>\n",
       "      <td>0.01</td>\n",
       "    </tr>\n",
       "    <tr>\n",
       "      <th rowspan=\"4\" valign=\"top\">1.0</th>\n",
       "      <th rowspan=\"2\" valign=\"top\">0.0</th>\n",
       "      <th>0.0</th>\n",
       "      <td>5024</td>\n",
       "      <td>8.0</td>\n",
       "      <td>0.16</td>\n",
       "    </tr>\n",
       "    <tr>\n",
       "      <th>1.0</th>\n",
       "      <td>37439</td>\n",
       "      <td>256.0</td>\n",
       "      <td>0.68</td>\n",
       "    </tr>\n",
       "    <tr>\n",
       "      <th rowspan=\"2\" valign=\"top\">1.0</th>\n",
       "      <th>0.0</th>\n",
       "      <td>2806</td>\n",
       "      <td>6.0</td>\n",
       "      <td>0.21</td>\n",
       "    </tr>\n",
       "    <tr>\n",
       "      <th>1.0</th>\n",
       "      <td>19868</td>\n",
       "      <td>2.0</td>\n",
       "      <td>0.01</td>\n",
       "    </tr>\n",
       "  </tbody>\n",
       "</table>\n",
       "</div>"
      ],
      "text/plain": [
       "                                                        nao_fraudes  fraudes  \\\n",
       "used_pin_number online_order used_chip repeat_retailer                         \n",
       "0.0             0.0          0.0       0.0                    21543  2,451.0   \n",
       "                                       1.0                   178700  1,430.0   \n",
       "                             1.0       0.0                    13190     16.0   \n",
       "                                       1.0                    96125    794.0   \n",
       "                1.0          0.0       0.0                    39891  5,180.0   \n",
       "                                       1.0                   279183 55,668.0   \n",
       "                             1.0       0.0                    21417  2,817.0   \n",
       "                                       1.0                   162213 18,774.0   \n",
       "1.0             0.0          0.0       0.0                     2650      0.0   \n",
       "                                       1.0                    20178      0.0   \n",
       "                             1.0       0.0                     1465      0.0   \n",
       "                                       1.0                    10905      1.0   \n",
       "                1.0          0.0       0.0                     5024      8.0   \n",
       "                                       1.0                    37439    256.0   \n",
       "                             1.0       0.0                     2806      6.0   \n",
       "                                       1.0                    19868      2.0   \n",
       "\n",
       "                                                        percentual_fraudes  \n",
       "used_pin_number online_order used_chip repeat_retailer                      \n",
       "0.0             0.0          0.0       0.0                           10.22  \n",
       "                                       1.0                            0.79  \n",
       "                             1.0       0.0                            0.12  \n",
       "                                       1.0                            0.82  \n",
       "                1.0          0.0       0.0                           11.49  \n",
       "                                       1.0                           16.62  \n",
       "                             1.0       0.0                           11.62  \n",
       "                                       1.0                           10.37  \n",
       "1.0             0.0          0.0       0.0                             0.0  \n",
       "                                       1.0                             0.0  \n",
       "                             1.0       0.0                             0.0  \n",
       "                                       1.0                            0.01  \n",
       "                1.0          0.0       0.0                            0.16  \n",
       "                                       1.0                            0.68  \n",
       "                             1.0       0.0                            0.21  \n",
       "                                       1.0                            0.01  "
      ]
     },
     "execution_count": 495,
     "metadata": {},
     "output_type": "execute_result"
    }
   ],
   "source": [
    "print(\"===== Contagem de fraudes em cada cenário \"\n",
    "      \"(combinação das variáveis) =====\")\n",
    "colunas_ordenadas = probabilidades.loc[\"dif\"].sort_values(\n",
    "    ascending=False).index\n",
    "contagens = [\n",
    "    dados[dados.fraud == i][colunas_ordenadas].value_counts(sort=False)\n",
    "    for i in dados.fraud.unique()\n",
    "    ]\n",
    "cenarios = pd.concat(contagens, axis=1).fillna(0)\n",
    "cenarios.columns = [\"nao_fraudes\", \"fraudes\"]\n",
    "cenarios[\"percentual_fraudes\"] = (\n",
    "    cenarios.iloc[:, 1]\n",
    "    / (cenarios.iloc[:, 0] + cenarios.iloc[:, 1])\n",
    "    * 100\n",
    "    ).round(2)\n",
    "cenarios"
   ]
  },
  {
   "cell_type": "markdown",
   "metadata": {
    "id": "V82IC_sNzJw5"
   },
   "source": [
    "De acordo com os cenários acima, vemos que:\n",
    "\n",
    "Se uma transação tem:\n",
    "- used_pin_number = 0\n",
    "- online_order = 1\n",
    "- used_chip = 0\n",
    "- repeat_retailer = 1\n",
    "- **= chance de ser fraude: 16,62%**\n",
    "\n",
    "Se uma transação tem:\n",
    "- used_pin_number = 1\n",
    "- online_order = 0\n",
    "- used_chip = 1\n",
    "- repeat_retailer = 0\n",
    "- **= chance de ser fraude: 0%**\n",
    "\n",
    "Isso é só uma **análise superficial**, para termos ideia que quais variáveis categóricas representam mais chances da transação ser fraudulenta. Abaixo treinaremos nosso modelo de machine learning para nos dizer com precisão se uma transação é uma fraude ou não, considerando tanto essas variáveis categóricas como as contínuas."
   ]
  },
  {
   "cell_type": "markdown",
   "metadata": {
    "id": "9n64CGSYdR4S"
   },
   "source": [
    "# Treinando o modelo de machine learning"
   ]
  },
  {
   "cell_type": "markdown",
   "metadata": {
    "id": "XjncDXOMd4Qj"
   },
   "source": [
    "## Técnica holdout: Separação dos dados em treino e teste"
   ]
  },
  {
   "cell_type": "code",
   "execution_count": 394,
   "metadata": {
    "id": "31ahzsmJd6oh"
   },
   "outputs": [],
   "source": [
    "from sklearn.model_selection import train_test_split\n",
    "SEED = 7\n",
    "\n",
    "X = dados.drop(columns=\"fraud\")\n",
    "y = dados.fraud\n",
    "X_train, X_test, y_train, y_test = train_test_split(\n",
    "    X, y, test_size=0.2, stratify=y, shuffle=True, random_state=SEED)"
   ]
  },
  {
   "cell_type": "markdown",
   "metadata": {
    "id": "-rL319gvg8Nj"
   },
   "source": [
    "## Overfitting da classe minoritária (das fraudes)\n",
    "\n",
    "Aumentando os exemplos de fraudes, igualando à quantidade de não-fraudes, para o modelo ficar bom em identificar fraudes"
   ]
  },
  {
   "cell_type": "code",
   "execution_count": 396,
   "metadata": {
    "id": "kxniADmpg-RB"
   },
   "outputs": [],
   "source": [
    "from imblearn.over_sampling import SMOTE\n",
    "\n",
    "smote = SMOTE(random_state=SEED)\n",
    "X_train_res, y_train_res = smote.fit_resample(X_train, y_train)"
   ]
  },
  {
   "cell_type": "markdown",
   "metadata": {
    "id": "n_isojO4gwql"
   },
   "source": [
    "## Padronizando as variáveis explicativas\n",
    "\n",
    "Para o modelo não ficar enviesado para a variável com escala mais alta (dependendo do modelo). Padronizaremos todas as variáveis explicativas com **StandardScaler**:"
   ]
  },
  {
   "cell_type": "code",
   "execution_count": 398,
   "metadata": {
    "id": "IQcsue_xdlHl"
   },
   "outputs": [],
   "source": [
    "from sklearn.preprocessing import StandardScaler\n",
    "\n",
    "scaler = StandardScaler()\n",
    "X_train_res_scaled = scaler.fit_transform(X_train_res)\n",
    "X_test_scaled = scaler.transform(X_test)"
   ]
  },
  {
   "cell_type": "markdown",
   "metadata": {
    "id": "vktYwDRxSeqZ"
   },
   "source": [
    "## LogisticRegression\n",
    "\n",
    "Como queremos apenas saber se uma transação é ou não fraude (0 ou 1), começaremos usando um modelo de Regressão Logística:"
   ]
  },
  {
   "cell_type": "code",
   "execution_count": 400,
   "metadata": {
    "id": "QBvP4dxBlwoV"
   },
   "outputs": [],
   "source": [
    "from sklearn.linear_model import LogisticRegression\n",
    "\n",
    "modelo_logistico = LogisticRegression(random_state=SEED)\n",
    "modelo_logistico.fit(X_train_res_scaled, y_train_res)\n",
    "y_pred = modelo_logistico.predict(X_test_scaled)"
   ]
  },
  {
   "cell_type": "markdown",
   "metadata": {
    "id": "TM7JAs6ClyH1"
   },
   "source": [
    "### Resultados"
   ]
  },
  {
   "cell_type": "code",
   "execution_count": 402,
   "metadata": {
    "colab": {
     "base_uri": "https://localhost:8080/"
    },
    "id": "RFMjqEj815DD",
    "outputId": "c64d3902-edc2-40ff-db25-d7b6d582bf84"
   },
   "outputs": [
    {
     "name": "stdout",
     "output_type": "stream",
     "text": [
      "              precision    recall  f1-score   support\n",
      "\n",
      "         0.0       1.00      0.93      0.96    182519\n",
      "         1.0       0.58      0.95      0.72     17481\n",
      "\n",
      "    accuracy                           0.94    200000\n",
      "   macro avg       0.79      0.94      0.84    200000\n",
      "weighted avg       0.96      0.94      0.94    200000\n",
      "\n"
     ]
    }
   ],
   "source": [
    "from sklearn.metrics import classification_report\n",
    "\n",
    "print(classification_report(y_test, y_pred))"
   ]
  },
  {
   "cell_type": "markdown",
   "metadata": {
    "id": "gajB08ve3JFM"
   },
   "source": [
    "Refinando os resultados:"
   ]
  },
  {
   "cell_type": "code",
   "execution_count": 404,
   "metadata": {
    "id": "_MYFw5cgirfc"
   },
   "outputs": [],
   "source": [
    "from sklearn.metrics import accuracy_score, recall_score, precision_score\n",
    "from sklearn.metrics import f1_score, roc_auc_score\n",
    "from sklearn.metrics import confusion_matrix, ConfusionMatrixDisplay\n",
    "import time\n",
    "\n",
    "def resultados(y_test, y_pred, matriz=False):\n",
    "    print(\"===== RESULTADOS =====\")\n",
    "    print(f\"Acurácia: {accuracy_score(y_test, y_pred):.2%}\")\n",
    "    print(f\"Sensibilidade: {recall_score(y_test, y_pred):.2%}\")\n",
    "    print(f\"Precisão: {precision_score(y_test, y_pred, zero_division=0):.2%}\")\n",
    "    print(f\"F1 score: {f1_score(y_test, y_pred):.2%}\")\n",
    "    print(f\"Curva ROC: {roc_auc_score(y_test, y_pred):.2%}\")\n",
    "    if matriz:\n",
    "        print(\"\\n===== MATRIZ DE CONFUSÃO =====\")\n",
    "        cm = confusion_matrix(y_test, y_pred)\n",
    "        ConfusionMatrixDisplay(cm).plot()\n",
    "\n",
    "def tempo_execucao(start_time):\n",
    "    end_time = time.time()\n",
    "    execution_time = end_time - start_time\n",
    "    execution_time = pd.to_datetime(\n",
    "        execution_time, unit=\"s\").strftime(\"%Hh %Mm %Ss\")\n",
    "    print(\"===== TEMPO DE EXECUÇÃO =====\")\n",
    "    print(f\"{execution_time}\\n\")"
   ]
  },
  {
   "cell_type": "code",
   "execution_count": 405,
   "metadata": {
    "colab": {
     "base_uri": "https://localhost:8080/",
     "height": 571
    },
    "id": "IpranV_63bRS",
    "outputId": "97b2c88d-fe35-44d5-cba3-750fff0e9f2a"
   },
   "outputs": [
    {
     "name": "stdout",
     "output_type": "stream",
     "text": [
      "===== RESULTADOS =====\n",
      "Acurácia: 93.51%\n",
      "Sensibilidade: 95.11%\n",
      "Precisão: 57.82%\n",
      "F1 score: 71.92%\n",
      "Curva ROC: 94.23%\n",
      "\n",
      "===== MATRIZ DE CONFUSÃO =====\n"
     ]
    },
    {
     "data": {
      "image/png": "[encoded data removed]",
      "text/plain": [
       "<Figure size 640x480 with 2 Axes>"
      ]
     },
     "metadata": {},
     "output_type": "display_data"
    }
   ],
   "source": [
    "resultados(y_test, y_pred, matriz=True)"
   ]
  },
  {
   "cell_type": "markdown",
   "metadata": {
    "id": "Uv8I633RSjx2"
   },
   "source": [
    "Olhar só a **Acurácia** (% acertos em geral) **não é o suficiente** pois queremos identificar o máximo de fraudes possíveis, mas também sem errar muito sobre as transações normais. Por isso estamos considerando também as seguintes medidas:\n",
    "- **Sensibilidade (Revocação)**: A MAIS IMPORTANTE, é o % de fraudes detectadas;\n",
    "- **Precisão**: % fraudes alegadas pelo modelo que realmente são fraudes;\n",
    "- **F1 Score**: média harmônica entre Sensibilidade e Precisão;\n",
    "- **Curva ROC**: basicamente é o quanto o modelo acerta as fraudes sem errar as não-fraudes.\n",
    "\n",
    "A **Matriz de Confusão** é apenas uma análise visual das informações acima, como quantas fraudes são identificadas e quantas passam despercebidas (Sensibilidade), quantas fraudes declaradas realmente as são (Precisão), etc."
   ]
  },
  {
   "cell_type": "markdown",
   "metadata": {
    "id": "jlrfbkB9cAry"
   },
   "source": [
    "### Resultados sem o Overfitting\n",
    "\n",
    "Se não tivéssemos feito o Overfitting, a Sensibilidade ficaria bem pior:"
   ]
  },
  {
   "cell_type": "code",
   "execution_count": 408,
   "metadata": {
    "colab": {
     "base_uri": "https://localhost:8080/",
     "height": 574
    },
    "id": "9nRqzIZg5mF4",
    "outputId": "74365764-4a45-445a-80ed-c2d99af18cbc"
   },
   "outputs": [
    {
     "name": "stdout",
     "output_type": "stream",
     "text": [
      "===== RESULTADOS =====\n",
      "Acurácia: 95.89%\n",
      "Sensibilidade: 60.31%\n",
      "Precisão: 89.14%\n",
      "F1 score: 71.94%\n",
      "Curva ROC: 79.80%\n",
      "\n",
      "===== MATRIZ DE CONFUSÃO =====\n"
     ]
    },
    {
     "data": {
      "image/png": "[encoded data removed]",
      "text/plain": [
       "<Figure size 640x480 with 2 Axes>"
      ]
     },
     "metadata": {},
     "output_type": "display_data"
    }
   ],
   "source": [
    "scaler2 = StandardScaler()\n",
    "X_train_scaled2 = scaler2.fit_transform(X_train)\n",
    "X_test_scaled2 = scaler2.transform(X_test)\n",
    "\n",
    "modelo_sem_overfitting = LogisticRegression(random_state=SEED)\n",
    "modelo_sem_overfitting.fit(X_train_scaled2, y_train)\n",
    "y_pred_sem_overfitting = modelo_sem_overfitting.predict(X_test_scaled2)\n",
    "resultados(y_test, y_pred_sem_overfitting, matriz=True)"
   ]
  },
  {
   "cell_type": "markdown",
   "metadata": {
    "id": "qVxmyvgzmPmh"
   },
   "source": [
    "## DummyClassifiers (baseline para comparação)\n",
    "\n",
    "Modelos bobos, apenas para compararmos se nosso modelo não está muito melhor. Se os resultados forem semelhantes, isso é péssimo."
   ]
  },
  {
   "cell_type": "markdown",
   "metadata": {
    "id": "ge4KZLyvrPPp"
   },
   "source": [
    "#### Prevendo tudo como 0 (não-fraude)"
   ]
  },
  {
   "cell_type": "code",
   "execution_count": 411,
   "metadata": {
    "colab": {
     "base_uri": "https://localhost:8080/"
    },
    "id": "jM9Gg8stmQjR",
    "outputId": "422ca8d9-ddf6-44e1-89bb-7ca4e811a2c9"
   },
   "outputs": [
    {
     "name": "stdout",
     "output_type": "stream",
     "text": [
      "===== RESULTADOS =====\n",
      "Acurácia: 91.26%\n",
      "Sensibilidade: 0.00%\n",
      "Precisão: 0.00%\n",
      "F1 score: 0.00%\n",
      "Curva ROC: 50.00%\n"
     ]
    }
   ],
   "source": [
    "from sklearn.dummy import DummyClassifier\n",
    "\n",
    "# A estratégia \"prior\" é a padrão\n",
    "# (nesse caso, vai prever tudo como 0 - não-fraude)\n",
    "dummy_prior = DummyClassifier()\n",
    "dummy_prior.fit(X_train_res_scaled, y_train_res)\n",
    "y_pred = dummy_prior.predict(X_test_scaled)\n",
    "resultados(y_test, y_pred)"
   ]
  },
  {
   "cell_type": "markdown",
   "metadata": {
    "id": "ybnrbnJRpt4m"
   },
   "source": [
    "A Acurácia não parece tão ruim, porém a Sensibilidade ficou em 0%. Ou seja, todas as fraudes passaram despercebidas! Por isso a importância de olharmos as outras métricas."
   ]
  },
  {
   "cell_type": "markdown",
   "metadata": {
    "id": "GC6aDGburkjU"
   },
   "source": [
    "#### Prevendo tudo como 1 (fraude)"
   ]
  },
  {
   "cell_type": "code",
   "execution_count": 414,
   "metadata": {
    "colab": {
     "base_uri": "https://localhost:8080/"
    },
    "id": "K0EMa74qo3Em",
    "outputId": "0148a53b-9de5-4646-db8e-b291829ed490"
   },
   "outputs": [
    {
     "name": "stdout",
     "output_type": "stream",
     "text": [
      "===== RESULTADOS =====\n",
      "Acurácia: 8.74%\n",
      "Sensibilidade: 100.00%\n",
      "Precisão: 8.74%\n",
      "F1 score: 16.08%\n",
      "Curva ROC: 50.00%\n"
     ]
    }
   ],
   "source": [
    "dummy_constant = DummyClassifier(strategy=\"constant\", constant=1)\n",
    "dummy_constant.fit(X_train_res_scaled, y_train_res)\n",
    "y_pred = dummy_constant.predict(X_test_scaled)\n",
    "resultados(y_test, y_pred)"
   ]
  },
  {
   "cell_type": "markdown",
   "metadata": {
    "id": "TIG6tyCoqXgF"
   },
   "source": [
    "Aqui a Sensibilidade ficou em 100%, ou seja, identificou todas as fraudes! Parece ótimo, mas a precisão ficou horrível, já que esse dummy errou o diagnóstico de todas as não-fraudes dizendo que são todas fraudes. Isso é péssimo."
   ]
  },
  {
   "cell_type": "markdown",
   "metadata": {
    "id": "9s3fiKyjtmSE"
   },
   "source": [
    "#### Prevendo de forma estratificada (mesma proporção de fraudes vista no treino)"
   ]
  },
  {
   "cell_type": "code",
   "execution_count": 417,
   "metadata": {
    "colab": {
     "base_uri": "https://localhost:8080/"
    },
    "id": "Tvy9zYpPq-Im",
    "outputId": "8a62827a-fb9b-4ea6-8840-519fb3a38a70"
   },
   "outputs": [
    {
     "name": "stdout",
     "output_type": "stream",
     "text": [
      "===== RESULTADOS =====\n",
      "Acurácia: 50.09%\n",
      "Sensibilidade: 49.99%\n",
      "Precisão: 8.76%\n",
      "F1 score: 14.90%\n",
      "Curva ROC: 50.05%\n"
     ]
    }
   ],
   "source": [
    "dummy_stratified = DummyClassifier(strategy=\"stratified\", random_state=SEED)\n",
    "dummy_stratified.fit(X_train_res_scaled, y_train_res)\n",
    "y_pred = dummy_stratified.predict(X_test_scaled)\n",
    "resultados(y_test, y_pred)"
   ]
  },
  {
   "cell_type": "markdown",
   "metadata": {
    "id": "QAW05QPKt5bz"
   },
   "source": [
    "Esse se saiu menos pior. Nosso modelo de Regressão Logística está muito melhor. Segue novamente:"
   ]
  },
  {
   "cell_type": "code",
   "execution_count": 419,
   "metadata": {
    "colab": {
     "base_uri": "https://localhost:8080/",
     "height": 571
    },
    "id": "cNnV-thkst5y",
    "outputId": "357cb8fb-cb3d-467c-f991-693e1d469ab1"
   },
   "outputs": [
    {
     "name": "stdout",
     "output_type": "stream",
     "text": [
      "===== RESULTADOS =====\n",
      "Acurácia: 93.51%\n",
      "Sensibilidade: 95.11%\n",
      "Precisão: 57.82%\n",
      "F1 score: 71.92%\n",
      "Curva ROC: 94.23%\n",
      "\n",
      "===== MATRIZ DE CONFUSÃO =====\n"
     ]
    },
    {
     "data": {
      "image/png": "[encoded data removed]",
      "text/plain": [
       "<Figure size 640x480 with 2 Axes>"
      ]
     },
     "metadata": {},
     "output_type": "display_data"
    }
   ],
   "source": [
    "y_pred = modelo_logistico.predict(X_test_scaled)\n",
    "resultados(y_test, y_pred, matriz=True)"
   ]
  },
  {
   "cell_type": "markdown",
   "metadata": {
    "id": "QkfljeZ4vSIh"
   },
   "source": [
    "Vejamos se conseguimos melhores resultados com outros modelos:"
   ]
  },
  {
   "cell_type": "markdown",
   "metadata": {
    "id": "uLP3gMqfvYUJ"
   },
   "source": [
    "## DecisionTree"
   ]
  },
  {
   "cell_type": "code",
   "execution_count": 422,
   "metadata": {
    "colab": {
     "base_uri": "https://localhost:8080/",
     "height": 571
    },
    "id": "seZSepVsvTrQ",
    "outputId": "36a8f717-2dd3-452e-cf53-978d093c9aef"
   },
   "outputs": [
    {
     "name": "stdout",
     "output_type": "stream",
     "text": [
      "===== TEMPO DE EXECUÇÃO =====\n",
      "00h 00m 06s\n",
      "\n",
      "===== RESULTADOS =====\n",
      "Acurácia: 99.38%\n",
      "Sensibilidade: 99.35%\n",
      "Precisão: 93.92%\n",
      "F1 score: 96.56%\n",
      "Curva ROC: 99.37%\n",
      "\n",
      "===== MATRIZ DE CONFUSÃO =====\n"
     ]
    },
    {
     "data": {
      "image/png": "[encoded data removed]",
      "text/plain": [
       "<Figure size 640x480 with 2 Axes>"
      ]
     },
     "metadata": {},
     "output_type": "display_data"
    }
   ],
   "source": [
    "from sklearn.tree import DecisionTreeClassifier\n",
    "\n",
    "tree = DecisionTreeClassifier(max_depth=4, random_state=SEED)\n",
    "\n",
    "start_time = time.time()\n",
    "tree.fit(X_train_res_scaled, y_train_res)\n",
    "y_pred = tree.predict(X_test_scaled)\n",
    "tempo_execucao(start_time)\n",
    "\n",
    "resultados(y_test, y_pred, matriz=True)"
   ]
  },
  {
   "cell_type": "markdown",
   "metadata": {
    "id": "6_5MbpnIwW10"
   },
   "source": [
    "A árvore de decisão se saiu muito melhor, entregando quase **87% menos falsos negativos**! (fraudes não detectadas caíram de 855 para 114 (-741))"
   ]
  },
  {
   "cell_type": "markdown",
   "metadata": {
    "id": "9zHJPdBsCPiQ"
   },
   "source": [
    "### Visualizando a árvore"
   ]
  },
  {
   "cell_type": "code",
   "execution_count": 425,
   "metadata": {
    "colab": {
     "base_uri": "https://localhost:8080/",
     "height": 1000
    },
    "id": "M8rQ8WXJCUlo",
    "outputId": "2c1cb343-0372-4322-d026-d92c0ebf50e7"
   },
   "outputs": [
    {
     "data": {
      "image/svg+xml": [
       "<?xml version=\"1.0\" encoding=\"UTF-8\" standalone=\"no\"?>\n",
       "<!DOCTYPE svg PUBLIC \"-//W3C//DTD SVG 1.1//EN\"\n",
       " \"http://www.w3.org/Graphics/SVG/1.1/DTD/svg11.dtd\">\n",
       "<!-- Generated by graphviz version 12.1.2 (20240928.0832)\n",
       " -->\n",
       "<!-- Title: Tree Pages: 1 -->\n",
       "<svg width=\"2228pt\" height=\"570pt\"\n",
       " viewBox=\"0.00 0.00 2227.75 570.00\" xmlns=\"http://www.w3.org/2000/svg\" xmlns:xlink=\"http://www.w3.org/1999/xlink\">\n",
       "<g id=\"graph0\" class=\"graph\" transform=\"scale(1 1) rotate(0) translate(4 566)\">\n",
       "<title>Tree</title>\n",
       "<polygon fill=\"white\" stroke=\"none\" points=\"-4,4 -4,-566 2223.75,-566 2223.75,4 -4,4\"/>\n",
       "<!-- 0 -->\n",
       "<g id=\"node1\" class=\"node\">\n",
       "<title>0</title>\n",
       "<path fill=\"#ffffff\" stroke=\"black\" d=\"M1377.75,-562C1377.75,-562 1130.75,-562 1130.75,-562 1124.75,-562 1118.75,-556 1118.75,-550 1118.75,-550 1118.75,-487.25 1118.75,-487.25 1118.75,-481.25 1124.75,-475.25 1130.75,-475.25 1130.75,-475.25 1377.75,-475.25 1377.75,-475.25 1383.75,-475.25 1389.75,-481.25 1389.75,-487.25 1389.75,-487.25 1389.75,-550 1389.75,-550 1389.75,-556 1383.75,-562 1377.75,-562\"/>\n",
       "<text text-anchor=\"middle\" x=\"1254.25\" y=\"-544.7\" font-family=\"Helvetica,sans-Serif\" font-size=\"14.00\">ratio_to_median_purchase_price &lt;= 0.064</text>\n",
       "<text text-anchor=\"middle\" x=\"1254.25\" y=\"-528.95\" font-family=\"Helvetica,sans-Serif\" font-size=\"14.00\">gini = 0.5</text>\n",
       "<text text-anchor=\"middle\" x=\"1254.25\" y=\"-513.2\" font-family=\"Helvetica,sans-Serif\" font-size=\"14.00\">samples = 1460156</text>\n",
       "<text text-anchor=\"middle\" x=\"1254.25\" y=\"-497.45\" font-family=\"Helvetica,sans-Serif\" font-size=\"14.00\">value = [730078, 730078]</text>\n",
       "<text text-anchor=\"middle\" x=\"1254.25\" y=\"-481.7\" font-family=\"Helvetica,sans-Serif\" font-size=\"14.00\">class = Não é fraude</text>\n",
       "</g>\n",
       "<!-- 1 -->\n",
       "<g id=\"node2\" class=\"node\">\n",
       "<title>1</title>\n",
       "<path fill=\"#eca36f\" stroke=\"black\" d=\"M1045.12,-439.25C1045.12,-439.25 875.38,-439.25 875.38,-439.25 869.38,-439.25 863.38,-433.25 863.38,-427.25 863.38,-427.25 863.38,-364.5 863.38,-364.5 863.38,-358.5 869.38,-352.5 875.38,-352.5 875.38,-352.5 1045.12,-352.5 1045.12,-352.5 1051.12,-352.5 1057.12,-358.5 1057.12,-364.5 1057.12,-364.5 1057.12,-427.25 1057.12,-427.25 1057.12,-433.25 1051.12,-439.25 1045.12,-439.25\"/>\n",
       "<text text-anchor=\"middle\" x=\"960.25\" y=\"-421.95\" font-family=\"Helvetica,sans-Serif\" font-size=\"14.00\">distance_from_home &lt;= 0.54</text>\n",
       "<text text-anchor=\"middle\" x=\"960.25\" y=\"-406.2\" font-family=\"Helvetica,sans-Serif\" font-size=\"14.00\">gini = 0.336</text>\n",
       "<text text-anchor=\"middle\" x=\"960.25\" y=\"-390.45\" font-family=\"Helvetica,sans-Serif\" font-size=\"14.00\">samples = 889559</text>\n",
       "<text text-anchor=\"middle\" x=\"960.25\" y=\"-374.7\" font-family=\"Helvetica,sans-Serif\" font-size=\"14.00\">value = [699476, 190083]</text>\n",
       "<text text-anchor=\"middle\" x=\"960.25\" y=\"-358.95\" font-family=\"Helvetica,sans-Serif\" font-size=\"14.00\">class = Não é fraude</text>\n",
       "</g>\n",
       "<!-- 0&#45;&gt;1 -->\n",
       "<g id=\"edge1\" class=\"edge\">\n",
       "<title>0&#45;&gt;1</title>\n",
       "<path fill=\"none\" stroke=\"black\" d=\"M1150.18,-474.88C1123.5,-463.92 1094.74,-452.11 1067.88,-441.08\"/>\n",
       "<polygon fill=\"black\" stroke=\"black\" points=\"1069.27,-437.87 1058.69,-437.31 1066.61,-444.34 1069.27,-437.87\"/>\n",
       "<text text-anchor=\"middle\" x=\"1066.93\" y=\"-454.37\" font-family=\"Helvetica,sans-Serif\" font-size=\"14.00\">True</text>\n",
       "</g>\n",
       "<!-- 16 -->\n",
       "<g id=\"node17\" class=\"node\">\n",
       "<title>16</title>\n",
       "<path fill=\"#44a3e6\" stroke=\"black\" d=\"M1624,-439.25C1624,-439.25 1486.5,-439.25 1486.5,-439.25 1480.5,-439.25 1474.5,-433.25 1474.5,-427.25 1474.5,-427.25 1474.5,-364.5 1474.5,-364.5 1474.5,-358.5 1480.5,-352.5 1486.5,-352.5 1486.5,-352.5 1624,-352.5 1624,-352.5 1630,-352.5 1636,-358.5 1636,-364.5 1636,-364.5 1636,-427.25 1636,-427.25 1636,-433.25 1630,-439.25 1624,-439.25\"/>\n",
       "<text text-anchor=\"middle\" x=\"1555.25\" y=\"-421.95\" font-family=\"Helvetica,sans-Serif\" font-size=\"14.00\">online_order &lt;= &#45;1.926</text>\n",
       "<text text-anchor=\"middle\" x=\"1555.25\" y=\"-406.2\" font-family=\"Helvetica,sans-Serif\" font-size=\"14.00\">gini = 0.102</text>\n",
       "<text text-anchor=\"middle\" x=\"1555.25\" y=\"-390.45\" font-family=\"Helvetica,sans-Serif\" font-size=\"14.00\">samples = 570597</text>\n",
       "<text text-anchor=\"middle\" x=\"1555.25\" y=\"-374.7\" font-family=\"Helvetica,sans-Serif\" font-size=\"14.00\">value = [30602, 539995]</text>\n",
       "<text text-anchor=\"middle\" x=\"1555.25\" y=\"-358.95\" font-family=\"Helvetica,sans-Serif\" font-size=\"14.00\">class = Fraude</text>\n",
       "</g>\n",
       "<!-- 0&#45;&gt;16 -->\n",
       "<g id=\"edge16\" class=\"edge\">\n",
       "<title>0&#45;&gt;16</title>\n",
       "<path fill=\"none\" stroke=\"black\" d=\"M1360.79,-474.88C1394.52,-461.35 1431.47,-446.53 1464.02,-433.47\"/>\n",
       "<polygon fill=\"black\" stroke=\"black\" points=\"1465.04,-436.83 1473.02,-429.86 1462.44,-430.34 1465.04,-436.83\"/>\n",
       "<text text-anchor=\"middle\" x=\"1464.6\" y=\"-446.86\" font-family=\"Helvetica,sans-Serif\" font-size=\"14.00\">False</text>\n",
       "</g>\n",
       "<!-- 2 -->\n",
       "<g id=\"node3\" class=\"node\">\n",
       "<title>2</title>\n",
       "<path fill=\"#e78946\" stroke=\"black\" d=\"M620.88,-316.5C620.88,-316.5 383.62,-316.5 383.62,-316.5 377.62,-316.5 371.62,-310.5 371.62,-304.5 371.62,-304.5 371.62,-241.75 371.62,-241.75 371.62,-235.75 377.62,-229.75 383.62,-229.75 383.62,-229.75 620.88,-229.75 620.88,-229.75 626.88,-229.75 632.88,-235.75 632.88,-241.75 632.88,-241.75 632.88,-304.5 632.88,-304.5 632.88,-310.5 626.88,-316.5 620.88,-316.5\"/>\n",
       "<text text-anchor=\"middle\" x=\"502.25\" y=\"-299.2\" font-family=\"Helvetica,sans-Serif\" font-size=\"14.00\">distance_from_last_transaction &lt;= 1.128</text>\n",
       "<text text-anchor=\"middle\" x=\"502.25\" y=\"-283.45\" font-family=\"Helvetica,sans-Serif\" font-size=\"14.00\">gini = 0.113</text>\n",
       "<text text-anchor=\"middle\" x=\"502.25\" y=\"-267.7\" font-family=\"Helvetica,sans-Serif\" font-size=\"14.00\">samples = 720849</text>\n",
       "<text text-anchor=\"middle\" x=\"502.25\" y=\"-251.95\" font-family=\"Helvetica,sans-Serif\" font-size=\"14.00\">value = [677650, 43199]</text>\n",
       "<text text-anchor=\"middle\" x=\"502.25\" y=\"-236.2\" font-family=\"Helvetica,sans-Serif\" font-size=\"14.00\">class = Não é fraude</text>\n",
       "</g>\n",
       "<!-- 1&#45;&gt;2 -->\n",
       "<g id=\"edge2\" class=\"edge\">\n",
       "<title>1&#45;&gt;2</title>\n",
       "<path fill=\"none\" stroke=\"black\" d=\"M863.12,-369.27C799.43,-352.48 715.1,-330.24 643.97,-311.49\"/>\n",
       "<polygon fill=\"black\" stroke=\"black\" points=\"645.16,-308.18 634.59,-309.02 643.37,-314.95 645.16,-308.18\"/>\n",
       "</g>\n",
       "<!-- 9 -->\n",
       "<g id=\"node10\" class=\"node\">\n",
       "<title>9</title>\n",
       "<path fill=\"#56ace9\" stroke=\"black\" d=\"M1040.25,-316.5C1040.25,-316.5 880.25,-316.5 880.25,-316.5 874.25,-316.5 868.25,-310.5 868.25,-304.5 868.25,-304.5 868.25,-241.75 868.25,-241.75 868.25,-235.75 874.25,-229.75 880.25,-229.75 880.25,-229.75 1040.25,-229.75 1040.25,-229.75 1046.25,-229.75 1052.25,-235.75 1052.25,-241.75 1052.25,-241.75 1052.25,-304.5 1052.25,-304.5 1052.25,-310.5 1046.25,-316.5 1040.25,-316.5\"/>\n",
       "<text text-anchor=\"middle\" x=\"960.25\" y=\"-299.2\" font-family=\"Helvetica,sans-Serif\" font-size=\"14.00\">used_chip &lt;= 1.525</text>\n",
       "<text text-anchor=\"middle\" x=\"960.25\" y=\"-283.45\" font-family=\"Helvetica,sans-Serif\" font-size=\"14.00\">gini = 0.225</text>\n",
       "<text text-anchor=\"middle\" x=\"960.25\" y=\"-267.7\" font-family=\"Helvetica,sans-Serif\" font-size=\"14.00\">samples = 168710</text>\n",
       "<text text-anchor=\"middle\" x=\"960.25\" y=\"-251.95\" font-family=\"Helvetica,sans-Serif\" font-size=\"14.00\">value = [21826.0, 146884.0]</text>\n",
       "<text text-anchor=\"middle\" x=\"960.25\" y=\"-236.2\" font-family=\"Helvetica,sans-Serif\" font-size=\"14.00\">class = Fraude</text>\n",
       "</g>\n",
       "<!-- 1&#45;&gt;9 -->\n",
       "<g id=\"edge9\" class=\"edge\">\n",
       "<title>1&#45;&gt;9</title>\n",
       "<path fill=\"none\" stroke=\"black\" d=\"M960.25,-352.3C960.25,-344.46 960.25,-336.17 960.25,-328.04\"/>\n",
       "<polygon fill=\"black\" stroke=\"black\" points=\"963.75,-328.23 960.25,-318.23 956.75,-328.23 963.75,-328.23\"/>\n",
       "</g>\n",
       "<!-- 3 -->\n",
       "<g id=\"node4\" class=\"node\">\n",
       "<title>3</title>\n",
       "<path fill=\"#e58139\" stroke=\"black\" d=\"M347.5,-193.75C347.5,-193.75 111,-193.75 111,-193.75 105,-193.75 99,-187.75 99,-181.75 99,-181.75 99,-119 99,-119 99,-113 105,-107 111,-107 111,-107 347.5,-107 347.5,-107 353.5,-107 359.5,-113 359.5,-119 359.5,-119 359.5,-181.75 359.5,-181.75 359.5,-187.75 353.5,-193.75 347.5,-193.75\"/>\n",
       "<text text-anchor=\"middle\" x=\"229.25\" y=\"-176.45\" font-family=\"Helvetica,sans-Serif\" font-size=\"14.00\">distance_from_last_transaction &lt;= 1.119</text>\n",
       "<text text-anchor=\"middle\" x=\"229.25\" y=\"-160.7\" font-family=\"Helvetica,sans-Serif\" font-size=\"14.00\">gini = 0.0</text>\n",
       "<text text-anchor=\"middle\" x=\"229.25\" y=\"-144.95\" font-family=\"Helvetica,sans-Serif\" font-size=\"14.00\">samples = 671629</text>\n",
       "<text text-anchor=\"middle\" x=\"229.25\" y=\"-129.2\" font-family=\"Helvetica,sans-Serif\" font-size=\"14.00\">value = [671601, 28]</text>\n",
       "<text text-anchor=\"middle\" x=\"229.25\" y=\"-113.45\" font-family=\"Helvetica,sans-Serif\" font-size=\"14.00\">class = Não é fraude</text>\n",
       "</g>\n",
       "<!-- 2&#45;&gt;3 -->\n",
       "<g id=\"edge3\" class=\"edge\">\n",
       "<title>2&#45;&gt;3</title>\n",
       "<path fill=\"none\" stroke=\"black\" d=\"M405.62,-229.38C383.14,-219.44 359.08,-208.8 336.18,-198.67\"/>\n",
       "<polygon fill=\"black\" stroke=\"black\" points=\"337.7,-195.52 327.14,-194.67 334.87,-201.92 337.7,-195.52\"/>\n",
       "</g>\n",
       "<!-- 6 -->\n",
       "<g id=\"node7\" class=\"node\">\n",
       "<title>6</title>\n",
       "<path fill=\"#55abe9\" stroke=\"black\" d=\"M566.88,-193.75C566.88,-193.75 437.62,-193.75 437.62,-193.75 431.62,-193.75 425.62,-187.75 425.62,-181.75 425.62,-181.75 425.62,-119 425.62,-119 425.62,-113 431.62,-107 437.62,-107 437.62,-107 566.88,-107 566.88,-107 572.88,-107 578.88,-113 578.88,-119 578.88,-119 578.88,-181.75 578.88,-181.75 578.88,-187.75 572.88,-193.75 566.88,-193.75\"/>\n",
       "<text text-anchor=\"middle\" x=\"502.25\" y=\"-176.45\" font-family=\"Helvetica,sans-Serif\" font-size=\"14.00\">online_order &lt;= &#45;1.883</text>\n",
       "<text text-anchor=\"middle\" x=\"502.25\" y=\"-160.7\" font-family=\"Helvetica,sans-Serif\" font-size=\"14.00\">gini = 0.216</text>\n",
       "<text text-anchor=\"middle\" x=\"502.25\" y=\"-144.95\" font-family=\"Helvetica,sans-Serif\" font-size=\"14.00\">samples = 49220</text>\n",
       "<text text-anchor=\"middle\" x=\"502.25\" y=\"-129.2\" font-family=\"Helvetica,sans-Serif\" font-size=\"14.00\">value = [6049, 43171]</text>\n",
       "<text text-anchor=\"middle\" x=\"502.25\" y=\"-113.45\" font-family=\"Helvetica,sans-Serif\" font-size=\"14.00\">class = Fraude</text>\n",
       "</g>\n",
       "<!-- 2&#45;&gt;6 -->\n",
       "<g id=\"edge6\" class=\"edge\">\n",
       "<title>2&#45;&gt;6</title>\n",
       "<path fill=\"none\" stroke=\"black\" d=\"M502.25,-229.55C502.25,-221.71 502.25,-213.42 502.25,-205.29\"/>\n",
       "<polygon fill=\"black\" stroke=\"black\" points=\"505.75,-205.48 502.25,-195.48 498.75,-205.48 505.75,-205.48\"/>\n",
       "</g>\n",
       "<!-- 4 -->\n",
       "<g id=\"node5\" class=\"node\">\n",
       "<title>4</title>\n",
       "<path fill=\"#e58139\" stroke=\"black\" d=\"M128.5,-71C128.5,-71 12,-71 12,-71 6,-71 0,-65 0,-59 0,-59 0,-12 0,-12 0,-6 6,0 12,0 12,0 128.5,0 128.5,0 134.5,0 140.5,-6 140.5,-12 140.5,-12 140.5,-59 140.5,-59 140.5,-65 134.5,-71 128.5,-71\"/>\n",
       "<text text-anchor=\"middle\" x=\"70.25\" y=\"-53.7\" font-family=\"Helvetica,sans-Serif\" font-size=\"14.00\">gini = 0.0</text>\n",
       "<text text-anchor=\"middle\" x=\"70.25\" y=\"-37.95\" font-family=\"Helvetica,sans-Serif\" font-size=\"14.00\">samples = 671533</text>\n",
       "<text text-anchor=\"middle\" x=\"70.25\" y=\"-22.2\" font-family=\"Helvetica,sans-Serif\" font-size=\"14.00\">value = [671520, 13]</text>\n",
       "<text text-anchor=\"middle\" x=\"70.25\" y=\"-6.45\" font-family=\"Helvetica,sans-Serif\" font-size=\"14.00\">class = Não é fraude</text>\n",
       "</g>\n",
       "<!-- 3&#45;&gt;4 -->\n",
       "<g id=\"edge4\" class=\"edge\">\n",
       "<title>3&#45;&gt;4</title>\n",
       "<path fill=\"none\" stroke=\"black\" d=\"M169.14,-106.7C155.78,-97.22 141.64,-87.18 128.36,-77.75\"/>\n",
       "<polygon fill=\"black\" stroke=\"black\" points=\"130.74,-75.15 120.56,-72.21 126.68,-80.86 130.74,-75.15\"/>\n",
       "</g>\n",
       "<!-- 5 -->\n",
       "<g id=\"node6\" class=\"node\">\n",
       "<title>5</title>\n",
       "<path fill=\"#ea985e\" stroke=\"black\" d=\"M287.5,-71C287.5,-71 171,-71 171,-71 165,-71 159,-65 159,-59 159,-59 159,-12 159,-12 159,-6 165,0 171,0 171,0 287.5,0 287.5,0 293.5,0 299.5,-6 299.5,-12 299.5,-12 299.5,-59 299.5,-59 299.5,-65 293.5,-71 287.5,-71\"/>\n",
       "<text text-anchor=\"middle\" x=\"229.25\" y=\"-53.7\" font-family=\"Helvetica,sans-Serif\" font-size=\"14.00\">gini = 0.264</text>\n",
       "<text text-anchor=\"middle\" x=\"229.25\" y=\"-37.95\" font-family=\"Helvetica,sans-Serif\" font-size=\"14.00\">samples = 96</text>\n",
       "<text text-anchor=\"middle\" x=\"229.25\" y=\"-22.2\" font-family=\"Helvetica,sans-Serif\" font-size=\"14.00\">value = [81, 15]</text>\n",
       "<text text-anchor=\"middle\" x=\"229.25\" y=\"-6.45\" font-family=\"Helvetica,sans-Serif\" font-size=\"14.00\">class = Não é fraude</text>\n",
       "</g>\n",
       "<!-- 3&#45;&gt;5 -->\n",
       "<g id=\"edge5\" class=\"edge\">\n",
       "<title>3&#45;&gt;5</title>\n",
       "<path fill=\"none\" stroke=\"black\" d=\"M229.25,-106.7C229.25,-98.82 229.25,-90.55 229.25,-82.57\"/>\n",
       "<polygon fill=\"black\" stroke=\"black\" points=\"232.75,-82.67 229.25,-72.67 225.75,-82.67 232.75,-82.67\"/>\n",
       "</g>\n",
       "<!-- 7 -->\n",
       "<g id=\"node8\" class=\"node\">\n",
       "<title>7</title>\n",
       "<path fill=\"#e58139\" stroke=\"black\" d=\"M446.5,-71C446.5,-71 330,-71 330,-71 324,-71 318,-65 318,-59 318,-59 318,-12 318,-12 318,-6 324,0 330,0 330,0 446.5,0 446.5,0 452.5,0 458.5,-6 458.5,-12 458.5,-12 458.5,-59 458.5,-59 458.5,-65 452.5,-71 446.5,-71\"/>\n",
       "<text text-anchor=\"middle\" x=\"388.25\" y=\"-53.7\" font-family=\"Helvetica,sans-Serif\" font-size=\"14.00\">gini = 0.0</text>\n",
       "<text text-anchor=\"middle\" x=\"388.25\" y=\"-37.95\" font-family=\"Helvetica,sans-Serif\" font-size=\"14.00\">samples = 3499</text>\n",
       "<text text-anchor=\"middle\" x=\"388.25\" y=\"-22.2\" font-family=\"Helvetica,sans-Serif\" font-size=\"14.00\">value = [3499, 0]</text>\n",
       "<text text-anchor=\"middle\" x=\"388.25\" y=\"-6.45\" font-family=\"Helvetica,sans-Serif\" font-size=\"14.00\">class = Não é fraude</text>\n",
       "</g>\n",
       "<!-- 6&#45;&gt;7 -->\n",
       "<g id=\"edge7\" class=\"edge\">\n",
       "<title>6&#45;&gt;7</title>\n",
       "<path fill=\"none\" stroke=\"black\" d=\"M459.15,-106.7C450.08,-97.72 440.5,-88.23 431.42,-79.25\"/>\n",
       "<polygon fill=\"black\" stroke=\"black\" points=\"433.9,-76.77 424.33,-72.22 428.97,-81.75 433.9,-76.77\"/>\n",
       "</g>\n",
       "<!-- 8 -->\n",
       "<g id=\"node9\" class=\"node\">\n",
       "<title>8</title>\n",
       "<path fill=\"#45a3e7\" stroke=\"black\" d=\"M611.5,-71C611.5,-71 489,-71 489,-71 483,-71 477,-65 477,-59 477,-59 477,-12 477,-12 477,-6 483,0 489,0 489,0 611.5,0 611.5,0 617.5,0 623.5,-6 623.5,-12 623.5,-12 623.5,-59 623.5,-59 623.5,-65 617.5,-71 611.5,-71\"/>\n",
       "<text text-anchor=\"middle\" x=\"550.25\" y=\"-53.7\" font-family=\"Helvetica,sans-Serif\" font-size=\"14.00\">gini = 0.105</text>\n",
       "<text text-anchor=\"middle\" x=\"550.25\" y=\"-37.95\" font-family=\"Helvetica,sans-Serif\" font-size=\"14.00\">samples = 45721</text>\n",
       "<text text-anchor=\"middle\" x=\"550.25\" y=\"-22.2\" font-family=\"Helvetica,sans-Serif\" font-size=\"14.00\">value = [2550, 43171]</text>\n",
       "<text text-anchor=\"middle\" x=\"550.25\" y=\"-6.45\" font-family=\"Helvetica,sans-Serif\" font-size=\"14.00\">class = Fraude</text>\n",
       "</g>\n",
       "<!-- 6&#45;&gt;8 -->\n",
       "<g id=\"edge8\" class=\"edge\">\n",
       "<title>6&#45;&gt;8</title>\n",
       "<path fill=\"none\" stroke=\"black\" d=\"M520.4,-106.7C523.87,-98.54 527.51,-89.97 531.01,-81.73\"/>\n",
       "<polygon fill=\"black\" stroke=\"black\" points=\"534.23,-83.12 534.92,-72.55 527.79,-80.38 534.23,-83.12\"/>\n",
       "</g>\n",
       "<!-- 10 -->\n",
       "<g id=\"node11\" class=\"node\">\n",
       "<title>10</title>\n",
       "<path fill=\"#46a3e7\" stroke=\"black\" d=\"M912.25,-193.75C912.25,-193.75 782.25,-193.75 782.25,-193.75 776.25,-193.75 770.25,-187.75 770.25,-181.75 770.25,-181.75 770.25,-119 770.25,-119 770.25,-113 776.25,-107 782.25,-107 782.25,-107 912.25,-107 912.25,-107 918.25,-107 924.25,-113 924.25,-119 924.25,-119 924.25,-181.75 924.25,-181.75 924.25,-187.75 918.25,-193.75 912.25,-193.75\"/>\n",
       "<text text-anchor=\"middle\" x=\"847.25\" y=\"-176.45\" font-family=\"Helvetica,sans-Serif\" font-size=\"14.00\">online_order &lt;= &#45;1.924</text>\n",
       "<text text-anchor=\"middle\" x=\"847.25\" y=\"-160.7\" font-family=\"Helvetica,sans-Serif\" font-size=\"14.00\">gini = 0.115</text>\n",
       "<text text-anchor=\"middle\" x=\"847.25\" y=\"-144.95\" font-family=\"Helvetica,sans-Serif\" font-size=\"14.00\">samples = 155758</text>\n",
       "<text text-anchor=\"middle\" x=\"847.25\" y=\"-129.2\" font-family=\"Helvetica,sans-Serif\" font-size=\"14.00\">value = [9566, 146192]</text>\n",
       "<text text-anchor=\"middle\" x=\"847.25\" y=\"-113.45\" font-family=\"Helvetica,sans-Serif\" font-size=\"14.00\">class = Fraude</text>\n",
       "</g>\n",
       "<!-- 9&#45;&gt;10 -->\n",
       "<g id=\"edge10\" class=\"edge\">\n",
       "<title>9&#45;&gt;10</title>\n",
       "<path fill=\"none\" stroke=\"black\" d=\"M920.41,-229.55C912.14,-220.72 903.35,-211.32 894.83,-202.22\"/>\n",
       "<polygon fill=\"black\" stroke=\"black\" points=\"897.53,-199.98 888.14,-195.07 892.42,-204.77 897.53,-199.98\"/>\n",
       "</g>\n",
       "<!-- 13 -->\n",
       "<g id=\"node14\" class=\"node\">\n",
       "<title>13</title>\n",
       "<path fill=\"#e68844\" stroke=\"black\" d=\"M1191.88,-193.75C1191.88,-193.75 954.62,-193.75 954.62,-193.75 948.62,-193.75 942.62,-187.75 942.62,-181.75 942.62,-181.75 942.62,-119 942.62,-119 942.62,-113 948.62,-107 954.62,-107 954.62,-107 1191.88,-107 1191.88,-107 1197.88,-107 1203.88,-113 1203.88,-119 1203.88,-119 1203.88,-181.75 1203.88,-181.75 1203.88,-187.75 1197.88,-193.75 1191.88,-193.75\"/>\n",
       "<text text-anchor=\"middle\" x=\"1073.25\" y=\"-176.45\" font-family=\"Helvetica,sans-Serif\" font-size=\"14.00\">distance_from_last_transaction &lt;= 1.139</text>\n",
       "<text text-anchor=\"middle\" x=\"1073.25\" y=\"-160.7\" font-family=\"Helvetica,sans-Serif\" font-size=\"14.00\">gini = 0.101</text>\n",
       "<text text-anchor=\"middle\" x=\"1073.25\" y=\"-144.95\" font-family=\"Helvetica,sans-Serif\" font-size=\"14.00\">samples = 12952</text>\n",
       "<text text-anchor=\"middle\" x=\"1073.25\" y=\"-129.2\" font-family=\"Helvetica,sans-Serif\" font-size=\"14.00\">value = [12260, 692]</text>\n",
       "<text text-anchor=\"middle\" x=\"1073.25\" y=\"-113.45\" font-family=\"Helvetica,sans-Serif\" font-size=\"14.00\">class = Não é fraude</text>\n",
       "</g>\n",
       "<!-- 9&#45;&gt;13 -->\n",
       "<g id=\"edge13\" class=\"edge\">\n",
       "<title>9&#45;&gt;13</title>\n",
       "<path fill=\"none\" stroke=\"black\" d=\"M1000.09,-229.55C1008.36,-220.72 1017.15,-211.32 1025.67,-202.22\"/>\n",
       "<polygon fill=\"black\" stroke=\"black\" points=\"1028.08,-204.77 1032.36,-195.07 1022.97,-199.98 1028.08,-204.77\"/>\n",
       "</g>\n",
       "<!-- 11 -->\n",
       "<g id=\"node12\" class=\"node\">\n",
       "<title>11</title>\n",
       "<path fill=\"#e78b49\" stroke=\"black\" d=\"M770.5,-71C770.5,-71 654,-71 654,-71 648,-71 642,-65 642,-59 642,-59 642,-12 642,-12 642,-6 648,0 654,0 654,0 770.5,0 770.5,0 776.5,0 782.5,-6 782.5,-12 782.5,-12 782.5,-59 782.5,-59 782.5,-65 776.5,-71 770.5,-71\"/>\n",
       "<text text-anchor=\"middle\" x=\"712.25\" y=\"-53.7\" font-family=\"Helvetica,sans-Serif\" font-size=\"14.00\">gini = 0.135</text>\n",
       "<text text-anchor=\"middle\" x=\"712.25\" y=\"-37.95\" font-family=\"Helvetica,sans-Serif\" font-size=\"14.00\">samples = 8709</text>\n",
       "<text text-anchor=\"middle\" x=\"712.25\" y=\"-22.2\" font-family=\"Helvetica,sans-Serif\" font-size=\"14.00\">value = [8075, 634]</text>\n",
       "<text text-anchor=\"middle\" x=\"712.25\" y=\"-6.45\" font-family=\"Helvetica,sans-Serif\" font-size=\"14.00\">class = Não é fraude</text>\n",
       "</g>\n",
       "<!-- 10&#45;&gt;11 -->\n",
       "<g id=\"edge11\" class=\"edge\">\n",
       "<title>10&#45;&gt;11</title>\n",
       "<path fill=\"none\" stroke=\"black\" d=\"M796.21,-106.7C785.14,-97.44 773.43,-87.65 762.39,-78.42\"/>\n",
       "<polygon fill=\"black\" stroke=\"black\" points=\"764.78,-75.86 754.86,-72.13 760.29,-81.23 764.78,-75.86\"/>\n",
       "</g>\n",
       "<!-- 12 -->\n",
       "<g id=\"node13\" class=\"node\">\n",
       "<title>12</title>\n",
       "<path fill=\"#3b9ee5\" stroke=\"black\" d=\"M942.25,-71C942.25,-71 812.25,-71 812.25,-71 806.25,-71 800.25,-65 800.25,-59 800.25,-59 800.25,-12 800.25,-12 800.25,-6 806.25,0 812.25,0 812.25,0 942.25,0 942.25,0 948.25,0 954.25,-6 954.25,-12 954.25,-12 954.25,-59 954.25,-59 954.25,-65 948.25,-71 942.25,-71\"/>\n",
       "<text text-anchor=\"middle\" x=\"877.25\" y=\"-53.7\" font-family=\"Helvetica,sans-Serif\" font-size=\"14.00\">gini = 0.02</text>\n",
       "<text text-anchor=\"middle\" x=\"877.25\" y=\"-37.95\" font-family=\"Helvetica,sans-Serif\" font-size=\"14.00\">samples = 147049</text>\n",
       "<text text-anchor=\"middle\" x=\"877.25\" y=\"-22.2\" font-family=\"Helvetica,sans-Serif\" font-size=\"14.00\">value = [1491, 145558]</text>\n",
       "<text text-anchor=\"middle\" x=\"877.25\" y=\"-6.45\" font-family=\"Helvetica,sans-Serif\" font-size=\"14.00\">class = Fraude</text>\n",
       "</g>\n",
       "<!-- 10&#45;&gt;12 -->\n",
       "<g id=\"edge12\" class=\"edge\">\n",
       "<title>10&#45;&gt;12</title>\n",
       "<path fill=\"none\" stroke=\"black\" d=\"M858.59,-106.7C860.74,-98.63 862.99,-90.16 865.15,-82.01\"/>\n",
       "<polygon fill=\"black\" stroke=\"black\" points=\"868.46,-83.18 867.65,-72.62 861.7,-81.39 868.46,-83.18\"/>\n",
       "</g>\n",
       "<!-- 14 -->\n",
       "<g id=\"node15\" class=\"node\">\n",
       "<title>14</title>\n",
       "<path fill=\"#e58139\" stroke=\"black\" d=\"M1100.5,-71C1100.5,-71 984,-71 984,-71 978,-71 972,-65 972,-59 972,-59 972,-12 972,-12 972,-6 978,0 984,0 984,0 1100.5,0 1100.5,0 1106.5,0 1112.5,-6 1112.5,-12 1112.5,-12 1112.5,-59 1112.5,-59 1112.5,-65 1106.5,-71 1100.5,-71\"/>\n",
       "<text text-anchor=\"middle\" x=\"1042.25\" y=\"-53.7\" font-family=\"Helvetica,sans-Serif\" font-size=\"14.00\">gini = 0.0</text>\n",
       "<text text-anchor=\"middle\" x=\"1042.25\" y=\"-37.95\" font-family=\"Helvetica,sans-Serif\" font-size=\"14.00\">samples = 12240</text>\n",
       "<text text-anchor=\"middle\" x=\"1042.25\" y=\"-22.2\" font-family=\"Helvetica,sans-Serif\" font-size=\"14.00\">value = [12240, 0]</text>\n",
       "<text text-anchor=\"middle\" x=\"1042.25\" y=\"-6.45\" font-family=\"Helvetica,sans-Serif\" font-size=\"14.00\">class = Não é fraude</text>\n",
       "</g>\n",
       "<!-- 13&#45;&gt;14 -->\n",
       "<g id=\"edge14\" class=\"edge\">\n",
       "<title>13&#45;&gt;14</title>\n",
       "<path fill=\"none\" stroke=\"black\" d=\"M1061.53,-106.7C1059.31,-98.63 1056.99,-90.16 1054.75,-82.01\"/>\n",
       "<polygon fill=\"black\" stroke=\"black\" points=\"1058.19,-81.33 1052.17,-72.62 1051.44,-83.19 1058.19,-81.33\"/>\n",
       "</g>\n",
       "<!-- 15 -->\n",
       "<g id=\"node16\" class=\"node\">\n",
       "<title>15</title>\n",
       "<path fill=\"#3fa0e6\" stroke=\"black\" d=\"M1235.5,-71C1235.5,-71 1143,-71 1143,-71 1137,-71 1131,-65 1131,-59 1131,-59 1131,-12 1131,-12 1131,-6 1137,0 1143,0 1143,0 1235.5,0 1235.5,0 1241.5,0 1247.5,-6 1247.5,-12 1247.5,-12 1247.5,-59 1247.5,-59 1247.5,-65 1241.5,-71 1235.5,-71\"/>\n",
       "<text text-anchor=\"middle\" x=\"1189.25\" y=\"-53.7\" font-family=\"Helvetica,sans-Serif\" font-size=\"14.00\">gini = 0.055</text>\n",
       "<text text-anchor=\"middle\" x=\"1189.25\" y=\"-37.95\" font-family=\"Helvetica,sans-Serif\" font-size=\"14.00\">samples = 712</text>\n",
       "<text text-anchor=\"middle\" x=\"1189.25\" y=\"-22.2\" font-family=\"Helvetica,sans-Serif\" font-size=\"14.00\">value = [20, 692]</text>\n",
       "<text text-anchor=\"middle\" x=\"1189.25\" y=\"-6.45\" font-family=\"Helvetica,sans-Serif\" font-size=\"14.00\">class = Fraude</text>\n",
       "</g>\n",
       "<!-- 13&#45;&gt;15 -->\n",
       "<g id=\"edge15\" class=\"edge\">\n",
       "<title>13&#45;&gt;15</title>\n",
       "<path fill=\"none\" stroke=\"black\" d=\"M1117.1,-106.7C1126.43,-97.62 1136.28,-88.04 1145.6,-78.97\"/>\n",
       "<polygon fill=\"black\" stroke=\"black\" points=\"1147.82,-81.7 1152.55,-72.21 1142.94,-76.68 1147.82,-81.7\"/>\n",
       "</g>\n",
       "<!-- 17 -->\n",
       "<g id=\"node18\" class=\"node\">\n",
       "<title>17</title>\n",
       "<path fill=\"#f1f8fd\" stroke=\"black\" d=\"M1623.62,-316.5C1623.62,-316.5 1486.88,-316.5 1486.88,-316.5 1480.88,-316.5 1474.88,-310.5 1474.88,-304.5 1474.88,-304.5 1474.88,-241.75 1474.88,-241.75 1474.88,-235.75 1480.88,-229.75 1486.88,-229.75 1486.88,-229.75 1623.62,-229.75 1623.62,-229.75 1629.62,-229.75 1635.62,-235.75 1635.62,-241.75 1635.62,-241.75 1635.62,-304.5 1635.62,-304.5 1635.62,-310.5 1629.62,-316.5 1623.62,-316.5\"/>\n",
       "<text text-anchor=\"middle\" x=\"1555.25\" y=\"-299.2\" font-family=\"Helvetica,sans-Serif\" font-size=\"14.00\">repeat_retailer &lt;= 0.351</text>\n",
       "<text text-anchor=\"middle\" x=\"1555.25\" y=\"-283.45\" font-family=\"Helvetica,sans-Serif\" font-size=\"14.00\">gini = 0.499</text>\n",
       "<text text-anchor=\"middle\" x=\"1555.25\" y=\"-267.7\" font-family=\"Helvetica,sans-Serif\" font-size=\"14.00\">samples = 52680</text>\n",
       "<text text-anchor=\"middle\" x=\"1555.25\" y=\"-251.95\" font-family=\"Helvetica,sans-Serif\" font-size=\"14.00\">value = [25403, 27277]</text>\n",
       "<text text-anchor=\"middle\" x=\"1555.25\" y=\"-236.2\" font-family=\"Helvetica,sans-Serif\" font-size=\"14.00\">class = Fraude</text>\n",
       "</g>\n",
       "<!-- 16&#45;&gt;17 -->\n",
       "<g id=\"edge17\" class=\"edge\">\n",
       "<title>16&#45;&gt;17</title>\n",
       "<path fill=\"none\" stroke=\"black\" d=\"M1555.25,-352.3C1555.25,-344.46 1555.25,-336.17 1555.25,-328.04\"/>\n",
       "<polygon fill=\"black\" stroke=\"black\" points=\"1558.75,-328.23 1555.25,-318.23 1551.75,-328.23 1558.75,-328.23\"/>\n",
       "</g>\n",
       "<!-- 24 -->\n",
       "<g id=\"node25\" class=\"node\">\n",
       "<title>24</title>\n",
       "<path fill=\"#3b9ee5\" stroke=\"black\" d=\"M1914.5,-316.5C1914.5,-316.5 1756,-316.5 1756,-316.5 1750,-316.5 1744,-310.5 1744,-304.5 1744,-304.5 1744,-241.75 1744,-241.75 1744,-235.75 1750,-229.75 1756,-229.75 1756,-229.75 1914.5,-229.75 1914.5,-229.75 1920.5,-229.75 1926.5,-235.75 1926.5,-241.75 1926.5,-241.75 1926.5,-304.5 1926.5,-304.5 1926.5,-310.5 1920.5,-316.5 1914.5,-316.5\"/>\n",
       "<text text-anchor=\"middle\" x=\"1835.25\" y=\"-299.2\" font-family=\"Helvetica,sans-Serif\" font-size=\"14.00\">used_pin_number &lt;= 4.109</text>\n",
       "<text text-anchor=\"middle\" x=\"1835.25\" y=\"-283.45\" font-family=\"Helvetica,sans-Serif\" font-size=\"14.00\">gini = 0.02</text>\n",
       "<text text-anchor=\"middle\" x=\"1835.25\" y=\"-267.7\" font-family=\"Helvetica,sans-Serif\" font-size=\"14.00\">samples = 517917</text>\n",
       "<text text-anchor=\"middle\" x=\"1835.25\" y=\"-251.95\" font-family=\"Helvetica,sans-Serif\" font-size=\"14.00\">value = [5199, 512718]</text>\n",
       "<text text-anchor=\"middle\" x=\"1835.25\" y=\"-236.2\" font-family=\"Helvetica,sans-Serif\" font-size=\"14.00\">class = Fraude</text>\n",
       "</g>\n",
       "<!-- 16&#45;&gt;24 -->\n",
       "<g id=\"edge24\" class=\"edge\">\n",
       "<title>16&#45;&gt;24</title>\n",
       "<path fill=\"none\" stroke=\"black\" d=\"M1636.24,-359.95C1666.55,-346.88 1701.38,-331.85 1733.35,-318.07\"/>\n",
       "<polygon fill=\"black\" stroke=\"black\" points=\"1734.43,-321.42 1742.23,-314.24 1731.66,-314.99 1734.43,-321.42\"/>\n",
       "</g>\n",
       "<!-- 18 -->\n",
       "<g id=\"node19\" class=\"node\">\n",
       "<title>18</title>\n",
       "<path fill=\"#48a4e7\" stroke=\"black\" d=\"M1527.5,-193.75C1527.5,-193.75 1405,-193.75 1405,-193.75 1399,-193.75 1393,-187.75 1393,-181.75 1393,-181.75 1393,-119 1393,-119 1393,-113 1399,-107 1405,-107 1405,-107 1527.5,-107 1527.5,-107 1533.5,-107 1539.5,-113 1539.5,-119 1539.5,-119 1539.5,-181.75 1539.5,-181.75 1539.5,-187.75 1533.5,-193.75 1527.5,-193.75\"/>\n",
       "<text text-anchor=\"middle\" x=\"1466.25\" y=\"-176.45\" font-family=\"Helvetica,sans-Serif\" font-size=\"14.00\">used_chip &lt;= 1.514</text>\n",
       "<text text-anchor=\"middle\" x=\"1466.25\" y=\"-160.7\" font-family=\"Helvetica,sans-Serif\" font-size=\"14.00\">gini = 0.128</text>\n",
       "<text text-anchor=\"middle\" x=\"1466.25\" y=\"-144.95\" font-family=\"Helvetica,sans-Serif\" font-size=\"14.00\">samples = 20960</text>\n",
       "<text text-anchor=\"middle\" x=\"1466.25\" y=\"-129.2\" font-family=\"Helvetica,sans-Serif\" font-size=\"14.00\">value = [1443, 19517]</text>\n",
       "<text text-anchor=\"middle\" x=\"1466.25\" y=\"-113.45\" font-family=\"Helvetica,sans-Serif\" font-size=\"14.00\">class = Fraude</text>\n",
       "</g>\n",
       "<!-- 17&#45;&gt;18 -->\n",
       "<g id=\"edge18\" class=\"edge\">\n",
       "<title>17&#45;&gt;18</title>\n",
       "<path fill=\"none\" stroke=\"black\" d=\"M1523.87,-229.55C1517.56,-220.99 1510.86,-211.89 1504.34,-203.06\"/>\n",
       "<polygon fill=\"black\" stroke=\"black\" points=\"1507.29,-201.16 1498.54,-195.19 1501.66,-205.31 1507.29,-201.16\"/>\n",
       "</g>\n",
       "<!-- 21 -->\n",
       "<g id=\"node22\" class=\"node\">\n",
       "<title>21</title>\n",
       "<path fill=\"#edaa79\" stroke=\"black\" d=\"M1739.12,-193.75C1739.12,-193.75 1569.38,-193.75 1569.38,-193.75 1563.38,-193.75 1557.38,-187.75 1557.38,-181.75 1557.38,-181.75 1557.38,-119 1557.38,-119 1557.38,-113 1563.38,-107 1569.38,-107 1569.38,-107 1739.12,-107 1739.12,-107 1745.12,-107 1751.12,-113 1751.12,-119 1751.12,-119 1751.12,-181.75 1751.12,-181.75 1751.12,-187.75 1745.12,-193.75 1739.12,-193.75\"/>\n",
       "<text text-anchor=\"middle\" x=\"1654.25\" y=\"-176.45\" font-family=\"Helvetica,sans-Serif\" font-size=\"14.00\">distance_from_home &lt;= 0.54</text>\n",
       "<text text-anchor=\"middle\" x=\"1654.25\" y=\"-160.7\" font-family=\"Helvetica,sans-Serif\" font-size=\"14.00\">gini = 0.37</text>\n",
       "<text text-anchor=\"middle\" x=\"1654.25\" y=\"-144.95\" font-family=\"Helvetica,sans-Serif\" font-size=\"14.00\">samples = 31720</text>\n",
       "<text text-anchor=\"middle\" x=\"1654.25\" y=\"-129.2\" font-family=\"Helvetica,sans-Serif\" font-size=\"14.00\">value = [23960, 7760]</text>\n",
       "<text text-anchor=\"middle\" x=\"1654.25\" y=\"-113.45\" font-family=\"Helvetica,sans-Serif\" font-size=\"14.00\">class = Não é fraude</text>\n",
       "</g>\n",
       "<!-- 17&#45;&gt;21 -->\n",
       "<g id=\"edge21\" class=\"edge\">\n",
       "<title>17&#45;&gt;21</title>\n",
       "<path fill=\"none\" stroke=\"black\" d=\"M1590.15,-229.55C1597.25,-220.9 1604.79,-211.7 1612.11,-202.78\"/>\n",
       "<polygon fill=\"black\" stroke=\"black\" points=\"1614.73,-205.09 1618.37,-195.14 1609.32,-200.65 1614.73,-205.09\"/>\n",
       "</g>\n",
       "<!-- 19 -->\n",
       "<g id=\"node20\" class=\"node\">\n",
       "<title>19</title>\n",
       "<path fill=\"#3b9ee5\" stroke=\"black\" d=\"M1392.75,-71C1392.75,-71 1277.75,-71 1277.75,-71 1271.75,-71 1265.75,-65 1265.75,-59 1265.75,-59 1265.75,-12 1265.75,-12 1265.75,-6 1271.75,0 1277.75,0 1277.75,0 1392.75,0 1392.75,0 1398.75,0 1404.75,-6 1404.75,-12 1404.75,-12 1404.75,-59 1404.75,-59 1404.75,-65 1398.75,-71 1392.75,-71\"/>\n",
       "<text text-anchor=\"middle\" x=\"1335.25\" y=\"-53.7\" font-family=\"Helvetica,sans-Serif\" font-size=\"14.00\">gini = 0.023</text>\n",
       "<text text-anchor=\"middle\" x=\"1335.25\" y=\"-37.95\" font-family=\"Helvetica,sans-Serif\" font-size=\"14.00\">samples = 19725</text>\n",
       "<text text-anchor=\"middle\" x=\"1335.25\" y=\"-22.2\" font-family=\"Helvetica,sans-Serif\" font-size=\"14.00\">value = [226, 19499]</text>\n",
       "<text text-anchor=\"middle\" x=\"1335.25\" y=\"-6.45\" font-family=\"Helvetica,sans-Serif\" font-size=\"14.00\">class = Fraude</text>\n",
       "</g>\n",
       "<!-- 18&#45;&gt;19 -->\n",
       "<g id=\"edge19\" class=\"edge\">\n",
       "<title>18&#45;&gt;19</title>\n",
       "<path fill=\"none\" stroke=\"black\" d=\"M1416.72,-106.7C1405.98,-97.44 1394.62,-87.65 1383.9,-78.42\"/>\n",
       "<polygon fill=\"black\" stroke=\"black\" points=\"1386.48,-76.02 1376.62,-72.15 1381.91,-81.32 1386.48,-76.02\"/>\n",
       "</g>\n",
       "<!-- 20 -->\n",
       "<g id=\"node21\" class=\"node\">\n",
       "<title>20</title>\n",
       "<path fill=\"#e5833c\" stroke=\"black\" d=\"M1551.5,-71C1551.5,-71 1435,-71 1435,-71 1429,-71 1423,-65 1423,-59 1423,-59 1423,-12 1423,-12 1423,-6 1429,0 1435,0 1435,0 1551.5,0 1551.5,0 1557.5,0 1563.5,-6 1563.5,-12 1563.5,-12 1563.5,-59 1563.5,-59 1563.5,-65 1557.5,-71 1551.5,-71\"/>\n",
       "<text text-anchor=\"middle\" x=\"1493.25\" y=\"-53.7\" font-family=\"Helvetica,sans-Serif\" font-size=\"14.00\">gini = 0.029</text>\n",
       "<text text-anchor=\"middle\" x=\"1493.25\" y=\"-37.95\" font-family=\"Helvetica,sans-Serif\" font-size=\"14.00\">samples = 1235</text>\n",
       "<text text-anchor=\"middle\" x=\"1493.25\" y=\"-22.2\" font-family=\"Helvetica,sans-Serif\" font-size=\"14.00\">value = [1217, 18]</text>\n",
       "<text text-anchor=\"middle\" x=\"1493.25\" y=\"-6.45\" font-family=\"Helvetica,sans-Serif\" font-size=\"14.00\">class = Não é fraude</text>\n",
       "</g>\n",
       "<!-- 18&#45;&gt;20 -->\n",
       "<g id=\"edge20\" class=\"edge\">\n",
       "<title>18&#45;&gt;20</title>\n",
       "<path fill=\"none\" stroke=\"black\" d=\"M1476.46,-106.7C1478.37,-98.72 1480.37,-90.36 1482.3,-82.29\"/>\n",
       "<polygon fill=\"black\" stroke=\"black\" points=\"1485.69,-83.17 1484.61,-72.63 1478.88,-81.54 1485.69,-83.17\"/>\n",
       "</g>\n",
       "<!-- 22 -->\n",
       "<g id=\"node23\" class=\"node\">\n",
       "<title>22</title>\n",
       "<path fill=\"#e68743\" stroke=\"black\" d=\"M1715.12,-71C1715.12,-71 1593.38,-71 1593.38,-71 1587.38,-71 1581.38,-65 1581.38,-59 1581.38,-59 1581.38,-12 1581.38,-12 1581.38,-6 1587.38,0 1593.38,0 1593.38,0 1715.12,0 1715.12,0 1721.12,0 1727.12,-6 1727.12,-12 1727.12,-12 1727.12,-59 1727.12,-59 1727.12,-65 1721.12,-71 1715.12,-71\"/>\n",
       "<text text-anchor=\"middle\" x=\"1654.25\" y=\"-53.7\" font-family=\"Helvetica,sans-Serif\" font-size=\"14.00\">gini = 0.09</text>\n",
       "<text text-anchor=\"middle\" x=\"1654.25\" y=\"-37.95\" font-family=\"Helvetica,sans-Serif\" font-size=\"14.00\">samples = 25000</text>\n",
       "<text text-anchor=\"middle\" x=\"1654.25\" y=\"-22.2\" font-family=\"Helvetica,sans-Serif\" font-size=\"14.00\">value = [23824, 1176]</text>\n",
       "<text text-anchor=\"middle\" x=\"1654.25\" y=\"-6.45\" font-family=\"Helvetica,sans-Serif\" font-size=\"14.00\">class = Não é fraude</text>\n",
       "</g>\n",
       "<!-- 21&#45;&gt;22 -->\n",
       "<g id=\"edge22\" class=\"edge\">\n",
       "<title>21&#45;&gt;22</title>\n",
       "<path fill=\"none\" stroke=\"black\" d=\"M1654.25,-106.7C1654.25,-98.82 1654.25,-90.55 1654.25,-82.57\"/>\n",
       "<polygon fill=\"black\" stroke=\"black\" points=\"1657.75,-82.67 1654.25,-72.67 1650.75,-82.67 1657.75,-82.67\"/>\n",
       "</g>\n",
       "<!-- 23 -->\n",
       "<g id=\"node24\" class=\"node\">\n",
       "<title>23</title>\n",
       "<path fill=\"#3d9fe6\" stroke=\"black\" d=\"M1865,-71C1865,-71 1757.5,-71 1757.5,-71 1751.5,-71 1745.5,-65 1745.5,-59 1745.5,-59 1745.5,-12 1745.5,-12 1745.5,-6 1751.5,0 1757.5,0 1757.5,0 1865,0 1865,0 1871,0 1877,-6 1877,-12 1877,-12 1877,-59 1877,-59 1877,-65 1871,-71 1865,-71\"/>\n",
       "<text text-anchor=\"middle\" x=\"1811.25\" y=\"-53.7\" font-family=\"Helvetica,sans-Serif\" font-size=\"14.00\">gini = 0.04</text>\n",
       "<text text-anchor=\"middle\" x=\"1811.25\" y=\"-37.95\" font-family=\"Helvetica,sans-Serif\" font-size=\"14.00\">samples = 6720</text>\n",
       "<text text-anchor=\"middle\" x=\"1811.25\" y=\"-22.2\" font-family=\"Helvetica,sans-Serif\" font-size=\"14.00\">value = [136, 6584]</text>\n",
       "<text text-anchor=\"middle\" x=\"1811.25\" y=\"-6.45\" font-family=\"Helvetica,sans-Serif\" font-size=\"14.00\">class = Fraude</text>\n",
       "</g>\n",
       "<!-- 21&#45;&gt;23 -->\n",
       "<g id=\"edge23\" class=\"edge\">\n",
       "<title>21&#45;&gt;23</title>\n",
       "<path fill=\"none\" stroke=\"black\" d=\"M1713.6,-106.7C1726.74,-97.26 1740.64,-87.27 1753.7,-77.87\"/>\n",
       "<polygon fill=\"black\" stroke=\"black\" points=\"1755.74,-80.72 1761.82,-72.04 1751.65,-75.04 1755.74,-80.72\"/>\n",
       "</g>\n",
       "<!-- 25 -->\n",
       "<g id=\"node26\" class=\"node\">\n",
       "<title>25</title>\n",
       "<path fill=\"#399de5\" stroke=\"black\" d=\"M1889,-185.88C1889,-185.88 1781.5,-185.88 1781.5,-185.88 1775.5,-185.88 1769.5,-179.88 1769.5,-173.88 1769.5,-173.88 1769.5,-126.88 1769.5,-126.88 1769.5,-120.88 1775.5,-114.88 1781.5,-114.88 1781.5,-114.88 1889,-114.88 1889,-114.88 1895,-114.88 1901,-120.88 1901,-126.88 1901,-126.88 1901,-173.88 1901,-173.88 1901,-179.88 1895,-185.88 1889,-185.88\"/>\n",
       "<text text-anchor=\"middle\" x=\"1835.25\" y=\"-168.57\" font-family=\"Helvetica,sans-Serif\" font-size=\"14.00\">gini = 0.0</text>\n",
       "<text text-anchor=\"middle\" x=\"1835.25\" y=\"-152.82\" font-family=\"Helvetica,sans-Serif\" font-size=\"14.00\">samples = 512333</text>\n",
       "<text text-anchor=\"middle\" x=\"1835.25\" y=\"-137.07\" font-family=\"Helvetica,sans-Serif\" font-size=\"14.00\">value = [0, 512333]</text>\n",
       "<text text-anchor=\"middle\" x=\"1835.25\" y=\"-121.33\" font-family=\"Helvetica,sans-Serif\" font-size=\"14.00\">class = Fraude</text>\n",
       "</g>\n",
       "<!-- 24&#45;&gt;25 -->\n",
       "<g id=\"edge25\" class=\"edge\">\n",
       "<title>24&#45;&gt;25</title>\n",
       "<path fill=\"none\" stroke=\"black\" d=\"M1835.25,-229.55C1835.25,-219.08 1835.25,-207.83 1835.25,-197.21\"/>\n",
       "<polygon fill=\"black\" stroke=\"black\" points=\"1838.75,-197.52 1835.25,-187.52 1831.75,-197.52 1838.75,-197.52\"/>\n",
       "</g>\n",
       "<!-- 26 -->\n",
       "<g id=\"node27\" class=\"node\">\n",
       "<title>26</title>\n",
       "<path fill=\"#e78a48\" stroke=\"black\" d=\"M2107.88,-193.75C2107.88,-193.75 1930.62,-193.75 1930.62,-193.75 1924.62,-193.75 1918.62,-187.75 1918.62,-181.75 1918.62,-181.75 1918.62,-119 1918.62,-119 1918.62,-113 1924.62,-107 1930.62,-107 1930.62,-107 2107.88,-107 2107.88,-107 2113.88,-107 2119.88,-113 2119.88,-119 2119.88,-119 2119.88,-181.75 2119.88,-181.75 2119.88,-187.75 2113.88,-193.75 2107.88,-193.75\"/>\n",
       "<text text-anchor=\"middle\" x=\"2019.25\" y=\"-176.45\" font-family=\"Helvetica,sans-Serif\" font-size=\"14.00\">distance_from_home &lt;= 0.543</text>\n",
       "<text text-anchor=\"middle\" x=\"2019.25\" y=\"-160.7\" font-family=\"Helvetica,sans-Serif\" font-size=\"14.00\">gini = 0.128</text>\n",
       "<text text-anchor=\"middle\" x=\"2019.25\" y=\"-144.95\" font-family=\"Helvetica,sans-Serif\" font-size=\"14.00\">samples = 5584</text>\n",
       "<text text-anchor=\"middle\" x=\"2019.25\" y=\"-129.2\" font-family=\"Helvetica,sans-Serif\" font-size=\"14.00\">value = [5199, 385]</text>\n",
       "<text text-anchor=\"middle\" x=\"2019.25\" y=\"-113.45\" font-family=\"Helvetica,sans-Serif\" font-size=\"14.00\">class = Não é fraude</text>\n",
       "</g>\n",
       "<!-- 24&#45;&gt;26 -->\n",
       "<g id=\"edge26\" class=\"edge\">\n",
       "<title>24&#45;&gt;26</title>\n",
       "<path fill=\"none\" stroke=\"black\" d=\"M1900.38,-229.38C1914.71,-219.98 1930,-209.95 1944.67,-200.32\"/>\n",
       "<polygon fill=\"black\" stroke=\"black\" points=\"1946.5,-203.3 1952.94,-194.89 1942.66,-197.45 1946.5,-203.3\"/>\n",
       "</g>\n",
       "<!-- 27 -->\n",
       "<g id=\"node28\" class=\"node\">\n",
       "<title>27</title>\n",
       "<path fill=\"#e6843d\" stroke=\"black\" d=\"M2050.5,-71C2050.5,-71 1934,-71 1934,-71 1928,-71 1922,-65 1922,-59 1922,-59 1922,-12 1922,-12 1922,-6 1928,0 1934,0 1934,0 2050.5,0 2050.5,0 2056.5,0 2062.5,-6 2062.5,-12 2062.5,-12 2062.5,-59 2062.5,-59 2062.5,-65 2056.5,-71 2050.5,-71\"/>\n",
       "<text text-anchor=\"middle\" x=\"1992.25\" y=\"-53.7\" font-family=\"Helvetica,sans-Serif\" font-size=\"14.00\">gini = 0.041</text>\n",
       "<text text-anchor=\"middle\" x=\"1992.25\" y=\"-37.95\" font-family=\"Helvetica,sans-Serif\" font-size=\"14.00\">samples = 5208</text>\n",
       "<text text-anchor=\"middle\" x=\"1992.25\" y=\"-22.2\" font-family=\"Helvetica,sans-Serif\" font-size=\"14.00\">value = [5100, 108]</text>\n",
       "<text text-anchor=\"middle\" x=\"1992.25\" y=\"-6.45\" font-family=\"Helvetica,sans-Serif\" font-size=\"14.00\">class = Não é fraude</text>\n",
       "</g>\n",
       "<!-- 26&#45;&gt;27 -->\n",
       "<g id=\"edge27\" class=\"edge\">\n",
       "<title>26&#45;&gt;27</title>\n",
       "<path fill=\"none\" stroke=\"black\" d=\"M2009.04,-106.7C2007.13,-98.72 2005.13,-90.36 2003.2,-82.29\"/>\n",
       "<polygon fill=\"black\" stroke=\"black\" points=\"2006.62,-81.54 2000.89,-72.63 1999.81,-83.17 2006.62,-81.54\"/>\n",
       "</g>\n",
       "<!-- 28 -->\n",
       "<g id=\"node29\" class=\"node\">\n",
       "<title>28</title>\n",
       "<path fill=\"#80c0ee\" stroke=\"black\" d=\"M2207.75,-71C2207.75,-71 2092.75,-71 2092.75,-71 2086.75,-71 2080.75,-65 2080.75,-59 2080.75,-59 2080.75,-12 2080.75,-12 2080.75,-6 2086.75,0 2092.75,0 2092.75,0 2207.75,0 2207.75,0 2213.75,0 2219.75,-6 2219.75,-12 2219.75,-12 2219.75,-59 2219.75,-59 2219.75,-65 2213.75,-71 2207.75,-71\"/>\n",
       "<text text-anchor=\"middle\" x=\"2150.25\" y=\"-53.7\" font-family=\"Helvetica,sans-Serif\" font-size=\"14.00\">gini = 0.388</text>\n",
       "<text text-anchor=\"middle\" x=\"2150.25\" y=\"-37.95\" font-family=\"Helvetica,sans-Serif\" font-size=\"14.00\">samples = 376</text>\n",
       "<text text-anchor=\"middle\" x=\"2150.25\" y=\"-22.2\" font-family=\"Helvetica,sans-Serif\" font-size=\"14.00\">value = [99.0, 277.0]</text>\n",
       "<text text-anchor=\"middle\" x=\"2150.25\" y=\"-6.45\" font-family=\"Helvetica,sans-Serif\" font-size=\"14.00\">class = Fraude</text>\n",
       "</g>\n",
       "<!-- 26&#45;&gt;28 -->\n",
       "<g id=\"edge28\" class=\"edge\">\n",
       "<title>26&#45;&gt;28</title>\n",
       "<path fill=\"none\" stroke=\"black\" d=\"M2068.78,-106.7C2079.52,-97.44 2090.88,-87.65 2101.6,-78.42\"/>\n",
       "<polygon fill=\"black\" stroke=\"black\" points=\"2103.59,-81.32 2108.88,-72.15 2099.02,-76.02 2103.59,-81.32\"/>\n",
       "</g>\n",
       "</g>\n",
       "</svg>\n"
      ],
      "text/plain": [
       "<graphviz.sources.Source at 0x1eec0e51250>"
      ]
     },
     "execution_count": 425,
     "metadata": {},
     "output_type": "execute_result"
    }
   ],
   "source": [
    "from sklearn.tree import export_graphviz\n",
    "import graphviz\n",
    "\n",
    "dot = export_graphviz(\n",
    "    tree, feature_names=X.columns, class_names=[\"Não é fraude\", \"Fraude\"],\n",
    "    filled=True, rounded=True)\n",
    "graphviz.Source(dot)"
   ]
  },
  {
   "cell_type": "markdown",
   "metadata": {
    "id": "mAwhi7NOJHdB"
   },
   "source": [
    "A árvore ficou grande, é assim mesmo. Mas caso fosse necessário **diminui-la**, poderíamos mexer na:\n",
    "- profundidade (**max_depth**);\n",
    "- quantidade mínima de amostras para criar uma folha (**min_samples_leaf**)\n",
    "- quantidade mínima de amostras para dividir um nó (**min_samples_split**)\n",
    "\n",
    "Porém, deve-se mexer com cuidado para não perder eficiência."
   ]
  },
  {
   "cell_type": "markdown",
   "metadata": {
    "id": "qlSuKeZ38cJ2"
   },
   "source": [
    "<br>Vejamos se conseguimos um modelo ainda melhor:"
   ]
  },
  {
   "cell_type": "markdown",
   "metadata": {
    "id": "qbZo77s5lChv"
   },
   "source": [
    "## RandomForest\n",
    "\n",
    "\"Floresta de árvores\", usa várias DecisionTrees (por padrão 100) para chegar a um resultado final.\n",
    "\n",
    "Esse modelo costuma ser mais robusto, **mais preciso** e evita o overfitting, porém é bem **mais lento**."
   ]
  },
  {
   "cell_type": "code",
   "execution_count": 429,
   "metadata": {
    "colab": {
     "base_uri": "https://localhost:8080/",
     "height": 571
    },
    "id": "Idu5XKqwj_wD",
    "outputId": "b0ee0edd-d99e-42de-85e7-6004d339f09d"
   },
   "outputs": [
    {
     "name": "stdout",
     "output_type": "stream",
     "text": [
      "===== TEMPO DE EXECUÇÃO =====\n",
      "00h 00m 49s\n",
      "\n",
      "===== RESULTADOS =====\n",
      "Acurácia: 99.85%\n",
      "Sensibilidade: 99.81%\n",
      "Precisão: 98.55%\n",
      "F1 score: 99.17%\n",
      "Curva ROC: 99.83%\n",
      "\n",
      "===== MATRIZ DE CONFUSÃO =====\n"
     ]
    },
    {
     "data": {
      "image/png": "[encoded data removed]",
      "text/plain": [
       "<Figure size 640x480 with 2 Axes>"
      ]
     },
     "metadata": {},
     "output_type": "display_data"
    }
   ],
   "source": [
    "from sklearn.ensemble import RandomForestClassifier\n",
    "\n",
    "rf = RandomForestClassifier(max_depth=4, random_state=SEED, n_jobs=-1)\n",
    "# n_jobs=-1 para paralelizar e agilizar o processo, usando todos os\n",
    "# núcleos disponíveis. Usar com cautela.\n",
    "\n",
    "start_time = time.time()\n",
    "rf.fit(X_train_res_scaled, y_train_res)\n",
    "y_pred = rf.predict(X_test_scaled)\n",
    "tempo_execucao(start_time)\n",
    "\n",
    "resultados(y_test, y_pred, matriz=True)"
   ]
  },
  {
   "cell_type": "markdown",
   "metadata": {
    "id": "33q_G2IWn1Ci"
   },
   "source": [
    "Apesar da lentidão, conseguiu se sair ainda melhor, entregando **70% menos falsos negativos** que a DecisionTree (fraudes não detectadas caíram de 114 para 34 (-80)).\n",
    "\n",
    "Vejamos se conseguimos resultados ainda melhores refinando os hiperparâmetros:"
   ]
  },
  {
   "cell_type": "markdown",
   "metadata": {
    "id": "j7CmYDGvmhDS"
   },
   "source": [
    "## RandomSearchCV\n",
    "\n",
    "- Ajuda a encontrar os **melhores hiperparâmetros** para otimizar o modelo;\n",
    "- Porém, normalmente **demora muito**, ainda mais quando há muitos hiperparâmetros para testar. Por isso é necessário escolhermos o número de iterações/combinações de hiperparâmetros para testar aleatoriamente;\n",
    "- Por padrão é feita uma **Validação Cruzada** de 5-folds, que divide os dados em treino/teste de 5 formas diferentes, testando cada cenário (dobra). Assim evita o enviesamento de uma única divisão ruim que ocasionalmente possamos fazer no holdout;\n",
    "- Usaremos **Pipeline** para que o Overfitting e a Padronização com StandardScaler sejam aplicados somente nos dados de teste de cada cenário (dobra) da validação cruzada.\n",
    "\n",
    "Observações:\n",
    "- É uma versão do GridSearchCV, que testa todos os hiperparâmetros fornecidos, porém demora muito mais;\n",
    "- O ideal seria testarmos todas as combinações de hiperparâmetros para otimizarmos nosso modelo ao máximo. Porém, isso vai depender do custo computacional e se há tempo disponível para aguardar o processamento;"
   ]
  },
  {
   "cell_type": "code",
   "execution_count": 568,
   "metadata": {
    "colab": {
     "background_save": true,
     "base_uri": "https://localhost:8080/"
    },
    "id": "SVVwDdvBrC_K",
    "outputId": "54bea56e-c5b3-4213-9de9-5e380b1140d3"
   },
   "outputs": [
    {
     "name": "stdout",
     "output_type": "stream",
     "text": [
      "===== TEMPO DE EXECUÇÃO =====\n",
      "01h 13m 18s\n",
      "\n"
     ]
    }
   ],
   "source": [
    "from sklearn.model_selection import RandomizedSearchCV\n",
    "from imblearn.pipeline import Pipeline\n",
    "# Pipeline da imblearn permite inserir o SMOTE, diferente da sklearn\n",
    "\n",
    "pipeline = Pipeline([\n",
    "    (\"smote\", SMOTE(random_state=SEED)),\n",
    "    (\"scaler\", StandardScaler()),\n",
    "    (\"modelo\", RandomForestClassifier(random_state=SEED, n_jobs=-1)),\n",
    "    ])\n",
    "parametros = {\n",
    "    \"modelo__criterion\": [\"gini\", \"entropy\", \"log_loss\"],\n",
    "    \"modelo__max_depth\": range(4, 11),\n",
    "    \"modelo__bootstrap\": [True, False],\n",
    "    }\n",
    "scoring = [\"recall\", \"precision\", \"f1\"]\n",
    "search = RandomizedSearchCV(\n",
    "    pipeline,\n",
    "    parametros,\n",
    "    scoring=scoring,\n",
    "    cv=3,  # 3 em vez de 5 para ser mais rápido\n",
    "    n_iter=20,\n",
    "    refit=\"f1\",\n",
    "    n_jobs=-1,\n",
    "    random_state=SEED,\n",
    "    )\n",
    "\n",
    "ctypes.windll.kernel32.SetThreadExecutionState(0x80000001)\n",
    "# Para o sistema não hibernar\n",
    "start_time = time.time()\n",
    "search.fit(X, y);\n",
    "tempo_execucao(start_time)\n",
    "ctypes.windll.kernel32.SetThreadExecutionState(0x80000000);\n",
    "# Voltando a configuração padrão de hibernação"
   ]
  },
  {
   "cell_type": "markdown",
   "metadata": {},
   "source": [
    "Salvar para não perdermos esse processamento de horas:"
   ]
  },
  {
   "cell_type": "code",
   "execution_count": 693,
   "metadata": {},
   "outputs": [
    {
     "data": {
      "text/plain": [
       "['search.pkl']"
      ]
     },
     "execution_count": 693,
     "metadata": {},
     "output_type": "execute_result"
    }
   ],
   "source": [
    "import joblib\n",
    "\n",
    "joblib.dump(search, \"search.pkl\")"
   ]
  },
  {
   "cell_type": "code",
   "execution_count": 691,
   "metadata": {},
   "outputs": [
    {
     "data": {
      "text/html": [
       "<div>\n",
       "<style scoped>\n",
       "    .dataframe tbody tr th:only-of-type {\n",
       "        vertical-align: middle;\n",
       "    }\n",
       "\n",
       "    .dataframe tbody tr th {\n",
       "        vertical-align: top;\n",
       "    }\n",
       "\n",
       "    .dataframe thead th {\n",
       "        text-align: right;\n",
       "    }\n",
       "</style>\n",
       "<table border=\"1\" class=\"dataframe\">\n",
       "  <thead>\n",
       "    <tr style=\"text-align: right;\">\n",
       "      <th></th>\n",
       "      <th>mean_test_recall</th>\n",
       "      <th>mean_test_precision</th>\n",
       "      <th>mean_test_f1</th>\n",
       "      <th>rank_test_recall</th>\n",
       "      <th>rank_test_precision</th>\n",
       "      <th>rank_test_f1</th>\n",
       "      <th>param_modelo__criterion</th>\n",
       "      <th>param_modelo__max_depth</th>\n",
       "      <th>param_modelo__bootstrap</th>\n",
       "    </tr>\n",
       "  </thead>\n",
       "  <tbody>\n",
       "    <tr>\n",
       "      <th>0</th>\n",
       "      <td>0.999886</td>\n",
       "      <td>1.0</td>\n",
       "      <td>0.999943</td>\n",
       "      <td>1</td>\n",
       "      <td>1</td>\n",
       "      <td>1</td>\n",
       "      <td>entropy</td>\n",
       "      <td>10</td>\n",
       "      <td>False</td>\n",
       "    </tr>\n",
       "    <tr>\n",
       "      <th>1</th>\n",
       "      <td>0.999886</td>\n",
       "      <td>1.0</td>\n",
       "      <td>0.999943</td>\n",
       "      <td>2</td>\n",
       "      <td>1</td>\n",
       "      <td>2</td>\n",
       "      <td>entropy</td>\n",
       "      <td>10</td>\n",
       "      <td>True</td>\n",
       "    </tr>\n",
       "    <tr>\n",
       "      <th>2</th>\n",
       "      <td>0.999886</td>\n",
       "      <td>1.0</td>\n",
       "      <td>0.999943</td>\n",
       "      <td>2</td>\n",
       "      <td>1</td>\n",
       "      <td>2</td>\n",
       "      <td>log_loss</td>\n",
       "      <td>10</td>\n",
       "      <td>True</td>\n",
       "    </tr>\n",
       "    <tr>\n",
       "      <th>3</th>\n",
       "      <td>0.999863</td>\n",
       "      <td>1.0</td>\n",
       "      <td>0.999931</td>\n",
       "      <td>4</td>\n",
       "      <td>1</td>\n",
       "      <td>4</td>\n",
       "      <td>log_loss</td>\n",
       "      <td>8</td>\n",
       "      <td>False</td>\n",
       "    </tr>\n",
       "    <tr>\n",
       "      <th>4</th>\n",
       "      <td>0.999863</td>\n",
       "      <td>1.0</td>\n",
       "      <td>0.999931</td>\n",
       "      <td>4</td>\n",
       "      <td>1</td>\n",
       "      <td>4</td>\n",
       "      <td>entropy</td>\n",
       "      <td>8</td>\n",
       "      <td>False</td>\n",
       "    </tr>\n",
       "    <tr>\n",
       "      <th>5</th>\n",
       "      <td>0.999863</td>\n",
       "      <td>1.0</td>\n",
       "      <td>0.999931</td>\n",
       "      <td>6</td>\n",
       "      <td>1</td>\n",
       "      <td>6</td>\n",
       "      <td>log_loss</td>\n",
       "      <td>7</td>\n",
       "      <td>True</td>\n",
       "    </tr>\n",
       "    <tr>\n",
       "      <th>6</th>\n",
       "      <td>0.999863</td>\n",
       "      <td>1.0</td>\n",
       "      <td>0.999931</td>\n",
       "      <td>7</td>\n",
       "      <td>1</td>\n",
       "      <td>7</td>\n",
       "      <td>log_loss</td>\n",
       "      <td>8</td>\n",
       "      <td>True</td>\n",
       "    </tr>\n",
       "    <tr>\n",
       "      <th>7</th>\n",
       "      <td>0.999851</td>\n",
       "      <td>1.0</td>\n",
       "      <td>0.999926</td>\n",
       "      <td>8</td>\n",
       "      <td>1</td>\n",
       "      <td>8</td>\n",
       "      <td>entropy</td>\n",
       "      <td>7</td>\n",
       "      <td>False</td>\n",
       "    </tr>\n",
       "    <tr>\n",
       "      <th>8</th>\n",
       "      <td>0.999851</td>\n",
       "      <td>1.0</td>\n",
       "      <td>0.999926</td>\n",
       "      <td>8</td>\n",
       "      <td>1</td>\n",
       "      <td>8</td>\n",
       "      <td>log_loss</td>\n",
       "      <td>7</td>\n",
       "      <td>False</td>\n",
       "    </tr>\n",
       "    <tr>\n",
       "      <th>9</th>\n",
       "      <td>0.999851</td>\n",
       "      <td>1.0</td>\n",
       "      <td>0.999926</td>\n",
       "      <td>10</td>\n",
       "      <td>1</td>\n",
       "      <td>10</td>\n",
       "      <td>gini</td>\n",
       "      <td>9</td>\n",
       "      <td>True</td>\n",
       "    </tr>\n",
       "    <tr>\n",
       "      <th>10</th>\n",
       "      <td>0.999828</td>\n",
       "      <td>1.0</td>\n",
       "      <td>0.999914</td>\n",
       "      <td>11</td>\n",
       "      <td>1</td>\n",
       "      <td>11</td>\n",
       "      <td>gini</td>\n",
       "      <td>7</td>\n",
       "      <td>False</td>\n",
       "    </tr>\n",
       "    <tr>\n",
       "      <th>11</th>\n",
       "      <td>0.999817</td>\n",
       "      <td>0.999966</td>\n",
       "      <td>0.999891</td>\n",
       "      <td>12</td>\n",
       "      <td>16</td>\n",
       "      <td>12</td>\n",
       "      <td>entropy</td>\n",
       "      <td>6</td>\n",
       "      <td>False</td>\n",
       "    </tr>\n",
       "    <tr>\n",
       "      <th>12</th>\n",
       "      <td>0.999783</td>\n",
       "      <td>0.999977</td>\n",
       "      <td>0.99988</td>\n",
       "      <td>13</td>\n",
       "      <td>15</td>\n",
       "      <td>13</td>\n",
       "      <td>entropy</td>\n",
       "      <td>6</td>\n",
       "      <td>True</td>\n",
       "    </tr>\n",
       "    <tr>\n",
       "      <th>13</th>\n",
       "      <td>0.99968</td>\n",
       "      <td>1.0</td>\n",
       "      <td>0.99984</td>\n",
       "      <td>14</td>\n",
       "      <td>1</td>\n",
       "      <td>14</td>\n",
       "      <td>gini</td>\n",
       "      <td>6</td>\n",
       "      <td>True</td>\n",
       "    </tr>\n",
       "    <tr>\n",
       "      <th>14</th>\n",
       "      <td>0.998124</td>\n",
       "      <td>1.0</td>\n",
       "      <td>0.999061</td>\n",
       "      <td>15</td>\n",
       "      <td>1</td>\n",
       "      <td>15</td>\n",
       "      <td>log_loss</td>\n",
       "      <td>5</td>\n",
       "      <td>False</td>\n",
       "    </tr>\n",
       "    <tr>\n",
       "      <th>15</th>\n",
       "      <td>0.998124</td>\n",
       "      <td>1.0</td>\n",
       "      <td>0.999061</td>\n",
       "      <td>15</td>\n",
       "      <td>1</td>\n",
       "      <td>15</td>\n",
       "      <td>entropy</td>\n",
       "      <td>5</td>\n",
       "      <td>False</td>\n",
       "    </tr>\n",
       "    <tr>\n",
       "      <th>16</th>\n",
       "      <td>0.997506</td>\n",
       "      <td>0.999908</td>\n",
       "      <td>0.998705</td>\n",
       "      <td>17</td>\n",
       "      <td>17</td>\n",
       "      <td>17</td>\n",
       "      <td>log_loss</td>\n",
       "      <td>5</td>\n",
       "      <td>True</td>\n",
       "    </tr>\n",
       "    <tr>\n",
       "      <th>17</th>\n",
       "      <td>0.996453</td>\n",
       "      <td>0.992488</td>\n",
       "      <td>0.994455</td>\n",
       "      <td>18</td>\n",
       "      <td>18</td>\n",
       "      <td>18</td>\n",
       "      <td>gini</td>\n",
       "      <td>5</td>\n",
       "      <td>False</td>\n",
       "    </tr>\n",
       "    <tr>\n",
       "      <th>18</th>\n",
       "      <td>0.993421</td>\n",
       "      <td>0.987603</td>\n",
       "      <td>0.990503</td>\n",
       "      <td>20</td>\n",
       "      <td>19</td>\n",
       "      <td>19</td>\n",
       "      <td>gini</td>\n",
       "      <td>5</td>\n",
       "      <td>True</td>\n",
       "    </tr>\n",
       "    <tr>\n",
       "      <th>19</th>\n",
       "      <td>0.996156</td>\n",
       "      <td>0.984744</td>\n",
       "      <td>0.990416</td>\n",
       "      <td>19</td>\n",
       "      <td>20</td>\n",
       "      <td>20</td>\n",
       "      <td>gini</td>\n",
       "      <td>4</td>\n",
       "      <td>False</td>\n",
       "    </tr>\n",
       "  </tbody>\n",
       "</table>\n",
       "</div>"
      ],
      "text/plain": [
       "    mean_test_recall  mean_test_precision  mean_test_f1  rank_test_recall  \\\n",
       "0           0.999886                  1.0      0.999943                 1   \n",
       "1           0.999886                  1.0      0.999943                 2   \n",
       "2           0.999886                  1.0      0.999943                 2   \n",
       "3           0.999863                  1.0      0.999931                 4   \n",
       "4           0.999863                  1.0      0.999931                 4   \n",
       "5           0.999863                  1.0      0.999931                 6   \n",
       "6           0.999863                  1.0      0.999931                 7   \n",
       "7           0.999851                  1.0      0.999926                 8   \n",
       "8           0.999851                  1.0      0.999926                 8   \n",
       "9           0.999851                  1.0      0.999926                10   \n",
       "10          0.999828                  1.0      0.999914                11   \n",
       "11          0.999817             0.999966      0.999891                12   \n",
       "12          0.999783             0.999977       0.99988                13   \n",
       "13           0.99968                  1.0       0.99984                14   \n",
       "14          0.998124                  1.0      0.999061                15   \n",
       "15          0.998124                  1.0      0.999061                15   \n",
       "16          0.997506             0.999908      0.998705                17   \n",
       "17          0.996453             0.992488      0.994455                18   \n",
       "18          0.993421             0.987603      0.990503                20   \n",
       "19          0.996156             0.984744      0.990416                19   \n",
       "\n",
       "    rank_test_precision  rank_test_f1 param_modelo__criterion  \\\n",
       "0                     1             1                 entropy   \n",
       "1                     1             2                 entropy   \n",
       "2                     1             2                log_loss   \n",
       "3                     1             4                log_loss   \n",
       "4                     1             4                 entropy   \n",
       "5                     1             6                log_loss   \n",
       "6                     1             7                log_loss   \n",
       "7                     1             8                 entropy   \n",
       "8                     1             8                log_loss   \n",
       "9                     1            10                    gini   \n",
       "10                    1            11                    gini   \n",
       "11                   16            12                 entropy   \n",
       "12                   15            13                 entropy   \n",
       "13                    1            14                    gini   \n",
       "14                    1            15                log_loss   \n",
       "15                    1            15                 entropy   \n",
       "16                   17            17                log_loss   \n",
       "17                   18            18                    gini   \n",
       "18                   19            19                    gini   \n",
       "19                   20            20                    gini   \n",
       "\n",
       "    param_modelo__max_depth  param_modelo__bootstrap  \n",
       "0                        10                    False  \n",
       "1                        10                     True  \n",
       "2                        10                     True  \n",
       "3                         8                    False  \n",
       "4                         8                    False  \n",
       "5                         7                     True  \n",
       "6                         8                     True  \n",
       "7                         7                    False  \n",
       "8                         7                    False  \n",
       "9                         9                     True  \n",
       "10                        7                    False  \n",
       "11                        6                    False  \n",
       "12                        6                     True  \n",
       "13                        6                     True  \n",
       "14                        5                    False  \n",
       "15                        5                    False  \n",
       "16                        5                     True  \n",
       "17                        5                    False  \n",
       "18                        5                     True  \n",
       "19                        4                    False  "
      ]
     },
     "execution_count": 691,
     "metadata": {},
     "output_type": "execute_result"
    }
   ],
   "source": [
    "pd.DataFrame(search.cv_results_).round(6).sort_values(\n",
    "    [\"rank_test_f1\", \"rank_test_recall\", \"rank_test_precision\"]\n",
    "    )[[\n",
    "        \"mean_test_recall\",\n",
    "        \"mean_test_precision\",\n",
    "        \"mean_test_f1\",\n",
    "        \"rank_test_recall\",\n",
    "        \"rank_test_precision\",\n",
    "        \"rank_test_f1\",\n",
    "        \"param_modelo__criterion\",\n",
    "        \"param_modelo__max_depth\",\n",
    "        \"param_modelo__bootstrap\",\n",
    "    ]].reset_index(drop=True)"
   ]
  },
  {
   "cell_type": "markdown",
   "metadata": {
    "id": "wKrFZE_iAB0S"
   },
   "source": [
    "Olhando a coluna mean_test_f1, há uma **diferença muito pequena** entre os 11 primeiros modelos (da linha 0 a 10), nos quais o hiperparâmetro max_depth é maior ou igual a 7, fazendo os modelos terem desempenhos quase iguais entre si.\n",
    "\n",
    "A princípio, poderíamos usar o modelo mais simples deles, com os hiperparâmetros menos complexos. Porém, como estamos tratando de fraude bancária, **é muito importante identificarmos o máximo de fraudes possíveis**. Cada fraude não identificada é um cliente sendo roubado e uma grande dor de cabeça para a instituição, que pode ser processada, sair noticiário na TV e perder reputação.\n",
    "\n",
    "Então, por exemplo, apesar da sensibilidade (mean_test_recall) das linhas 2 e 3 parecerem iguais (99,9886% e 99,9863%, diferença de apenas 0,0023%), se considerarmos um cenário de 100 milhões de transações por dia, é uma diferença de **2.300 fraudes não identificadas por dia**. Só para termos um comparativo, as transações Pix no Brasil chegaram a bater recorde de 224 milhões de transações por dia em 2024 (fonte: [Agência Brasil](https://agenciabrasil.ebc.com.br/economia/noticia/2024-07/pix-bate-recorde-e-supera-224-milhoes-de-transacoes-em-um-dia)).\n",
    "\n",
    "Logo, é importante sempre contextualizarmos esses números percentuais para o cenário do negócio que estamos trabalhando, para o impacto crítico que podem causar."
   ]
  },
  {
   "cell_type": "markdown",
   "metadata": {
    "id": "TJsszfIYKi4f"
   },
   "source": [
    "### Hiperparâmetros do melhor modelo"
   ]
  },
  {
   "cell_type": "code",
   "execution_count": 110,
   "metadata": {},
   "outputs": [],
   "source": [
    "import joblib\n",
    "\n",
    "search = joblib.load(\"search.pkl\")"
   ]
  },
  {
   "cell_type": "code",
   "execution_count": 571,
   "metadata": {},
   "outputs": [
    {
     "data": {
      "text/plain": [
       "{'modelo__max_depth': 10,\n",
       " 'modelo__criterion': 'entropy',\n",
       " 'modelo__bootstrap': False}"
      ]
     },
     "execution_count": 571,
     "metadata": {},
     "output_type": "execute_result"
    }
   ],
   "source": [
    "search.best_params_"
   ]
  },
  {
   "cell_type": "markdown",
   "metadata": {
    "id": "jBu1qfon4rxM"
   },
   "source": [
    "Encontrado o melhor modelo, faremos a **Validação Cruzada Aninhada** para obtermos resultados mais realistas, não tão otimistas:"
   ]
  },
  {
   "cell_type": "code",
   "execution_count": 673,
   "metadata": {},
   "outputs": [
    {
     "name": "stdout",
     "output_type": "stream",
     "text": [
      "===== TEMPO DE EXECUÇÃO =====\n",
      "02h 16m 17s\n",
      "\n"
     ]
    }
   ],
   "source": [
    "from sklearn.model_selection import cross_validate\n",
    "import ctypes\n",
    "\n",
    "ctypes.windll.kernel32.SetThreadExecutionState(0x80000001)\n",
    "start_time = time.time()\n",
    "final_scores = cross_validate(search, X, y, cv=3, scoring=scoring, n_jobs=-1)\n",
    "tempo_execucao(start_time)\n",
    "ctypes.windll.kernel32.SetThreadExecutionState(0x80000000);"
   ]
  },
  {
   "cell_type": "code",
   "execution_count": 695,
   "metadata": {},
   "outputs": [
    {
     "data": {
      "text/html": [
       "<div>\n",
       "<style scoped>\n",
       "    .dataframe tbody tr th:only-of-type {\n",
       "        vertical-align: middle;\n",
       "    }\n",
       "\n",
       "    .dataframe tbody tr th {\n",
       "        vertical-align: top;\n",
       "    }\n",
       "\n",
       "    .dataframe thead th {\n",
       "        text-align: right;\n",
       "    }\n",
       "</style>\n",
       "<table border=\"1\" class=\"dataframe\">\n",
       "  <thead>\n",
       "    <tr style=\"text-align: right;\">\n",
       "      <th></th>\n",
       "      <th>fit_time</th>\n",
       "      <th>score_time</th>\n",
       "      <th>test_recall</th>\n",
       "      <th>test_precision</th>\n",
       "      <th>test_f1</th>\n",
       "    </tr>\n",
       "  </thead>\n",
       "  <tbody>\n",
       "    <tr>\n",
       "      <th>0</th>\n",
       "      <td>8,161.063084602356</td>\n",
       "      <td>1.4099433422088623</td>\n",
       "      <td>0.9998627080830617</td>\n",
       "      <td>1.0</td>\n",
       "      <td>0.9999313493289397</td>\n",
       "    </tr>\n",
       "    <tr>\n",
       "      <th>1</th>\n",
       "      <td>8,150.825265169144</td>\n",
       "      <td>3.7842421531677246</td>\n",
       "      <td>0.9999313516853161</td>\n",
       "      <td>1.0</td>\n",
       "      <td>0.9999656746644698</td>\n",
       "    </tr>\n",
       "    <tr>\n",
       "      <th>2</th>\n",
       "      <td>8,141.485084295273</td>\n",
       "      <td>6.3436994552612305</td>\n",
       "      <td>0.9998627033706322</td>\n",
       "      <td>1.0</td>\n",
       "      <td>0.9999313469724015</td>\n",
       "    </tr>\n",
       "  </tbody>\n",
       "</table>\n",
       "</div>"
      ],
      "text/plain": [
       "            fit_time         score_time        test_recall  test_precision  \\\n",
       "0 8,161.063084602356 1.4099433422088623 0.9998627080830617             1.0   \n",
       "1 8,150.825265169144 3.7842421531677246 0.9999313516853161             1.0   \n",
       "2 8,141.485084295273 6.3436994552612305 0.9998627033706322             1.0   \n",
       "\n",
       "             test_f1  \n",
       "0 0.9999313493289397  \n",
       "1 0.9999656746644698  \n",
       "2 0.9999313469724015  "
      ]
     },
     "execution_count": 695,
     "metadata": {},
     "output_type": "execute_result"
    }
   ],
   "source": [
    "final_scores = pd.DataFrame(final_scores)\n",
    "final_scores"
   ]
  },
  {
   "cell_type": "code",
   "execution_count": 697,
   "metadata": {},
   "outputs": [
    {
     "data": {
      "text/plain": [
       "['final_scores.pkl']"
      ]
     },
     "execution_count": 697,
     "metadata": {},
     "output_type": "execute_result"
    }
   ],
   "source": [
    "import joblib\n",
    "\n",
    "joblib.dump(final_scores, \"final_scores.pkl\")"
   ]
  },
  {
   "cell_type": "code",
   "execution_count": 699,
   "metadata": {},
   "outputs": [
    {
     "name": "stdout",
     "output_type": "stream",
     "text": [
      "===== SCORES DO MELHOR MODELO =====\n",
      "RECALL\n",
      "Média: 99.9886%\n",
      "Intervalo de confiança: [99.9787%, 99.9984%]\n",
      "\n",
      "PRECISION\n",
      "Média: 100.0000%\n",
      "Intervalo de confiança: [100.0000%, 100.0000%]\n",
      "\n",
      "F1\n",
      "Média: 99.9943%\n",
      "Intervalo de confiança: [99.9894%, 99.9992%]\n"
     ]
    }
   ],
   "source": [
    "import numpy as np\n",
    "import scipy.stats as stats\n",
    "\n",
    "def print_media_e_intervalo(scores):\n",
    "    media = scores.mean()\n",
    "    desvio = scores.std()\n",
    "    \n",
    "    n = len(scores)\n",
    "    erro_padrao = desvio / np.sqrt(n)\n",
    "    t_value = stats.t.ppf(1-0.05/2, df=n-1)  # df = graus de liberdade\n",
    "    margem = t_value * erro_padrao\n",
    "    min_conf = max(media - margem, 0)\n",
    "    max_conf = min(media + margem, 1)\n",
    "    \n",
    "    print(f\"Média: {media:.4%}\")\n",
    "    print(f\"Intervalo de confiança: [{min_conf:.4%}, {max_conf:.4%}]\")\n",
    "\n",
    "\n",
    "print(\"===== SCORES DO MELHOR MODELO =====\")\n",
    "print(\"RECALL\")\n",
    "print_media_e_intervalo(final_scores.test_recall)\n",
    "print(\"\\nPRECISION\")\n",
    "print_media_e_intervalo(final_scores.test_precision)\n",
    "print(\"\\nF1\")\n",
    "print_media_e_intervalo(final_scores.test_f1)"
   ]
  },
  {
   "cell_type": "markdown",
   "metadata": {
    "id": "Ebz6j7wVuho7"
   },
   "source": [
    "# Finalizando e salvando o modelo\n",
    "\n",
    "Com o modelo final determinado, vamos treiná-lo com TODOS os dados e salvá-lo para reutilização ou implantação posterior"
   ]
  },
  {
   "cell_type": "code",
   "execution_count": 701,
   "metadata": {
    "id": "VIgzlGFQLd12"
   },
   "outputs": [
    {
     "data": {
      "text/plain": [
       "['modelo_e_scaler.pkl']"
      ]
     },
     "execution_count": 701,
     "metadata": {},
     "output_type": "execute_result"
    }
   ],
   "source": [
    "import joblib\n",
    "\n",
    "sm = SMOTE(random_state=SEED)\n",
    "X_res, y_res = sm.fit_resample(X, y)\n",
    "\n",
    "scaler = StandardScaler()\n",
    "scaler.fit(X_res)\n",
    "X_res_scaled = scaler.transform(X_res)\n",
    "\n",
    "best_params = {\n",
    "    k.replace(\"modelo__\", \"\"): v for k, v in search.best_params_.items()\n",
    "    }\n",
    "modelo = RandomForestClassifier(random_state=SEED, n_jobs=-1, **best_params)\n",
    "modelo.fit(X_res_scaled, y_res)\n",
    "modelo_e_scaler = (modelo, scaler)\n",
    "joblib.dump(modelo_e_scaler, 'modelo_e_scaler.pkl')"
   ]
  },
  {
   "cell_type": "markdown",
   "metadata": {
    "id": "9pn6MGBVwtWb"
   },
   "source": [
    "O modelo salvo pode ser carregado mais tarde para fazer previsões em novos dados, sem a necessidade de treiná-lo novamente. Esse seria o código:"
   ]
  },
  {
   "cell_type": "code",
   "execution_count": 703,
   "metadata": {
    "id": "Xe73rx8kwzWn"
   },
   "outputs": [
    {
     "data": {
      "text/plain": [
       "array([0., 0., 0., ..., 0., 0., 0.])"
      ]
     },
     "execution_count": 703,
     "metadata": {},
     "output_type": "execute_result"
    }
   ],
   "source": [
    "import joblib\n",
    "\n",
    "modelo, scaler = joblib.load('modelo_e_scaler.pkl')\n",
    "\n",
    "X_novos_dados = X  # Novos dados recebidos\n",
    "X_novos_dados_scaled = scaler.transform(X_novos_dados)\n",
    "y_pred = modelo.predict(X_novos_dados_scaled)\n",
    "y_pred"
   ]
  },
  {
   "cell_type": "markdown",
   "metadata": {},
   "source": [
    "# Conclusões"
   ]
  },
  {
   "cell_type": "markdown",
   "metadata": {},
   "source": [
    "- A **ratio_to_median_purchase_price** é a variável mais importante para estimar se uma transação é ou não uma fraude;\n",
    "- Quase todas as fraudes (95%) são em **compras online**;\n",
    "- **used_pin_number** é a característica que quase consegue zerar o percentual de fraudes (cai de 9,69% para 0,27%);\n",
    "- O melhor modelo de predição foi o **RandomForestClassifier**, com score F1 de 99.9943%, cobrindo cerca de **99.9886%** das fraudes (sensibilidade) e precisão de 100%."
   ]
  },
  {
   "cell_type": "code",
   "execution_count": null,
   "metadata": {},
   "outputs": [],
   "source": []
  }
 ],
 "metadata": {
  "colab": {
   "provenance": []
  },
  "kernelspec": {
   "display_name": "Python 3 (ipykernel)",
   "language": "python",
   "name": "python3"
  },
  "language_info": {
   "codemirror_mode": {
    "name": "ipython",
    "version": 3
   },
   "file_extension": ".py",
   "mimetype": "text/x-python",
   "name": "python",
   "nbconvert_exporter": "python",
   "pygments_lexer": "ipython3",
   "version": "3.11.5"
  }
 },
 "nbformat": 4,
 "nbformat_minor": 4
}
