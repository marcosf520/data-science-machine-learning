{
 "cells": [
  {
   "cell_type": "markdown",
   "metadata": {
    "id": "QyzQjcW9sM3t"
   },
   "source": [
    "# Identificando Fraudes de Cartão de Crédito (Classificação)"
   ]
  },
  {
   "cell_type": "markdown",
   "metadata": {},
   "source": [
    "Esse projeto tem como objetivos:\n",
    "- Analisar um arquivo CSV com 1 milhão de transações de cartão de crédito (normais e fraudulentas) para identificar as **características comuns nas fraudes**;\n",
    "- Treinar um **modelo de machine learning** para ser capaz de classificar futuras transações como fraudes ou não através de suas características."
   ]
  },
  {
   "cell_type": "markdown",
   "metadata": {},
   "source": [
    "# Importando as bibliotecas"
   ]
  },
  {
   "cell_type": "code",
   "execution_count": 97,
   "metadata": {},
   "outputs": [],
   "source": [
    "# !pip install --upgrade scikit-learn imbalanced-learn\n",
    "# !pip install graphviz"
   ]
  },
  {
   "cell_type": "markdown",
   "metadata": {
    "id": "bL8T3iudsQaw"
   },
   "source": [
    "# Importando os dados"
   ]
  },
  {
   "cell_type": "code",
   "execution_count": 99,
   "metadata": {
    "colab": {
     "base_uri": "https://localhost:8080/",
     "height": 444
    },
    "id": "x0ECX84-rBm1",
    "outputId": "fbe8dcad-dbe7-430c-f2b4-b10358175b0f"
   },
   "outputs": [
    {
     "data": {
      "text/html": [
       "<div>\n",
       "<style scoped>\n",
       "    .dataframe tbody tr th:only-of-type {\n",
       "        vertical-align: middle;\n",
       "    }\n",
       "\n",
       "    .dataframe tbody tr th {\n",
       "        vertical-align: top;\n",
       "    }\n",
       "\n",
       "    .dataframe thead th {\n",
       "        text-align: right;\n",
       "    }\n",
       "</style>\n",
       "<table border=\"1\" class=\"dataframe\">\n",
       "  <thead>\n",
       "    <tr style=\"text-align: right;\">\n",
       "      <th></th>\n",
       "      <th>distance_from_home</th>\n",
       "      <th>distance_from_last_transaction</th>\n",
       "      <th>ratio_to_median_purchase_price</th>\n",
       "      <th>repeat_retailer</th>\n",
       "      <th>used_chip</th>\n",
       "      <th>used_pin_number</th>\n",
       "      <th>online_order</th>\n",
       "      <th>fraud</th>\n",
       "    </tr>\n",
       "  </thead>\n",
       "  <tbody>\n",
       "    <tr>\n",
       "      <th>0</th>\n",
       "      <td>57.877857</td>\n",
       "      <td>0.311140</td>\n",
       "      <td>1.945940</td>\n",
       "      <td>1.0</td>\n",
       "      <td>1.0</td>\n",
       "      <td>0.0</td>\n",
       "      <td>0.0</td>\n",
       "      <td>0.0</td>\n",
       "    </tr>\n",
       "    <tr>\n",
       "      <th>1</th>\n",
       "      <td>10.829943</td>\n",
       "      <td>0.175592</td>\n",
       "      <td>1.294219</td>\n",
       "      <td>1.0</td>\n",
       "      <td>0.0</td>\n",
       "      <td>0.0</td>\n",
       "      <td>0.0</td>\n",
       "      <td>0.0</td>\n",
       "    </tr>\n",
       "    <tr>\n",
       "      <th>2</th>\n",
       "      <td>5.091079</td>\n",
       "      <td>0.805153</td>\n",
       "      <td>0.427715</td>\n",
       "      <td>1.0</td>\n",
       "      <td>0.0</td>\n",
       "      <td>0.0</td>\n",
       "      <td>1.0</td>\n",
       "      <td>0.0</td>\n",
       "    </tr>\n",
       "    <tr>\n",
       "      <th>3</th>\n",
       "      <td>2.247564</td>\n",
       "      <td>5.600044</td>\n",
       "      <td>0.362663</td>\n",
       "      <td>1.0</td>\n",
       "      <td>1.0</td>\n",
       "      <td>0.0</td>\n",
       "      <td>1.0</td>\n",
       "      <td>0.0</td>\n",
       "    </tr>\n",
       "    <tr>\n",
       "      <th>4</th>\n",
       "      <td>44.190936</td>\n",
       "      <td>0.566486</td>\n",
       "      <td>2.222767</td>\n",
       "      <td>1.0</td>\n",
       "      <td>1.0</td>\n",
       "      <td>0.0</td>\n",
       "      <td>1.0</td>\n",
       "      <td>0.0</td>\n",
       "    </tr>\n",
       "    <tr>\n",
       "      <th>...</th>\n",
       "      <td>...</td>\n",
       "      <td>...</td>\n",
       "      <td>...</td>\n",
       "      <td>...</td>\n",
       "      <td>...</td>\n",
       "      <td>...</td>\n",
       "      <td>...</td>\n",
       "      <td>...</td>\n",
       "    </tr>\n",
       "    <tr>\n",
       "      <th>999995</th>\n",
       "      <td>2.207101</td>\n",
       "      <td>0.112651</td>\n",
       "      <td>1.626798</td>\n",
       "      <td>1.0</td>\n",
       "      <td>1.0</td>\n",
       "      <td>0.0</td>\n",
       "      <td>0.0</td>\n",
       "      <td>0.0</td>\n",
       "    </tr>\n",
       "    <tr>\n",
       "      <th>999996</th>\n",
       "      <td>19.872726</td>\n",
       "      <td>2.683904</td>\n",
       "      <td>2.778303</td>\n",
       "      <td>1.0</td>\n",
       "      <td>1.0</td>\n",
       "      <td>0.0</td>\n",
       "      <td>0.0</td>\n",
       "      <td>0.0</td>\n",
       "    </tr>\n",
       "    <tr>\n",
       "      <th>999997</th>\n",
       "      <td>2.914857</td>\n",
       "      <td>1.472687</td>\n",
       "      <td>0.218075</td>\n",
       "      <td>1.0</td>\n",
       "      <td>1.0</td>\n",
       "      <td>0.0</td>\n",
       "      <td>1.0</td>\n",
       "      <td>0.0</td>\n",
       "    </tr>\n",
       "    <tr>\n",
       "      <th>999998</th>\n",
       "      <td>4.258729</td>\n",
       "      <td>0.242023</td>\n",
       "      <td>0.475822</td>\n",
       "      <td>1.0</td>\n",
       "      <td>0.0</td>\n",
       "      <td>0.0</td>\n",
       "      <td>1.0</td>\n",
       "      <td>0.0</td>\n",
       "    </tr>\n",
       "    <tr>\n",
       "      <th>999999</th>\n",
       "      <td>58.108125</td>\n",
       "      <td>0.318110</td>\n",
       "      <td>0.386920</td>\n",
       "      <td>1.0</td>\n",
       "      <td>1.0</td>\n",
       "      <td>0.0</td>\n",
       "      <td>1.0</td>\n",
       "      <td>0.0</td>\n",
       "    </tr>\n",
       "  </tbody>\n",
       "</table>\n",
       "<p>1000000 rows × 8 columns</p>\n",
       "</div>"
      ],
      "text/plain": [
       "        distance_from_home  distance_from_last_transaction  \\\n",
       "0                57.877857                        0.311140   \n",
       "1                10.829943                        0.175592   \n",
       "2                 5.091079                        0.805153   \n",
       "3                 2.247564                        5.600044   \n",
       "4                44.190936                        0.566486   \n",
       "...                    ...                             ...   \n",
       "999995            2.207101                        0.112651   \n",
       "999996           19.872726                        2.683904   \n",
       "999997            2.914857                        1.472687   \n",
       "999998            4.258729                        0.242023   \n",
       "999999           58.108125                        0.318110   \n",
       "\n",
       "        ratio_to_median_purchase_price  repeat_retailer  used_chip  \\\n",
       "0                             1.945940              1.0        1.0   \n",
       "1                             1.294219              1.0        0.0   \n",
       "2                             0.427715              1.0        0.0   \n",
       "3                             0.362663              1.0        1.0   \n",
       "4                             2.222767              1.0        1.0   \n",
       "...                                ...              ...        ...   \n",
       "999995                        1.626798              1.0        1.0   \n",
       "999996                        2.778303              1.0        1.0   \n",
       "999997                        0.218075              1.0        1.0   \n",
       "999998                        0.475822              1.0        0.0   \n",
       "999999                        0.386920              1.0        1.0   \n",
       "\n",
       "        used_pin_number  online_order  fraud  \n",
       "0                   0.0           0.0    0.0  \n",
       "1                   0.0           0.0    0.0  \n",
       "2                   0.0           1.0    0.0  \n",
       "3                   0.0           1.0    0.0  \n",
       "4                   0.0           1.0    0.0  \n",
       "...                 ...           ...    ...  \n",
       "999995              0.0           0.0    0.0  \n",
       "999996              0.0           0.0    0.0  \n",
       "999997              0.0           1.0    0.0  \n",
       "999998              0.0           1.0    0.0  \n",
       "999999              0.0           1.0    0.0  \n",
       "\n",
       "[1000000 rows x 8 columns]"
      ]
     },
     "execution_count": 99,
     "metadata": {},
     "output_type": "execute_result"
    }
   ],
   "source": [
    "import pandas as pd\n",
    "\n",
    "uri = \"https://github.com/alura-cursos/youtube-alura/raw/refs/heads/main/fraud_dataset.csv\"\n",
    "dados = pd.read_csv(uri)\n",
    "dados"
   ]
  },
  {
   "cell_type": "markdown",
   "metadata": {
    "id": "lFEpoBeQKuqW"
   },
   "source": [
    "## Significado das colunas\n",
    "\n",
    "- **distance_from_home**: distância do local da transação para a casa do cliente, em km;\n",
    "\n",
    "- **distance_from_last_transaction**: distância do local da transação para o local da última transação, em km;\n",
    "\n",
    "- **ratio_to_median_purchase_price**: proporção ao preço médio de compra (vai de 0 ao infinito). Ex: se é 1.0, significa que o valor da transação é igual ao preço médio de compra (100%). Se é 0.5, significa que o valor da transação é igual a 50% do preço médio de compra;\n",
    "\n",
    "- **repeat_retailer**: se o lojista é recorrente (1-sim, 0-não);\n",
    "\n",
    "- **used_chip**: se foi usado chip (1-sim, 0-não);\n",
    "\n",
    "- **used_pin_number**: se foi usada a senha do cartão de crédito (1-sim, 0-não);\n",
    "\n",
    "- **online_order**: se foi compra online (1-sim, 0-não);\n",
    "\n",
    "- **fraud**: se a transação é uma fraude (1-sim, 0-não);"
   ]
  },
  {
   "cell_type": "markdown",
   "metadata": {
    "id": "eFouTYg-rO1E"
   },
   "source": [
    "## Buscando valores nulos"
   ]
  },
  {
   "cell_type": "code",
   "execution_count": 102,
   "metadata": {
    "colab": {
     "base_uri": "https://localhost:8080/",
     "height": 335
    },
    "id": "fVVNsJrwsdAv",
    "outputId": "53ccfdfc-d87c-486b-9101-522702699e06"
   },
   "outputs": [
    {
     "data": {
      "text/plain": [
       "distance_from_home                0\n",
       "distance_from_last_transaction    0\n",
       "ratio_to_median_purchase_price    0\n",
       "repeat_retailer                   0\n",
       "used_chip                         0\n",
       "used_pin_number                   0\n",
       "online_order                      0\n",
       "fraud                             0\n",
       "dtype: int64"
      ]
     },
     "execution_count": 102,
     "metadata": {},
     "output_type": "execute_result"
    }
   ],
   "source": [
    "dados.isna().sum()"
   ]
  },
  {
   "cell_type": "markdown",
   "metadata": {
    "id": "7O_ALlQWygNg"
   },
   "source": [
    "Não existem valores nulos."
   ]
  },
  {
   "cell_type": "markdown",
   "metadata": {
    "id": "AaR5XHCwyGR-"
   },
   "source": [
    "# Análise exploratória"
   ]
  },
  {
   "cell_type": "markdown",
   "metadata": {
    "id": "0Q8U_CM9_Zn2"
   },
   "source": [
    "## A variável target (y): fraud"
   ]
  },
  {
   "cell_type": "code",
   "execution_count": 106,
   "metadata": {},
   "outputs": [
    {
     "name": "stderr",
     "output_type": "stream",
     "text": [
      "C:\\Users\\marco\\AppData\\Local\\Temp\\ipykernel_5876\\2320098963.py:13: UserWarning: FixedFormatter should only be used together with FixedLocator\n",
      "  plt.gca().set_xticklabels([\"Não\", \"Sim\"]);\n"
     ]
    },
    {
     "data": {
      "image/png": "[encoded data removed]",
      "text/plain": [
       "<Figure size 400x400 with 1 Axes>"
      ]
     },
     "metadata": {},
     "output_type": "display_data"
    }
   ],
   "source": [
    "import matplotlib.pyplot as plt\n",
    "\n",
    "contagem = (dados.fraud.value_counts(normalize=True) * 100).round(2)\n",
    "\n",
    "azul = \"cornflowerblue\"\n",
    "laranja = \"sandybrown\"\n",
    "cores = [azul, laranja]\n",
    "\n",
    "plt.figure(figsize=(4, 4))\n",
    "bars = plt.bar(contagem.index.astype(str), contagem, color=cores)\n",
    "plt.bar_label(bars)\n",
    "plt.title(\"Fraudes (%)\")\n",
    "plt.gca().set_xticklabels([\"Não\", \"Sim\"]);"
   ]
  },
  {
   "cell_type": "markdown",
   "metadata": {
    "id": "vcXA5h3a4lDn"
   },
   "source": [
    "Existem muito mais casos de \"não fraude\" do que de fraude (era esperado), pois apenas cerca de 9% das transações são fraudulentas. Mas isso pode variar de acordo com o cenário, como cenário de comprar online X compras presenciais, compras com chip X compras sem chip, etc. Veremos mais abaixo.\n",
    "\n",
    "Mas de qualquer forma, teremos que lidar com esse **desequilíbrio de classes** para treinarmos nosso algoritmo de machine learning. Mais abaixo usaremos a técnica SMOTE para fazer Oversampling, para assim treinarmos adequadamente nosso algoritmo, para que fique preciso em identificar fraudes."
   ]
  },
  {
   "cell_type": "markdown",
   "metadata": {
    "id": "ceABQ_6pSk_F"
   },
   "source": [
    "## Variáveis contínuas"
   ]
  },
  {
   "cell_type": "markdown",
   "metadata": {
    "id": "BlJwWKQDSyWl"
   },
   "source": [
    "### Boxplot"
   ]
  },
  {
   "cell_type": "code",
   "execution_count": 110,
   "metadata": {
    "colab": {
     "base_uri": "https://localhost:8080/",
     "height": 558
    },
    "id": "0N2rxQhKPAUy",
    "outputId": "edc470f0-6f25-4317-e806-89c78dbf5093"
   },
   "outputs": [
    {
     "data": {
      "image/png": "[encoded data removed]",
      "text/plain": [
       "<Figure size 1200x700 with 6 Axes>"
      ]
     },
     "metadata": {},
     "output_type": "display_data"
    }
   ],
   "source": [
    "variaveis_continuas = [\n",
    "    \"distance_from_home\",\n",
    "    \"distance_from_last_transaction\",\n",
    "    \"ratio_to_median_purchase_price\",\n",
    "    ]\n",
    "\n",
    "fig, axes = plt.subplots(3, 2, figsize=(12, 7))\n",
    "fig.subplots_adjust(hspace=0.7)\n",
    "\n",
    "dados.boxplot(variaveis_continuas, by=\"fraud\", vert=False, widths=0.5,\n",
    "              ax=axes[::, 0], sharex=False, sharey=False)\n",
    "\n",
    "dados.boxplot(variaveis_continuas, by=\"fraud\", vert=False, widths=0.5,\n",
    "              ax=axes[::,1], sharex=False, sharey=False, showfliers=False);\n",
    "\n",
    "fig.suptitle(\"Boxplot com outliers X Boxplot SEM outliers\", size=15, y=1);"
   ]
  },
  {
   "cell_type": "markdown",
   "metadata": {
    "id": "Rb3rbxKzZAAn"
   },
   "source": [
    "As variáveis acima alcançam **valores maiores em casos de fraude**, principalmente a proporção ao preço médio de compra, o que faz sentido já que normalmente fraudadores fazem compras de alto valor.\n",
    "<br>Podemos concluir que:\n",
    "- Se numa transação as variáveis acima possuem valores mais baixos, são mais baixas as chances de se tratar de uma fraude. Caso contrário, se possuem valores muito altos, são mais altas as chances de fraude.\n",
    "\n",
    "Abaixo uma análise descritiva, com média, mediana, quartis, etc:"
   ]
  },
  {
   "cell_type": "markdown",
   "metadata": {
    "id": "nCwXueWVSsAx"
   },
   "source": [
    "### Análise descritiva"
   ]
  },
  {
   "cell_type": "code",
   "execution_count": 113,
   "metadata": {
    "colab": {
     "base_uri": "https://localhost:8080/",
     "height": 802
    },
    "id": "7HUKRxxt5NHK",
    "outputId": "8647fe1c-8d66-4d05-fe1f-7615e2ec31f0"
   },
   "outputs": [
    {
     "data": {
      "text/html": [
       "<div>\n",
       "<style scoped>\n",
       "    .dataframe tbody tr th:only-of-type {\n",
       "        vertical-align: middle;\n",
       "    }\n",
       "\n",
       "    .dataframe tbody tr th {\n",
       "        vertical-align: top;\n",
       "    }\n",
       "\n",
       "    .dataframe thead th {\n",
       "        text-align: right;\n",
       "    }\n",
       "</style>\n",
       "<table border=\"1\" class=\"dataframe\">\n",
       "  <thead>\n",
       "    <tr style=\"text-align: right;\">\n",
       "      <th></th>\n",
       "      <th>fraud</th>\n",
       "      <th>0.0</th>\n",
       "      <th>1.0</th>\n",
       "    </tr>\n",
       "  </thead>\n",
       "  <tbody>\n",
       "    <tr>\n",
       "      <th rowspan=\"8\" valign=\"top\">distance_from_home</th>\n",
       "      <th>count</th>\n",
       "      <td>912597.00</td>\n",
       "      <td>87403.00</td>\n",
       "    </tr>\n",
       "    <tr>\n",
       "      <th>mean</th>\n",
       "      <td>22.83</td>\n",
       "      <td>66.26</td>\n",
       "    </tr>\n",
       "    <tr>\n",
       "      <th>std</th>\n",
       "      <td>52.83</td>\n",
       "      <td>134.39</td>\n",
       "    </tr>\n",
       "    <tr>\n",
       "      <th>min</th>\n",
       "      <td>0.00</td>\n",
       "      <td>0.03</td>\n",
       "    </tr>\n",
       "    <tr>\n",
       "      <th>25%</th>\n",
       "      <td>3.83</td>\n",
       "      <td>4.59</td>\n",
       "    </tr>\n",
       "    <tr>\n",
       "      <th>50%</th>\n",
       "      <td>9.67</td>\n",
       "      <td>15.45</td>\n",
       "    </tr>\n",
       "    <tr>\n",
       "      <th>75%</th>\n",
       "      <td>24.16</td>\n",
       "      <td>101.11</td>\n",
       "    </tr>\n",
       "    <tr>\n",
       "      <th>max</th>\n",
       "      <td>8777.14</td>\n",
       "      <td>10632.72</td>\n",
       "    </tr>\n",
       "    <tr>\n",
       "      <th rowspan=\"8\" valign=\"top\">distance_from_last_transaction</th>\n",
       "      <th>count</th>\n",
       "      <td>912597.00</td>\n",
       "      <td>87403.00</td>\n",
       "    </tr>\n",
       "    <tr>\n",
       "      <th>mean</th>\n",
       "      <td>4.30</td>\n",
       "      <td>12.71</td>\n",
       "    </tr>\n",
       "    <tr>\n",
       "      <th>std</th>\n",
       "      <td>22.47</td>\n",
       "      <td>48.00</td>\n",
       "    </tr>\n",
       "    <tr>\n",
       "      <th>min</th>\n",
       "      <td>0.00</td>\n",
       "      <td>0.00</td>\n",
       "    </tr>\n",
       "    <tr>\n",
       "      <th>25%</th>\n",
       "      <td>0.29</td>\n",
       "      <td>0.33</td>\n",
       "    </tr>\n",
       "    <tr>\n",
       "      <th>50%</th>\n",
       "      <td>0.99</td>\n",
       "      <td>1.16</td>\n",
       "    </tr>\n",
       "    <tr>\n",
       "      <th>75%</th>\n",
       "      <td>3.27</td>\n",
       "      <td>4.60</td>\n",
       "    </tr>\n",
       "    <tr>\n",
       "      <th>max</th>\n",
       "      <td>11851.10</td>\n",
       "      <td>2160.50</td>\n",
       "    </tr>\n",
       "    <tr>\n",
       "      <th rowspan=\"8\" valign=\"top\">ratio_to_median_purchase_price</th>\n",
       "      <th>count</th>\n",
       "      <td>912597.00</td>\n",
       "      <td>87403.00</td>\n",
       "    </tr>\n",
       "    <tr>\n",
       "      <th>mean</th>\n",
       "      <td>1.42</td>\n",
       "      <td>6.01</td>\n",
       "    </tr>\n",
       "    <tr>\n",
       "      <th>std</th>\n",
       "      <td>1.95</td>\n",
       "      <td>5.56</td>\n",
       "    </tr>\n",
       "    <tr>\n",
       "      <th>min</th>\n",
       "      <td>0.00</td>\n",
       "      <td>0.01</td>\n",
       "    </tr>\n",
       "    <tr>\n",
       "      <th>25%</th>\n",
       "      <td>0.45</td>\n",
       "      <td>3.50</td>\n",
       "    </tr>\n",
       "    <tr>\n",
       "      <th>50%</th>\n",
       "      <td>0.91</td>\n",
       "      <td>5.07</td>\n",
       "    </tr>\n",
       "    <tr>\n",
       "      <th>75%</th>\n",
       "      <td>1.79</td>\n",
       "      <td>7.33</td>\n",
       "    </tr>\n",
       "    <tr>\n",
       "      <th>max</th>\n",
       "      <td>267.80</td>\n",
       "      <td>266.69</td>\n",
       "    </tr>\n",
       "  </tbody>\n",
       "</table>\n",
       "</div>"
      ],
      "text/plain": [
       "fraud                                       0.0       1.0\n",
       "distance_from_home             count  912597.00  87403.00\n",
       "                               mean       22.83     66.26\n",
       "                               std        52.83    134.39\n",
       "                               min         0.00      0.03\n",
       "                               25%         3.83      4.59\n",
       "                               50%         9.67     15.45\n",
       "                               75%        24.16    101.11\n",
       "                               max      8777.14  10632.72\n",
       "distance_from_last_transaction count  912597.00  87403.00\n",
       "                               mean        4.30     12.71\n",
       "                               std        22.47     48.00\n",
       "                               min         0.00      0.00\n",
       "                               25%         0.29      0.33\n",
       "                               50%         0.99      1.16\n",
       "                               75%         3.27      4.60\n",
       "                               max     11851.10   2160.50\n",
       "ratio_to_median_purchase_price count  912597.00  87403.00\n",
       "                               mean        1.42      6.01\n",
       "                               std         1.95      5.56\n",
       "                               min         0.00      0.01\n",
       "                               25%         0.45      3.50\n",
       "                               50%         0.91      5.07\n",
       "                               75%         1.79      7.33\n",
       "                               max       267.80    266.69"
      ]
     },
     "execution_count": 113,
     "metadata": {},
     "output_type": "execute_result"
    }
   ],
   "source": [
    "dados.groupby(\"fraud\")[variaveis_continuas].describe().round(2).T"
   ]
  },
  {
   "cell_type": "markdown",
   "metadata": {
    "id": "1bfjqVLH3CD9"
   },
   "source": [
    "As **médias** mostram o que vimos acima. Porém o problema de olhar só as médias é que elas costumam ser muito afetadas pelos outliers. Por isso a importância de olharmos também os **quartis** e os **boxplots**."
   ]
  },
  {
   "cell_type": "markdown",
   "metadata": {
    "id": "_aWbP2pnS8ti"
   },
   "source": [
    "## Variáveis categóricas"
   ]
  },
  {
   "cell_type": "markdown",
   "metadata": {
    "id": "VdAjhoeYoWL_"
   },
   "source": [
    "### Comportamento das variáveis categóricas em cenários de Fraude x Não fraude"
   ]
  },
  {
   "cell_type": "code",
   "execution_count": 117,
   "metadata": {
    "colab": {
     "base_uri": "https://localhost:8080/",
     "height": 1228
    },
    "id": "6zjKIO39wDjm",
    "outputId": "80d9342b-8856-4b49-a935-1345976054b5"
   },
   "outputs": [
    {
     "data": {
      "image/png": "[encoded data removed]",
      "text/plain": [
       "<Figure size 800x1400 with 8 Axes>"
      ]
     },
     "metadata": {},
     "output_type": "display_data"
    }
   ],
   "source": [
    "# # NO GOOGLE COLAB: AUMENTANDO A JANELA DE OUTPUT PARA NÃO PRECISAR\n",
    "# # USAR A BARRA DE ROLAGEM\n",
    "# from IPython.display import Javascript\n",
    "# display(Javascript(\n",
    "#     \"google.colab.output.setIframeHeight(0, true, {maxHeight: 5000})\"))\n",
    "\n",
    "variaveis_categoricas = [\n",
    "    \"repeat_retailer\",\n",
    "    \"used_chip\",\n",
    "    \"used_pin_number\",\n",
    "    \"online_order\",\n",
    "    ]\n",
    "\n",
    "fig, axes = plt.subplots(len(variaveis_categoricas), 2, figsize=(8, 14),\n",
    "                         sharey=True)\n",
    "fig.subplots_adjust(hspace=0.4)\n",
    "\n",
    "for fraud, cor in zip([0, 1], cores):\n",
    "    for i, variavel in enumerate(variaveis_categoricas):\n",
    "        ax = axes[i][fraud]\n",
    "        contagem = dados[dados.fraud == fraud][variavel].value_counts(\n",
    "            normalize=True).sort_index()\n",
    "        contagem = (contagem * 100).round(2)\n",
    "        bars = ax.bar(contagem.index.astype(str), contagem, color=cor)\n",
    "        ax.bar_label(bars)\n",
    "        ax.set_xlabel(variavel)\n",
    "\n",
    "fig.suptitle(\"Comportamento das variáveis (em %) - \"\n",
    "             \"Cenário de Transações Normais X Fraudes\", y=0.95)\n",
    "axes[0][0].set_title(\"TRANSAÇÕES NORMAIS\", y=1.15)\n",
    "axes[0][1].set_title(\"FRAUDES\", y=1.15);"
   ]
  },
  {
   "cell_type": "markdown",
   "metadata": {
    "id": "w5VLcAUdAHSH"
   },
   "source": [
    "Em comparação às transações normais, as fraudes:\n",
    "- Quase nunca usam a senha do cartão (pin number): apenas 0,31%;\n",
    "- São quase todas em compras online (aprox. 95%).\n",
    "\n",
    "<br>Agora vejamos qual é o percentual de fraudes por variável:"
   ]
  },
  {
   "cell_type": "markdown",
   "metadata": {},
   "source": [
    "### % de fraudes em cada cenário isolado"
   ]
  },
  {
   "cell_type": "code",
   "execution_count": 120,
   "metadata": {
    "colab": {
     "base_uri": "https://localhost:8080/",
     "height": 1208
    },
    "id": "J7m5xOp7GjtU",
    "outputId": "2937b0fc-b93e-42d3-9c10-779da14eabb0"
   },
   "outputs": [
    {
     "data": {
      "image/png": "[encoded data removed]",
      "text/plain": [
       "<Figure size 800x1400 with 8 Axes>"
      ]
     },
     "metadata": {},
     "output_type": "display_data"
    }
   ],
   "source": [
    "# # NO GOOGLE COLAB: AUMENTANDO A JANELA DE OUTPUT PARA NÃO PRECISAR\n",
    "# # USAR A BARRA DE ROLAGEM\n",
    "# display(Javascript(\n",
    "#     \"google.colab.output.setIframeHeight(0, true, {maxHeight: 5000})\"))\n",
    "\n",
    "fig, axes = plt.subplots(len(variaveis_categoricas), 2, figsize=(8, 14),\n",
    "                         sharey=True)\n",
    "plt.subplots_adjust(hspace=0.4)\n",
    "\n",
    "for i, variavel in enumerate(variaveis_categoricas):\n",
    "    for b in [0, 1]:\n",
    "        ax = axes[i][b]\n",
    "        contagem = dados[dados[variavel] == b].fraud.replace(\n",
    "            [0, 1], [\"nao_fraudes\", \"fraudes\"]).value_counts(\n",
    "            normalize=True).sort_index(ascending=False)\n",
    "        contagem = (contagem * 100).round(2)\n",
    "        bars = ax.bar(contagem.index.astype(str), contagem, color=cores)\n",
    "        ax.bar_label(bars)\n",
    "        ax.set_title(f\"{variavel} = {b}\")\n",
    "\n",
    "plt.suptitle(\"Contagem das fraudes (em %) em cada cenário isolado\", y=0.93);"
   ]
  },
  {
   "cell_type": "markdown",
   "metadata": {
    "id": "C-5mcCyQ3iX5"
   },
   "source": [
    "- Usar a **senha parece ser um ótimo fator de segurança**, pois das transações com senha, apenas 0,27% são fraudes, enquanto que das transações sem senha, 9,69% são fraudes, um aumento de 3.470,00%!!!\n",
    "- Em seguida temos se a **compra foi online ou não**, onde o percentual de fraudes vai de 1,34% para 12,71%, um aumento de 847%!\n",
    "\n",
    "<br>Segue a diferença de cada variável:"
   ]
  },
  {
   "cell_type": "code",
   "execution_count": 122,
   "metadata": {
    "colab": {
     "base_uri": "https://localhost:8080/",
     "height": 161
    },
    "id": "ySLGYkD1_MHz",
    "outputId": "df5d3d8d-b9f9-4722-d268-e49acf707aba"
   },
   "outputs": [
    {
     "name": "stdout",
     "output_type": "stream",
     "text": [
      "Percentual (%) de fraudes por variável (dif = diferença em %)\n"
     ]
    },
    {
     "data": {
      "text/html": [
       "<div>\n",
       "<style scoped>\n",
       "    .dataframe tbody tr th:only-of-type {\n",
       "        vertical-align: middle;\n",
       "    }\n",
       "\n",
       "    .dataframe tbody tr th {\n",
       "        vertical-align: top;\n",
       "    }\n",
       "\n",
       "    .dataframe thead th {\n",
       "        text-align: right;\n",
       "    }\n",
       "</style>\n",
       "<table border=\"1\" class=\"dataframe\">\n",
       "  <thead>\n",
       "    <tr style=\"text-align: right;\">\n",
       "      <th></th>\n",
       "      <th>repeat_retailer</th>\n",
       "      <th>used_chip</th>\n",
       "      <th>used_pin_number</th>\n",
       "      <th>online_order</th>\n",
       "    </tr>\n",
       "  </thead>\n",
       "  <tbody>\n",
       "    <tr>\n",
       "      <th>0.0</th>\n",
       "      <td>8.84</td>\n",
       "      <td>10.01</td>\n",
       "      <td>9.69</td>\n",
       "      <td>1.34</td>\n",
       "    </tr>\n",
       "    <tr>\n",
       "      <th>1.0</th>\n",
       "      <td>8.73</td>\n",
       "      <td>6.40</td>\n",
       "      <td>0.27</td>\n",
       "      <td>12.71</td>\n",
       "    </tr>\n",
       "    <tr>\n",
       "      <th>dif</th>\n",
       "      <td>1.36</td>\n",
       "      <td>56.44</td>\n",
       "      <td>3470.17</td>\n",
       "      <td>846.90</td>\n",
       "    </tr>\n",
       "  </tbody>\n",
       "</table>\n",
       "</div>"
      ],
      "text/plain": [
       "     repeat_retailer  used_chip  used_pin_number  online_order\n",
       "0.0             8.84      10.01             9.69          1.34\n",
       "1.0             8.73       6.40             0.27         12.71\n",
       "dif             1.36      56.44          3470.17        846.90"
      ]
     },
     "execution_count": 122,
     "metadata": {},
     "output_type": "execute_result"
    }
   ],
   "source": [
    "print(\"Percentual (%) de fraudes por variável (dif = diferença em %)\")\n",
    "lista = [\n",
    "    pd.crosstab(dados[variavel], dados.fraud, normalize=\"index\")[1]\n",
    "    for variavel in variaveis_categoricas\n",
    "    ]\n",
    "probabilidades = pd.concat(lista, axis=1)\n",
    "probabilidades.columns = variaveis_categoricas\n",
    "probabilidades.loc[\"dif\"] = probabilidades.apply(\n",
    "    lambda x: max(x[0], x[1]) / min(x[0], x[1]) - 1)\n",
    "probabilidades = (probabilidades * 100).round(2)\n",
    "probabilidades"
   ]
  },
  {
   "cell_type": "markdown",
   "metadata": {},
   "source": [
    "### % de fraudes em cada cenário combinado"
   ]
  },
  {
   "cell_type": "code",
   "execution_count": 124,
   "metadata": {
    "colab": {
     "base_uri": "https://localhost:8080/",
     "height": 600
    },
    "id": "L429gXo74RkP",
    "outputId": "e3e050bb-2880-4da1-9093-e9f46e2c424d"
   },
   "outputs": [
    {
     "name": "stdout",
     "output_type": "stream",
     "text": [
      "===== Contagem de fraudes em cada cenário (combinação das variáveis) =====\n"
     ]
    },
    {
     "data": {
      "text/html": [
       "<div>\n",
       "<style scoped>\n",
       "    .dataframe tbody tr th:only-of-type {\n",
       "        vertical-align: middle;\n",
       "    }\n",
       "\n",
       "    .dataframe tbody tr th {\n",
       "        vertical-align: top;\n",
       "    }\n",
       "\n",
       "    .dataframe thead th {\n",
       "        text-align: right;\n",
       "    }\n",
       "</style>\n",
       "<table border=\"1\" class=\"dataframe\">\n",
       "  <thead>\n",
       "    <tr style=\"text-align: right;\">\n",
       "      <th></th>\n",
       "      <th></th>\n",
       "      <th></th>\n",
       "      <th></th>\n",
       "      <th>nao_fraudes</th>\n",
       "      <th>fraudes</th>\n",
       "      <th>percentual_fraudes</th>\n",
       "    </tr>\n",
       "    <tr>\n",
       "      <th>used_pin_number</th>\n",
       "      <th>online_order</th>\n",
       "      <th>used_chip</th>\n",
       "      <th>repeat_retailer</th>\n",
       "      <th></th>\n",
       "      <th></th>\n",
       "      <th></th>\n",
       "    </tr>\n",
       "  </thead>\n",
       "  <tbody>\n",
       "    <tr>\n",
       "      <th rowspan=\"8\" valign=\"top\">0.0</th>\n",
       "      <th rowspan=\"4\" valign=\"top\">0.0</th>\n",
       "      <th rowspan=\"2\" valign=\"top\">0.0</th>\n",
       "      <th>0.0</th>\n",
       "      <td>21543</td>\n",
       "      <td>2451.0</td>\n",
       "      <td>10.22</td>\n",
       "    </tr>\n",
       "    <tr>\n",
       "      <th>1.0</th>\n",
       "      <td>178700</td>\n",
       "      <td>1430.0</td>\n",
       "      <td>0.79</td>\n",
       "    </tr>\n",
       "    <tr>\n",
       "      <th rowspan=\"2\" valign=\"top\">1.0</th>\n",
       "      <th>0.0</th>\n",
       "      <td>13190</td>\n",
       "      <td>16.0</td>\n",
       "      <td>0.12</td>\n",
       "    </tr>\n",
       "    <tr>\n",
       "      <th>1.0</th>\n",
       "      <td>96125</td>\n",
       "      <td>794.0</td>\n",
       "      <td>0.82</td>\n",
       "    </tr>\n",
       "    <tr>\n",
       "      <th rowspan=\"4\" valign=\"top\">1.0</th>\n",
       "      <th rowspan=\"2\" valign=\"top\">0.0</th>\n",
       "      <th>0.0</th>\n",
       "      <td>39891</td>\n",
       "      <td>5180.0</td>\n",
       "      <td>11.49</td>\n",
       "    </tr>\n",
       "    <tr>\n",
       "      <th>1.0</th>\n",
       "      <td>279183</td>\n",
       "      <td>55668.0</td>\n",
       "      <td>16.62</td>\n",
       "    </tr>\n",
       "    <tr>\n",
       "      <th rowspan=\"2\" valign=\"top\">1.0</th>\n",
       "      <th>0.0</th>\n",
       "      <td>21417</td>\n",
       "      <td>2817.0</td>\n",
       "      <td>11.62</td>\n",
       "    </tr>\n",
       "    <tr>\n",
       "      <th>1.0</th>\n",
       "      <td>162213</td>\n",
       "      <td>18774.0</td>\n",
       "      <td>10.37</td>\n",
       "    </tr>\n",
       "    <tr>\n",
       "      <th rowspan=\"8\" valign=\"top\">1.0</th>\n",
       "      <th rowspan=\"4\" valign=\"top\">0.0</th>\n",
       "      <th rowspan=\"2\" valign=\"top\">0.0</th>\n",
       "      <th>0.0</th>\n",
       "      <td>2650</td>\n",
       "      <td>0.0</td>\n",
       "      <td>0.00</td>\n",
       "    </tr>\n",
       "    <tr>\n",
       "      <th>1.0</th>\n",
       "      <td>20178</td>\n",
       "      <td>0.0</td>\n",
       "      <td>0.00</td>\n",
       "    </tr>\n",
       "    <tr>\n",
       "      <th rowspan=\"2\" valign=\"top\">1.0</th>\n",
       "      <th>0.0</th>\n",
       "      <td>1465</td>\n",
       "      <td>0.0</td>\n",
       "      <td>0.00</td>\n",
       "    </tr>\n",
       "    <tr>\n",
       "      <th>1.0</th>\n",
       "      <td>10905</td>\n",
       "      <td>1.0</td>\n",
       "      <td>0.01</td>\n",
       "    </tr>\n",
       "    <tr>\n",
       "      <th rowspan=\"4\" valign=\"top\">1.0</th>\n",
       "      <th rowspan=\"2\" valign=\"top\">0.0</th>\n",
       "      <th>0.0</th>\n",
       "      <td>5024</td>\n",
       "      <td>8.0</td>\n",
       "      <td>0.16</td>\n",
       "    </tr>\n",
       "    <tr>\n",
       "      <th>1.0</th>\n",
       "      <td>37439</td>\n",
       "      <td>256.0</td>\n",
       "      <td>0.68</td>\n",
       "    </tr>\n",
       "    <tr>\n",
       "      <th rowspan=\"2\" valign=\"top\">1.0</th>\n",
       "      <th>0.0</th>\n",
       "      <td>2806</td>\n",
       "      <td>6.0</td>\n",
       "      <td>0.21</td>\n",
       "    </tr>\n",
       "    <tr>\n",
       "      <th>1.0</th>\n",
       "      <td>19868</td>\n",
       "      <td>2.0</td>\n",
       "      <td>0.01</td>\n",
       "    </tr>\n",
       "  </tbody>\n",
       "</table>\n",
       "</div>"
      ],
      "text/plain": [
       "                                                        nao_fraudes  fraudes  \\\n",
       "used_pin_number online_order used_chip repeat_retailer                         \n",
       "0.0             0.0          0.0       0.0                    21543   2451.0   \n",
       "                                       1.0                   178700   1430.0   \n",
       "                             1.0       0.0                    13190     16.0   \n",
       "                                       1.0                    96125    794.0   \n",
       "                1.0          0.0       0.0                    39891   5180.0   \n",
       "                                       1.0                   279183  55668.0   \n",
       "                             1.0       0.0                    21417   2817.0   \n",
       "                                       1.0                   162213  18774.0   \n",
       "1.0             0.0          0.0       0.0                     2650      0.0   \n",
       "                                       1.0                    20178      0.0   \n",
       "                             1.0       0.0                     1465      0.0   \n",
       "                                       1.0                    10905      1.0   \n",
       "                1.0          0.0       0.0                     5024      8.0   \n",
       "                                       1.0                    37439    256.0   \n",
       "                             1.0       0.0                     2806      6.0   \n",
       "                                       1.0                    19868      2.0   \n",
       "\n",
       "                                                        percentual_fraudes  \n",
       "used_pin_number online_order used_chip repeat_retailer                      \n",
       "0.0             0.0          0.0       0.0                           10.22  \n",
       "                                       1.0                            0.79  \n",
       "                             1.0       0.0                            0.12  \n",
       "                                       1.0                            0.82  \n",
       "                1.0          0.0       0.0                           11.49  \n",
       "                                       1.0                           16.62  \n",
       "                             1.0       0.0                           11.62  \n",
       "                                       1.0                           10.37  \n",
       "1.0             0.0          0.0       0.0                            0.00  \n",
       "                                       1.0                            0.00  \n",
       "                             1.0       0.0                            0.00  \n",
       "                                       1.0                            0.01  \n",
       "                1.0          0.0       0.0                            0.16  \n",
       "                                       1.0                            0.68  \n",
       "                             1.0       0.0                            0.21  \n",
       "                                       1.0                            0.01  "
      ]
     },
     "execution_count": 124,
     "metadata": {},
     "output_type": "execute_result"
    }
   ],
   "source": [
    "print(\"===== Contagem de fraudes em cada cenário \"\n",
    "      \"(combinação das variáveis) =====\")\n",
    "colunas_ordenadas = probabilidades.loc[\"dif\"].sort_values(\n",
    "    ascending=False).index\n",
    "contagens = [\n",
    "    dados[dados.fraud == i][colunas_ordenadas].value_counts(sort=False)\n",
    "    for i in dados.fraud.unique()\n",
    "    ]\n",
    "cenarios = pd.concat(contagens, axis=1).fillna(0)\n",
    "cenarios.columns = [\"nao_fraudes\", \"fraudes\"]\n",
    "cenarios[\"percentual_fraudes\"] = (\n",
    "    cenarios.iloc[:,1]\n",
    "    / (cenarios.iloc[:,0] + cenarios.iloc[:,1])\n",
    "    * 100\n",
    "    ).round(2)\n",
    "cenarios"
   ]
  },
  {
   "cell_type": "markdown",
   "metadata": {
    "id": "V82IC_sNzJw5"
   },
   "source": [
    "De acordo com os cenários acima, vemos que:\n",
    "\n",
    "<br>Se uma transação tem:\n",
    "- used_pin_number = 0\n",
    "- online_order = 1\n",
    "- used_chip = 0\n",
    "- repeat_retailer = 1\n",
    "- **= chance de ser fraude: 16,62%**\n",
    "\n",
    "<br>Se uma transação tem:\n",
    "- used_pin_number = 1\n",
    "- online_order = 0\n",
    "- used_chip = 1\n",
    "- repeat_retailer = 0\n",
    "- **= chance de ser fraude: 0%**\n",
    "\n",
    "<br>Isso é só uma **análise superficial**, para termos ideia que quais variáveis categóricas representam mais chances da transação ser fraudulenta. Abaixo treinaremos nosso modelo de machine learning para nos dizer com precisão se uma transação é uma fraude ou não, considerando tanto essas variáveis categóricas como as contínuas."
   ]
  },
  {
   "cell_type": "markdown",
   "metadata": {
    "id": "9n64CGSYdR4S"
   },
   "source": [
    "# Treinando o modelo de machine learning"
   ]
  },
  {
   "cell_type": "markdown",
   "metadata": {
    "id": "XjncDXOMd4Qj"
   },
   "source": [
    "## Técnica holdout: Separação dos dados em treino e teste"
   ]
  },
  {
   "cell_type": "code",
   "execution_count": 128,
   "metadata": {
    "id": "31ahzsmJd6oh"
   },
   "outputs": [],
   "source": [
    "from sklearn.model_selection import train_test_split\n",
    "SEED = 7\n",
    "\n",
    "X = dados.drop(columns=\"fraud\")\n",
    "y = dados.fraud\n",
    "X_train, X_test, y_train, y_test = train_test_split(\n",
    "    X, y, test_size=0.2, stratify=y, shuffle=True, random_state=SEED)"
   ]
  },
  {
   "cell_type": "markdown",
   "metadata": {
    "id": "-rL319gvg8Nj"
   },
   "source": [
    "## Overfitting da classe minoritária (das fraudes)\n",
    "\n",
    "Aumentar os exemplos de fraudes, igualando à quantidade de não-fraudes, para o modelo ficar bom em identificar fraudes"
   ]
  },
  {
   "cell_type": "code",
   "execution_count": 130,
   "metadata": {
    "id": "kxniADmpg-RB"
   },
   "outputs": [],
   "source": [
    "from imblearn.over_sampling import SMOTE\n",
    "\n",
    "smote = SMOTE(random_state=SEED)\n",
    "X_train_res, y_train_res = smote.fit_resample(X_train, y_train)"
   ]
  },
  {
   "cell_type": "markdown",
   "metadata": {
    "id": "n_isojO4gwql"
   },
   "source": [
    "## Padronizando as variáveis explicativas\n",
    "\n",
    "Para o modelo não ficar enviesado para a variável com escala mais alta. Padronizaremos todas as variáveis explicativas com **StandardScaler**:"
   ]
  },
  {
   "cell_type": "code",
   "execution_count": 132,
   "metadata": {
    "id": "IQcsue_xdlHl"
   },
   "outputs": [],
   "source": [
    "from sklearn.preprocessing import StandardScaler\n",
    "\n",
    "scaler = StandardScaler()\n",
    "X_train_res_scaled = scaler.fit_transform(X_train_res)\n",
    "X_test_scaled = scaler.transform(X_test)"
   ]
  },
  {
   "cell_type": "markdown",
   "metadata": {
    "id": "vktYwDRxSeqZ"
   },
   "source": [
    "## LogisticRegression\n",
    "\n",
    "Como queremos apenas saber se uma transação é ou não fraude (0 ou 1), começaremos usando o modelo de Regressão Logística"
   ]
  },
  {
   "cell_type": "code",
   "execution_count": 134,
   "metadata": {
    "id": "QBvP4dxBlwoV"
   },
   "outputs": [],
   "source": [
    "from sklearn.linear_model import LogisticRegression\n",
    "\n",
    "modelo_logistico = LogisticRegression(random_state=SEED)\n",
    "modelo_logistico.fit(X_train_res_scaled, y_train_res)\n",
    "y_pred = modelo_logistico.predict(X_test_scaled)"
   ]
  },
  {
   "cell_type": "markdown",
   "metadata": {
    "id": "TM7JAs6ClyH1"
   },
   "source": [
    "### Resultados"
   ]
  },
  {
   "cell_type": "code",
   "execution_count": 136,
   "metadata": {
    "colab": {
     "base_uri": "https://localhost:8080/"
    },
    "id": "RFMjqEj815DD",
    "outputId": "c64d3902-edc2-40ff-db25-d7b6d582bf84"
   },
   "outputs": [
    {
     "name": "stdout",
     "output_type": "stream",
     "text": [
      "              precision    recall  f1-score   support\n",
      "\n",
      "         0.0       1.00      0.93      0.96    182519\n",
      "         1.0       0.58      0.95      0.72     17481\n",
      "\n",
      "    accuracy                           0.94    200000\n",
      "   macro avg       0.79      0.94      0.84    200000\n",
      "weighted avg       0.96      0.94      0.94    200000\n",
      "\n"
     ]
    }
   ],
   "source": [
    "from sklearn.metrics import classification_report\n",
    "\n",
    "print(classification_report(y_test, y_pred))"
   ]
  },
  {
   "cell_type": "markdown",
   "metadata": {
    "id": "gajB08ve3JFM"
   },
   "source": [
    "Refinando os resultados:"
   ]
  },
  {
   "cell_type": "code",
   "execution_count": 138,
   "metadata": {
    "id": "_MYFw5cgirfc"
   },
   "outputs": [],
   "source": [
    "from sklearn.metrics import accuracy_score, recall_score, precision_score\n",
    "from sklearn.metrics import f1_score, roc_auc_score\n",
    "from sklearn.metrics import confusion_matrix, ConfusionMatrixDisplay\n",
    "\n",
    "def resultados(y_test, y_pred, matriz=False):\n",
    "    print(f\"Acurácia: {accuracy_score(y_test, y_pred):.2%}\")\n",
    "    print(f\"Sensibilidade: {recall_score(y_test, y_pred):.2%}\")\n",
    "    print(f\"Precisão: {precision_score(y_test, y_pred, zero_division=0):.2%}\")\n",
    "    print(f\"F1 score: {f1_score(y_test, y_pred):.2%}\")\n",
    "    print(f\"Curva ROC: {roc_auc_score(y_test, y_pred):.2%}\")\n",
    "    if matriz:\n",
    "        print(\"\\n===== MATRIZ DE CONFUSÃO =====\")\n",
    "        cm = confusion_matrix(y_test, y_pred)\n",
    "        ConfusionMatrixDisplay(cm).plot()"
   ]
  },
  {
   "cell_type": "code",
   "execution_count": 139,
   "metadata": {
    "colab": {
     "base_uri": "https://localhost:8080/",
     "height": 571
    },
    "id": "IpranV_63bRS",
    "outputId": "97b2c88d-fe35-44d5-cba3-750fff0e9f2a"
   },
   "outputs": [
    {
     "name": "stdout",
     "output_type": "stream",
     "text": [
      "Acurácia: 93.51%\n",
      "Sensibilidade: 95.11%\n",
      "Precisão: 57.82%\n",
      "F1 score: 71.92%\n",
      "Curva ROC: 94.23%\n",
      "\n",
      "===== MATRIZ DE CONFUSÃO =====\n"
     ]
    },
    {
     "data": {
      "image/png": "[encoded data removed]",
      "text/plain": [
       "<Figure size 640x480 with 2 Axes>"
      ]
     },
     "metadata": {},
     "output_type": "display_data"
    }
   ],
   "source": [
    "resultados(y_test, y_pred, matriz=True)"
   ]
  },
  {
   "cell_type": "markdown",
   "metadata": {
    "id": "Uv8I633RSjx2"
   },
   "source": [
    "Olhar só a **Acurácia** (% acertos em geral) **não é o suficiente** pois queremos identificar o máximo de fraudes possíveis, mas também sem errar muito sobre as transações normais. Por isso estamos considerando também as seguintes medidas:\n",
    "- **Sensibilidade (Revocação)**: A MAIS IMPORTANTE, é o % de fraudes detectadas;\n",
    "- **Precisão**: % fraudes alegadas pelo modelo que realmente são fraudes;\n",
    "- **F1 Score**: média harmônica entre Sensibilidade e Precisão;\n",
    "- **Curva ROC**: basicamente é o quanto o modelo acerta as fraudes sem errar as não-fraudes.\n",
    "\n",
    "A **Matriz de Confusão** é apenas uma análise visual das informações acima, como quantas fraudes são identificadas e quantas passam despercebidas (Sensibilidade), quantas fraudes declaradas realmente as são (Precisão), etc."
   ]
  },
  {
   "cell_type": "markdown",
   "metadata": {
    "id": "jlrfbkB9cAry"
   },
   "source": [
    "### Resultados sem o Overfitting\n",
    "\n",
    "Se não tivéssemos feito o Overfitting, a Sensibilidade ficaria bem pior:"
   ]
  },
  {
   "cell_type": "code",
   "execution_count": 142,
   "metadata": {
    "colab": {
     "base_uri": "https://localhost:8080/",
     "height": 574
    },
    "id": "9nRqzIZg5mF4",
    "outputId": "74365764-4a45-445a-80ed-c2d99af18cbc"
   },
   "outputs": [
    {
     "name": "stdout",
     "output_type": "stream",
     "text": [
      "Acurácia: 95.89%\n",
      "Sensibilidade: 60.31%\n",
      "Precisão: 89.14%\n",
      "F1 score: 71.94%\n",
      "Curva ROC: 79.80%\n",
      "\n",
      "===== MATRIZ DE CONFUSÃO =====\n"
     ]
    },
    {
     "data": {
      "image/png": "[encoded data removed]",
      "text/plain": [
       "<Figure size 640x480 with 2 Axes>"
      ]
     },
     "metadata": {},
     "output_type": "display_data"
    }
   ],
   "source": [
    "scaler2 = StandardScaler()\n",
    "X_train_scaled2 = scaler2.fit_transform(X_train)\n",
    "X_test_scaled2 = scaler2.transform(X_test)\n",
    "\n",
    "modelo_sem_overfitting = LogisticRegression(random_state=SEED)\n",
    "modelo_sem_overfitting.fit(X_train_scaled2, y_train)\n",
    "y_pred_sem_overfitting = modelo_sem_overfitting.predict(X_test_scaled2)\n",
    "resultados(y_test, y_pred_sem_overfitting, matriz=True)"
   ]
  },
  {
   "cell_type": "markdown",
   "metadata": {
    "id": "qVxmyvgzmPmh"
   },
   "source": [
    "## DummyClassifiers (para comparação)\n",
    "\n",
    "Modelos bobos, apenas para compararmos se nosso modelo não está muito melhor. Se os resultados forem semelhantes, isso é péssimo."
   ]
  },
  {
   "cell_type": "markdown",
   "metadata": {
    "id": "ge4KZLyvrPPp"
   },
   "source": [
    "#### Prevendo tudo como 0 (não-fraude)"
   ]
  },
  {
   "cell_type": "code",
   "execution_count": 145,
   "metadata": {
    "colab": {
     "base_uri": "https://localhost:8080/"
    },
    "id": "jM9Gg8stmQjR",
    "outputId": "422ca8d9-ddf6-44e1-89bb-7ca4e811a2c9"
   },
   "outputs": [
    {
     "name": "stdout",
     "output_type": "stream",
     "text": [
      "Acurácia: 91.26%\n",
      "Sensibilidade: 0.00%\n",
      "Precisão: 0.00%\n",
      "F1 score: 0.00%\n",
      "Curva ROC: 50.00%\n"
     ]
    }
   ],
   "source": [
    "from sklearn.dummy import DummyClassifier\n",
    "\n",
    "# A estratégia \"prior\" é a padrão (nesse caso, vai prever tudo como 0 - não-fraude)\n",
    "dummy_prior = DummyClassifier()\n",
    "dummy_prior.fit(X_train_res_scaled, y_train_res)\n",
    "y_pred = dummy_prior.predict(X_test_scaled)\n",
    "resultados(y_test, y_pred)"
   ]
  },
  {
   "cell_type": "markdown",
   "metadata": {
    "id": "ybnrbnJRpt4m"
   },
   "source": [
    "A Acurácia não parece tão ruim, porém a Sensibilidade ficou em 0%. Ou seja, todas as fraudes passaram despercebidas! Por isso a importância de olharmos as outras métricas."
   ]
  },
  {
   "cell_type": "markdown",
   "metadata": {
    "id": "GC6aDGburkjU"
   },
   "source": [
    "#### Prevendo tudo como 1 (fraude)"
   ]
  },
  {
   "cell_type": "code",
   "execution_count": 148,
   "metadata": {
    "colab": {
     "base_uri": "https://localhost:8080/"
    },
    "id": "K0EMa74qo3Em",
    "outputId": "0148a53b-9de5-4646-db8e-b291829ed490"
   },
   "outputs": [
    {
     "name": "stdout",
     "output_type": "stream",
     "text": [
      "Acurácia: 8.74%\n",
      "Sensibilidade: 100.00%\n",
      "Precisão: 8.74%\n",
      "F1 score: 16.08%\n",
      "Curva ROC: 50.00%\n"
     ]
    }
   ],
   "source": [
    "dummy_constant = DummyClassifier(strategy=\"constant\", constant=1)\n",
    "dummy_constant.fit(X_train_res_scaled, y_train_res)\n",
    "y_pred = dummy_constant.predict(X_test_scaled)\n",
    "resultados(y_test, y_pred)"
   ]
  },
  {
   "cell_type": "markdown",
   "metadata": {
    "id": "TIG6tyCoqXgF"
   },
   "source": [
    "Aqui a Sensibilidade ficou em 100%, ou seja, identificou todas as fraudes! Parece ótimo, mas a precisão ficou horrível, já que esse dummy errou o diagnóstico de todas as não-fraudes dizendo que são todas fraudes. Isso é péssimo."
   ]
  },
  {
   "cell_type": "markdown",
   "metadata": {
    "id": "9s3fiKyjtmSE"
   },
   "source": [
    "#### Prevendo de forma estratificada (mesma proporção de fraudes vista no treino)"
   ]
  },
  {
   "cell_type": "code",
   "execution_count": 151,
   "metadata": {
    "colab": {
     "base_uri": "https://localhost:8080/"
    },
    "id": "Tvy9zYpPq-Im",
    "outputId": "8a62827a-fb9b-4ea6-8840-519fb3a38a70"
   },
   "outputs": [
    {
     "name": "stdout",
     "output_type": "stream",
     "text": [
      "Acurácia: 50.09%\n",
      "Sensibilidade: 49.99%\n",
      "Precisão: 8.76%\n",
      "F1 score: 14.90%\n",
      "Curva ROC: 50.05%\n"
     ]
    }
   ],
   "source": [
    "dummy_stratified = DummyClassifier(strategy=\"stratified\", random_state=SEED)\n",
    "dummy_stratified.fit(X_train_res_scaled, y_train_res)\n",
    "y_pred = dummy_stratified.predict(X_test_scaled)\n",
    "resultados(y_test, y_pred)"
   ]
  },
  {
   "cell_type": "markdown",
   "metadata": {
    "id": "QAW05QPKt5bz"
   },
   "source": [
    "Esse se saiu menos pior. Nosso modelo de Regressão Logística está muito melhor. Segue novamente:"
   ]
  },
  {
   "cell_type": "code",
   "execution_count": 153,
   "metadata": {
    "colab": {
     "base_uri": "https://localhost:8080/",
     "height": 571
    },
    "id": "cNnV-thkst5y",
    "outputId": "357cb8fb-cb3d-467c-f991-693e1d469ab1"
   },
   "outputs": [
    {
     "name": "stdout",
     "output_type": "stream",
     "text": [
      "Acurácia: 93.51%\n",
      "Sensibilidade: 95.11%\n",
      "Precisão: 57.82%\n",
      "F1 score: 71.92%\n",
      "Curva ROC: 94.23%\n",
      "\n",
      "===== MATRIZ DE CONFUSÃO =====\n"
     ]
    },
    {
     "data": {
      "image/png": "[encoded data removed]",
      "text/plain": [
       "<Figure size 640x480 with 2 Axes>"
      ]
     },
     "metadata": {},
     "output_type": "display_data"
    }
   ],
   "source": [
    "y_pred = modelo_logistico.predict(X_test_scaled)\n",
    "resultados(y_test, y_pred, matriz=True)"
   ]
  },
  {
   "cell_type": "markdown",
   "metadata": {
    "id": "QkfljeZ4vSIh"
   },
   "source": [
    "Vejamos se conseguimos melhores resultados com outros modelos:"
   ]
  },
  {
   "cell_type": "markdown",
   "metadata": {
    "id": "uLP3gMqfvYUJ"
   },
   "source": [
    "## DecisionTree"
   ]
  },
  {
   "cell_type": "code",
   "execution_count": 156,
   "metadata": {
    "colab": {
     "base_uri": "https://localhost:8080/",
     "height": 571
    },
    "id": "seZSepVsvTrQ",
    "outputId": "36a8f717-2dd3-452e-cf53-978d093c9aef"
   },
   "outputs": [
    {
     "name": "stdout",
     "output_type": "stream",
     "text": [
      "Acurácia: 99.38%\n",
      "Sensibilidade: 99.35%\n",
      "Precisão: 93.92%\n",
      "F1 score: 96.56%\n",
      "Curva ROC: 99.37%\n",
      "\n",
      "===== MATRIZ DE CONFUSÃO =====\n"
     ]
    },
    {
     "data": {
      "image/png": "[encoded data removed]",
      "text/plain": [
       "<Figure size 640x480 with 2 Axes>"
      ]
     },
     "metadata": {},
     "output_type": "display_data"
    }
   ],
   "source": [
    "from sklearn.tree import DecisionTreeClassifier\n",
    "\n",
    "tree = DecisionTreeClassifier(max_depth=4, random_state=SEED)\n",
    "tree.fit(X_train_res_scaled, y_train_res)\n",
    "y_pred = tree.predict(X_test_scaled)\n",
    "resultados(y_test, y_pred, matriz=True)"
   ]
  },
  {
   "cell_type": "markdown",
   "metadata": {
    "id": "6_5MbpnIwW10"
   },
   "source": [
    "A árvore de decisão se saiu muito melhor, entregando quase **87% menos falsos negativos**! (fraudes não detectadas caíram de 855 para 114 (-741))"
   ]
  },
  {
   "cell_type": "markdown",
   "metadata": {
    "id": "9zHJPdBsCPiQ"
   },
   "source": [
    "### Visualizando a árvore"
   ]
  },
  {
   "cell_type": "code",
   "execution_count": 192,
   "metadata": {
    "colab": {
     "base_uri": "https://localhost:8080/",
     "height": 1000
    },
    "id": "M8rQ8WXJCUlo",
    "outputId": "2c1cb343-0372-4322-d026-d92c0ebf50e7"
   },
   "outputs": [
    {
     "data": {
      "image/svg+xml": [
       "<?xml version=\"1.0\" encoding=\"UTF-8\" standalone=\"no\"?>\n",
       "<!DOCTYPE svg PUBLIC \"-//W3C//DTD SVG 1.1//EN\"\n",
       " \"http://www.w3.org/Graphics/SVG/1.1/DTD/svg11.dtd\">\n",
       "<!-- Generated by graphviz version 12.1.2 (20240928.0832)\n",
       " -->\n",
       "<!-- Title: Tree Pages: 1 -->\n",
       "<svg width=\"2228pt\" height=\"570pt\"\n",
       " viewBox=\"0.00 0.00 2227.75 570.00\" xmlns=\"http://www.w3.org/2000/svg\" xmlns:xlink=\"http://www.w3.org/1999/xlink\">\n",
       "<g id=\"graph0\" class=\"graph\" transform=\"scale(1 1) rotate(0) translate(4 566)\">\n",
       "<title>Tree</title>\n",
       "<polygon fill=\"white\" stroke=\"none\" points=\"-4,4 -4,-566 2223.75,-566 2223.75,4 -4,4\"/>\n",
       "<!-- 0 -->\n",
       "<g id=\"node1\" class=\"node\">\n",
       "<title>0</title>\n",
       "<path fill=\"#ffffff\" stroke=\"black\" d=\"M1377.75,-562C1377.75,-562 1130.75,-562 1130.75,-562 1124.75,-562 1118.75,-556 1118.75,-550 1118.75,-550 1118.75,-487.25 1118.75,-487.25 1118.75,-481.25 1124.75,-475.25 1130.75,-475.25 1130.75,-475.25 1377.75,-475.25 1377.75,-475.25 1383.75,-475.25 1389.75,-481.25 1389.75,-487.25 1389.75,-487.25 1389.75,-550 1389.75,-550 1389.75,-556 1383.75,-562 1377.75,-562\"/>\n",
       "<text text-anchor=\"middle\" x=\"1254.25\" y=\"-544.7\" font-family=\"Helvetica,sans-Serif\" font-size=\"14.00\">ratio_to_median_purchase_price &lt;= 0.064</text>\n",
       "<text text-anchor=\"middle\" x=\"1254.25\" y=\"-528.95\" font-family=\"Helvetica,sans-Serif\" font-size=\"14.00\">gini = 0.5</text>\n",
       "<text text-anchor=\"middle\" x=\"1254.25\" y=\"-513.2\" font-family=\"Helvetica,sans-Serif\" font-size=\"14.00\">samples = 1460156</text>\n",
       "<text text-anchor=\"middle\" x=\"1254.25\" y=\"-497.45\" font-family=\"Helvetica,sans-Serif\" font-size=\"14.00\">value = [730078, 730078]</text>\n",
       "<text text-anchor=\"middle\" x=\"1254.25\" y=\"-481.7\" font-family=\"Helvetica,sans-Serif\" font-size=\"14.00\">class = Não é fraude</text>\n",
       "</g>\n",
       "<!-- 1 -->\n",
       "<g id=\"node2\" class=\"node\">\n",
       "<title>1</title>\n",
       "<path fill=\"#eca36f\" stroke=\"black\" d=\"M1045.12,-439.25C1045.12,-439.25 875.38,-439.25 875.38,-439.25 869.38,-439.25 863.38,-433.25 863.38,-427.25 863.38,-427.25 863.38,-364.5 863.38,-364.5 863.38,-358.5 869.38,-352.5 875.38,-352.5 875.38,-352.5 1045.12,-352.5 1045.12,-352.5 1051.12,-352.5 1057.12,-358.5 1057.12,-364.5 1057.12,-364.5 1057.12,-427.25 1057.12,-427.25 1057.12,-433.25 1051.12,-439.25 1045.12,-439.25\"/>\n",
       "<text text-anchor=\"middle\" x=\"960.25\" y=\"-421.95\" font-family=\"Helvetica,sans-Serif\" font-size=\"14.00\">distance_from_home &lt;= 0.54</text>\n",
       "<text text-anchor=\"middle\" x=\"960.25\" y=\"-406.2\" font-family=\"Helvetica,sans-Serif\" font-size=\"14.00\">gini = 0.336</text>\n",
       "<text text-anchor=\"middle\" x=\"960.25\" y=\"-390.45\" font-family=\"Helvetica,sans-Serif\" font-size=\"14.00\">samples = 889559</text>\n",
       "<text text-anchor=\"middle\" x=\"960.25\" y=\"-374.7\" font-family=\"Helvetica,sans-Serif\" font-size=\"14.00\">value = [699476, 190083]</text>\n",
       "<text text-anchor=\"middle\" x=\"960.25\" y=\"-358.95\" font-family=\"Helvetica,sans-Serif\" font-size=\"14.00\">class = Não é fraude</text>\n",
       "</g>\n",
       "<!-- 0&#45;&gt;1 -->\n",
       "<g id=\"edge1\" class=\"edge\">\n",
       "<title>0&#45;&gt;1</title>\n",
       "<path fill=\"none\" stroke=\"black\" d=\"M1150.18,-474.88C1123.5,-463.92 1094.74,-452.11 1067.88,-441.08\"/>\n",
       "<polygon fill=\"black\" stroke=\"black\" points=\"1069.27,-437.87 1058.69,-437.31 1066.61,-444.34 1069.27,-437.87\"/>\n",
       "<text text-anchor=\"middle\" x=\"1066.93\" y=\"-454.37\" font-family=\"Helvetica,sans-Serif\" font-size=\"14.00\">True</text>\n",
       "</g>\n",
       "<!-- 16 -->\n",
       "<g id=\"node17\" class=\"node\">\n",
       "<title>16</title>\n",
       "<path fill=\"#44a3e6\" stroke=\"black\" d=\"M1624,-439.25C1624,-439.25 1486.5,-439.25 1486.5,-439.25 1480.5,-439.25 1474.5,-433.25 1474.5,-427.25 1474.5,-427.25 1474.5,-364.5 1474.5,-364.5 1474.5,-358.5 1480.5,-352.5 1486.5,-352.5 1486.5,-352.5 1624,-352.5 1624,-352.5 1630,-352.5 1636,-358.5 1636,-364.5 1636,-364.5 1636,-427.25 1636,-427.25 1636,-433.25 1630,-439.25 1624,-439.25\"/>\n",
       "<text text-anchor=\"middle\" x=\"1555.25\" y=\"-421.95\" font-family=\"Helvetica,sans-Serif\" font-size=\"14.00\">online_order &lt;= &#45;1.926</text>\n",
       "<text text-anchor=\"middle\" x=\"1555.25\" y=\"-406.2\" font-family=\"Helvetica,sans-Serif\" font-size=\"14.00\">gini = 0.102</text>\n",
       "<text text-anchor=\"middle\" x=\"1555.25\" y=\"-390.45\" font-family=\"Helvetica,sans-Serif\" font-size=\"14.00\">samples = 570597</text>\n",
       "<text text-anchor=\"middle\" x=\"1555.25\" y=\"-374.7\" font-family=\"Helvetica,sans-Serif\" font-size=\"14.00\">value = [30602, 539995]</text>\n",
       "<text text-anchor=\"middle\" x=\"1555.25\" y=\"-358.95\" font-family=\"Helvetica,sans-Serif\" font-size=\"14.00\">class = Fraude</text>\n",
       "</g>\n",
       "<!-- 0&#45;&gt;16 -->\n",
       "<g id=\"edge16\" class=\"edge\">\n",
       "<title>0&#45;&gt;16</title>\n",
       "<path fill=\"none\" stroke=\"black\" d=\"M1360.79,-474.88C1394.52,-461.35 1431.47,-446.53 1464.02,-433.47\"/>\n",
       "<polygon fill=\"black\" stroke=\"black\" points=\"1465.04,-436.83 1473.02,-429.86 1462.44,-430.34 1465.04,-436.83\"/>\n",
       "<text text-anchor=\"middle\" x=\"1464.6\" y=\"-446.86\" font-family=\"Helvetica,sans-Serif\" font-size=\"14.00\">False</text>\n",
       "</g>\n",
       "<!-- 2 -->\n",
       "<g id=\"node3\" class=\"node\">\n",
       "<title>2</title>\n",
       "<path fill=\"#e78946\" stroke=\"black\" d=\"M620.88,-316.5C620.88,-316.5 383.62,-316.5 383.62,-316.5 377.62,-316.5 371.62,-310.5 371.62,-304.5 371.62,-304.5 371.62,-241.75 371.62,-241.75 371.62,-235.75 377.62,-229.75 383.62,-229.75 383.62,-229.75 620.88,-229.75 620.88,-229.75 626.88,-229.75 632.88,-235.75 632.88,-241.75 632.88,-241.75 632.88,-304.5 632.88,-304.5 632.88,-310.5 626.88,-316.5 620.88,-316.5\"/>\n",
       "<text text-anchor=\"middle\" x=\"502.25\" y=\"-299.2\" font-family=\"Helvetica,sans-Serif\" font-size=\"14.00\">distance_from_last_transaction &lt;= 1.128</text>\n",
       "<text text-anchor=\"middle\" x=\"502.25\" y=\"-283.45\" font-family=\"Helvetica,sans-Serif\" font-size=\"14.00\">gini = 0.113</text>\n",
       "<text text-anchor=\"middle\" x=\"502.25\" y=\"-267.7\" font-family=\"Helvetica,sans-Serif\" font-size=\"14.00\">samples = 720849</text>\n",
       "<text text-anchor=\"middle\" x=\"502.25\" y=\"-251.95\" font-family=\"Helvetica,sans-Serif\" font-size=\"14.00\">value = [677650, 43199]</text>\n",
       "<text text-anchor=\"middle\" x=\"502.25\" y=\"-236.2\" font-family=\"Helvetica,sans-Serif\" font-size=\"14.00\">class = Não é fraude</text>\n",
       "</g>\n",
       "<!-- 1&#45;&gt;2 -->\n",
       "<g id=\"edge2\" class=\"edge\">\n",
       "<title>1&#45;&gt;2</title>\n",
       "<path fill=\"none\" stroke=\"black\" d=\"M863.12,-369.27C799.43,-352.48 715.1,-330.24 643.97,-311.49\"/>\n",
       "<polygon fill=\"black\" stroke=\"black\" points=\"645.16,-308.18 634.59,-309.02 643.37,-314.95 645.16,-308.18\"/>\n",
       "</g>\n",
       "<!-- 9 -->\n",
       "<g id=\"node10\" class=\"node\">\n",
       "<title>9</title>\n",
       "<path fill=\"#56ace9\" stroke=\"black\" d=\"M1040.25,-316.5C1040.25,-316.5 880.25,-316.5 880.25,-316.5 874.25,-316.5 868.25,-310.5 868.25,-304.5 868.25,-304.5 868.25,-241.75 868.25,-241.75 868.25,-235.75 874.25,-229.75 880.25,-229.75 880.25,-229.75 1040.25,-229.75 1040.25,-229.75 1046.25,-229.75 1052.25,-235.75 1052.25,-241.75 1052.25,-241.75 1052.25,-304.5 1052.25,-304.5 1052.25,-310.5 1046.25,-316.5 1040.25,-316.5\"/>\n",
       "<text text-anchor=\"middle\" x=\"960.25\" y=\"-299.2\" font-family=\"Helvetica,sans-Serif\" font-size=\"14.00\">used_chip &lt;= 1.525</text>\n",
       "<text text-anchor=\"middle\" x=\"960.25\" y=\"-283.45\" font-family=\"Helvetica,sans-Serif\" font-size=\"14.00\">gini = 0.225</text>\n",
       "<text text-anchor=\"middle\" x=\"960.25\" y=\"-267.7\" font-family=\"Helvetica,sans-Serif\" font-size=\"14.00\">samples = 168710</text>\n",
       "<text text-anchor=\"middle\" x=\"960.25\" y=\"-251.95\" font-family=\"Helvetica,sans-Serif\" font-size=\"14.00\">value = [21826.0, 146884.0]</text>\n",
       "<text text-anchor=\"middle\" x=\"960.25\" y=\"-236.2\" font-family=\"Helvetica,sans-Serif\" font-size=\"14.00\">class = Fraude</text>\n",
       "</g>\n",
       "<!-- 1&#45;&gt;9 -->\n",
       "<g id=\"edge9\" class=\"edge\">\n",
       "<title>1&#45;&gt;9</title>\n",
       "<path fill=\"none\" stroke=\"black\" d=\"M960.25,-352.3C960.25,-344.46 960.25,-336.17 960.25,-328.04\"/>\n",
       "<polygon fill=\"black\" stroke=\"black\" points=\"963.75,-328.23 960.25,-318.23 956.75,-328.23 963.75,-328.23\"/>\n",
       "</g>\n",
       "<!-- 3 -->\n",
       "<g id=\"node4\" class=\"node\">\n",
       "<title>3</title>\n",
       "<path fill=\"#e58139\" stroke=\"black\" d=\"M347.5,-193.75C347.5,-193.75 111,-193.75 111,-193.75 105,-193.75 99,-187.75 99,-181.75 99,-181.75 99,-119 99,-119 99,-113 105,-107 111,-107 111,-107 347.5,-107 347.5,-107 353.5,-107 359.5,-113 359.5,-119 359.5,-119 359.5,-181.75 359.5,-181.75 359.5,-187.75 353.5,-193.75 347.5,-193.75\"/>\n",
       "<text text-anchor=\"middle\" x=\"229.25\" y=\"-176.45\" font-family=\"Helvetica,sans-Serif\" font-size=\"14.00\">distance_from_last_transaction &lt;= 1.119</text>\n",
       "<text text-anchor=\"middle\" x=\"229.25\" y=\"-160.7\" font-family=\"Helvetica,sans-Serif\" font-size=\"14.00\">gini = 0.0</text>\n",
       "<text text-anchor=\"middle\" x=\"229.25\" y=\"-144.95\" font-family=\"Helvetica,sans-Serif\" font-size=\"14.00\">samples = 671629</text>\n",
       "<text text-anchor=\"middle\" x=\"229.25\" y=\"-129.2\" font-family=\"Helvetica,sans-Serif\" font-size=\"14.00\">value = [671601, 28]</text>\n",
       "<text text-anchor=\"middle\" x=\"229.25\" y=\"-113.45\" font-family=\"Helvetica,sans-Serif\" font-size=\"14.00\">class = Não é fraude</text>\n",
       "</g>\n",
       "<!-- 2&#45;&gt;3 -->\n",
       "<g id=\"edge3\" class=\"edge\">\n",
       "<title>2&#45;&gt;3</title>\n",
       "<path fill=\"none\" stroke=\"black\" d=\"M405.62,-229.38C383.14,-219.44 359.08,-208.8 336.18,-198.67\"/>\n",
       "<polygon fill=\"black\" stroke=\"black\" points=\"337.7,-195.52 327.14,-194.67 334.87,-201.92 337.7,-195.52\"/>\n",
       "</g>\n",
       "<!-- 6 -->\n",
       "<g id=\"node7\" class=\"node\">\n",
       "<title>6</title>\n",
       "<path fill=\"#55abe9\" stroke=\"black\" d=\"M566.88,-193.75C566.88,-193.75 437.62,-193.75 437.62,-193.75 431.62,-193.75 425.62,-187.75 425.62,-181.75 425.62,-181.75 425.62,-119 425.62,-119 425.62,-113 431.62,-107 437.62,-107 437.62,-107 566.88,-107 566.88,-107 572.88,-107 578.88,-113 578.88,-119 578.88,-119 578.88,-181.75 578.88,-181.75 578.88,-187.75 572.88,-193.75 566.88,-193.75\"/>\n",
       "<text text-anchor=\"middle\" x=\"502.25\" y=\"-176.45\" font-family=\"Helvetica,sans-Serif\" font-size=\"14.00\">online_order &lt;= &#45;1.883</text>\n",
       "<text text-anchor=\"middle\" x=\"502.25\" y=\"-160.7\" font-family=\"Helvetica,sans-Serif\" font-size=\"14.00\">gini = 0.216</text>\n",
       "<text text-anchor=\"middle\" x=\"502.25\" y=\"-144.95\" font-family=\"Helvetica,sans-Serif\" font-size=\"14.00\">samples = 49220</text>\n",
       "<text text-anchor=\"middle\" x=\"502.25\" y=\"-129.2\" font-family=\"Helvetica,sans-Serif\" font-size=\"14.00\">value = [6049, 43171]</text>\n",
       "<text text-anchor=\"middle\" x=\"502.25\" y=\"-113.45\" font-family=\"Helvetica,sans-Serif\" font-size=\"14.00\">class = Fraude</text>\n",
       "</g>\n",
       "<!-- 2&#45;&gt;6 -->\n",
       "<g id=\"edge6\" class=\"edge\">\n",
       "<title>2&#45;&gt;6</title>\n",
       "<path fill=\"none\" stroke=\"black\" d=\"M502.25,-229.55C502.25,-221.71 502.25,-213.42 502.25,-205.29\"/>\n",
       "<polygon fill=\"black\" stroke=\"black\" points=\"505.75,-205.48 502.25,-195.48 498.75,-205.48 505.75,-205.48\"/>\n",
       "</g>\n",
       "<!-- 4 -->\n",
       "<g id=\"node5\" class=\"node\">\n",
       "<title>4</title>\n",
       "<path fill=\"#e58139\" stroke=\"black\" d=\"M128.5,-71C128.5,-71 12,-71 12,-71 6,-71 0,-65 0,-59 0,-59 0,-12 0,-12 0,-6 6,0 12,0 12,0 128.5,0 128.5,0 134.5,0 140.5,-6 140.5,-12 140.5,-12 140.5,-59 140.5,-59 140.5,-65 134.5,-71 128.5,-71\"/>\n",
       "<text text-anchor=\"middle\" x=\"70.25\" y=\"-53.7\" font-family=\"Helvetica,sans-Serif\" font-size=\"14.00\">gini = 0.0</text>\n",
       "<text text-anchor=\"middle\" x=\"70.25\" y=\"-37.95\" font-family=\"Helvetica,sans-Serif\" font-size=\"14.00\">samples = 671533</text>\n",
       "<text text-anchor=\"middle\" x=\"70.25\" y=\"-22.2\" font-family=\"Helvetica,sans-Serif\" font-size=\"14.00\">value = [671520, 13]</text>\n",
       "<text text-anchor=\"middle\" x=\"70.25\" y=\"-6.45\" font-family=\"Helvetica,sans-Serif\" font-size=\"14.00\">class = Não é fraude</text>\n",
       "</g>\n",
       "<!-- 3&#45;&gt;4 -->\n",
       "<g id=\"edge4\" class=\"edge\">\n",
       "<title>3&#45;&gt;4</title>\n",
       "<path fill=\"none\" stroke=\"black\" d=\"M169.14,-106.7C155.78,-97.22 141.64,-87.18 128.36,-77.75\"/>\n",
       "<polygon fill=\"black\" stroke=\"black\" points=\"130.74,-75.15 120.56,-72.21 126.68,-80.86 130.74,-75.15\"/>\n",
       "</g>\n",
       "<!-- 5 -->\n",
       "<g id=\"node6\" class=\"node\">\n",
       "<title>5</title>\n",
       "<path fill=\"#ea985e\" stroke=\"black\" d=\"M287.5,-71C287.5,-71 171,-71 171,-71 165,-71 159,-65 159,-59 159,-59 159,-12 159,-12 159,-6 165,0 171,0 171,0 287.5,0 287.5,0 293.5,0 299.5,-6 299.5,-12 299.5,-12 299.5,-59 299.5,-59 299.5,-65 293.5,-71 287.5,-71\"/>\n",
       "<text text-anchor=\"middle\" x=\"229.25\" y=\"-53.7\" font-family=\"Helvetica,sans-Serif\" font-size=\"14.00\">gini = 0.264</text>\n",
       "<text text-anchor=\"middle\" x=\"229.25\" y=\"-37.95\" font-family=\"Helvetica,sans-Serif\" font-size=\"14.00\">samples = 96</text>\n",
       "<text text-anchor=\"middle\" x=\"229.25\" y=\"-22.2\" font-family=\"Helvetica,sans-Serif\" font-size=\"14.00\">value = [81, 15]</text>\n",
       "<text text-anchor=\"middle\" x=\"229.25\" y=\"-6.45\" font-family=\"Helvetica,sans-Serif\" font-size=\"14.00\">class = Não é fraude</text>\n",
       "</g>\n",
       "<!-- 3&#45;&gt;5 -->\n",
       "<g id=\"edge5\" class=\"edge\">\n",
       "<title>3&#45;&gt;5</title>\n",
       "<path fill=\"none\" stroke=\"black\" d=\"M229.25,-106.7C229.25,-98.82 229.25,-90.55 229.25,-82.57\"/>\n",
       "<polygon fill=\"black\" stroke=\"black\" points=\"232.75,-82.67 229.25,-72.67 225.75,-82.67 232.75,-82.67\"/>\n",
       "</g>\n",
       "<!-- 7 -->\n",
       "<g id=\"node8\" class=\"node\">\n",
       "<title>7</title>\n",
       "<path fill=\"#e58139\" stroke=\"black\" d=\"M446.5,-71C446.5,-71 330,-71 330,-71 324,-71 318,-65 318,-59 318,-59 318,-12 318,-12 318,-6 324,0 330,0 330,0 446.5,0 446.5,0 452.5,0 458.5,-6 458.5,-12 458.5,-12 458.5,-59 458.5,-59 458.5,-65 452.5,-71 446.5,-71\"/>\n",
       "<text text-anchor=\"middle\" x=\"388.25\" y=\"-53.7\" font-family=\"Helvetica,sans-Serif\" font-size=\"14.00\">gini = 0.0</text>\n",
       "<text text-anchor=\"middle\" x=\"388.25\" y=\"-37.95\" font-family=\"Helvetica,sans-Serif\" font-size=\"14.00\">samples = 3499</text>\n",
       "<text text-anchor=\"middle\" x=\"388.25\" y=\"-22.2\" font-family=\"Helvetica,sans-Serif\" font-size=\"14.00\">value = [3499, 0]</text>\n",
       "<text text-anchor=\"middle\" x=\"388.25\" y=\"-6.45\" font-family=\"Helvetica,sans-Serif\" font-size=\"14.00\">class = Não é fraude</text>\n",
       "</g>\n",
       "<!-- 6&#45;&gt;7 -->\n",
       "<g id=\"edge7\" class=\"edge\">\n",
       "<title>6&#45;&gt;7</title>\n",
       "<path fill=\"none\" stroke=\"black\" d=\"M459.15,-106.7C450.08,-97.72 440.5,-88.23 431.42,-79.25\"/>\n",
       "<polygon fill=\"black\" stroke=\"black\" points=\"433.9,-76.77 424.33,-72.22 428.97,-81.75 433.9,-76.77\"/>\n",
       "</g>\n",
       "<!-- 8 -->\n",
       "<g id=\"node9\" class=\"node\">\n",
       "<title>8</title>\n",
       "<path fill=\"#45a3e7\" stroke=\"black\" d=\"M611.5,-71C611.5,-71 489,-71 489,-71 483,-71 477,-65 477,-59 477,-59 477,-12 477,-12 477,-6 483,0 489,0 489,0 611.5,0 611.5,0 617.5,0 623.5,-6 623.5,-12 623.5,-12 623.5,-59 623.5,-59 623.5,-65 617.5,-71 611.5,-71\"/>\n",
       "<text text-anchor=\"middle\" x=\"550.25\" y=\"-53.7\" font-family=\"Helvetica,sans-Serif\" font-size=\"14.00\">gini = 0.105</text>\n",
       "<text text-anchor=\"middle\" x=\"550.25\" y=\"-37.95\" font-family=\"Helvetica,sans-Serif\" font-size=\"14.00\">samples = 45721</text>\n",
       "<text text-anchor=\"middle\" x=\"550.25\" y=\"-22.2\" font-family=\"Helvetica,sans-Serif\" font-size=\"14.00\">value = [2550, 43171]</text>\n",
       "<text text-anchor=\"middle\" x=\"550.25\" y=\"-6.45\" font-family=\"Helvetica,sans-Serif\" font-size=\"14.00\">class = Fraude</text>\n",
       "</g>\n",
       "<!-- 6&#45;&gt;8 -->\n",
       "<g id=\"edge8\" class=\"edge\">\n",
       "<title>6&#45;&gt;8</title>\n",
       "<path fill=\"none\" stroke=\"black\" d=\"M520.4,-106.7C523.87,-98.54 527.51,-89.97 531.01,-81.73\"/>\n",
       "<polygon fill=\"black\" stroke=\"black\" points=\"534.23,-83.12 534.92,-72.55 527.79,-80.38 534.23,-83.12\"/>\n",
       "</g>\n",
       "<!-- 10 -->\n",
       "<g id=\"node11\" class=\"node\">\n",
       "<title>10</title>\n",
       "<path fill=\"#46a3e7\" stroke=\"black\" d=\"M912.25,-193.75C912.25,-193.75 782.25,-193.75 782.25,-193.75 776.25,-193.75 770.25,-187.75 770.25,-181.75 770.25,-181.75 770.25,-119 770.25,-119 770.25,-113 776.25,-107 782.25,-107 782.25,-107 912.25,-107 912.25,-107 918.25,-107 924.25,-113 924.25,-119 924.25,-119 924.25,-181.75 924.25,-181.75 924.25,-187.75 918.25,-193.75 912.25,-193.75\"/>\n",
       "<text text-anchor=\"middle\" x=\"847.25\" y=\"-176.45\" font-family=\"Helvetica,sans-Serif\" font-size=\"14.00\">online_order &lt;= &#45;1.924</text>\n",
       "<text text-anchor=\"middle\" x=\"847.25\" y=\"-160.7\" font-family=\"Helvetica,sans-Serif\" font-size=\"14.00\">gini = 0.115</text>\n",
       "<text text-anchor=\"middle\" x=\"847.25\" y=\"-144.95\" font-family=\"Helvetica,sans-Serif\" font-size=\"14.00\">samples = 155758</text>\n",
       "<text text-anchor=\"middle\" x=\"847.25\" y=\"-129.2\" font-family=\"Helvetica,sans-Serif\" font-size=\"14.00\">value = [9566, 146192]</text>\n",
       "<text text-anchor=\"middle\" x=\"847.25\" y=\"-113.45\" font-family=\"Helvetica,sans-Serif\" font-size=\"14.00\">class = Fraude</text>\n",
       "</g>\n",
       "<!-- 9&#45;&gt;10 -->\n",
       "<g id=\"edge10\" class=\"edge\">\n",
       "<title>9&#45;&gt;10</title>\n",
       "<path fill=\"none\" stroke=\"black\" d=\"M920.41,-229.55C912.14,-220.72 903.35,-211.32 894.83,-202.22\"/>\n",
       "<polygon fill=\"black\" stroke=\"black\" points=\"897.53,-199.98 888.14,-195.07 892.42,-204.77 897.53,-199.98\"/>\n",
       "</g>\n",
       "<!-- 13 -->\n",
       "<g id=\"node14\" class=\"node\">\n",
       "<title>13</title>\n",
       "<path fill=\"#e68844\" stroke=\"black\" d=\"M1191.88,-193.75C1191.88,-193.75 954.62,-193.75 954.62,-193.75 948.62,-193.75 942.62,-187.75 942.62,-181.75 942.62,-181.75 942.62,-119 942.62,-119 942.62,-113 948.62,-107 954.62,-107 954.62,-107 1191.88,-107 1191.88,-107 1197.88,-107 1203.88,-113 1203.88,-119 1203.88,-119 1203.88,-181.75 1203.88,-181.75 1203.88,-187.75 1197.88,-193.75 1191.88,-193.75\"/>\n",
       "<text text-anchor=\"middle\" x=\"1073.25\" y=\"-176.45\" font-family=\"Helvetica,sans-Serif\" font-size=\"14.00\">distance_from_last_transaction &lt;= 1.139</text>\n",
       "<text text-anchor=\"middle\" x=\"1073.25\" y=\"-160.7\" font-family=\"Helvetica,sans-Serif\" font-size=\"14.00\">gini = 0.101</text>\n",
       "<text text-anchor=\"middle\" x=\"1073.25\" y=\"-144.95\" font-family=\"Helvetica,sans-Serif\" font-size=\"14.00\">samples = 12952</text>\n",
       "<text text-anchor=\"middle\" x=\"1073.25\" y=\"-129.2\" font-family=\"Helvetica,sans-Serif\" font-size=\"14.00\">value = [12260, 692]</text>\n",
       "<text text-anchor=\"middle\" x=\"1073.25\" y=\"-113.45\" font-family=\"Helvetica,sans-Serif\" font-size=\"14.00\">class = Não é fraude</text>\n",
       "</g>\n",
       "<!-- 9&#45;&gt;13 -->\n",
       "<g id=\"edge13\" class=\"edge\">\n",
       "<title>9&#45;&gt;13</title>\n",
       "<path fill=\"none\" stroke=\"black\" d=\"M1000.09,-229.55C1008.36,-220.72 1017.15,-211.32 1025.67,-202.22\"/>\n",
       "<polygon fill=\"black\" stroke=\"black\" points=\"1028.08,-204.77 1032.36,-195.07 1022.97,-199.98 1028.08,-204.77\"/>\n",
       "</g>\n",
       "<!-- 11 -->\n",
       "<g id=\"node12\" class=\"node\">\n",
       "<title>11</title>\n",
       "<path fill=\"#e78b49\" stroke=\"black\" d=\"M770.5,-71C770.5,-71 654,-71 654,-71 648,-71 642,-65 642,-59 642,-59 642,-12 642,-12 642,-6 648,0 654,0 654,0 770.5,0 770.5,0 776.5,0 782.5,-6 782.5,-12 782.5,-12 782.5,-59 782.5,-59 782.5,-65 776.5,-71 770.5,-71\"/>\n",
       "<text text-anchor=\"middle\" x=\"712.25\" y=\"-53.7\" font-family=\"Helvetica,sans-Serif\" font-size=\"14.00\">gini = 0.135</text>\n",
       "<text text-anchor=\"middle\" x=\"712.25\" y=\"-37.95\" font-family=\"Helvetica,sans-Serif\" font-size=\"14.00\">samples = 8709</text>\n",
       "<text text-anchor=\"middle\" x=\"712.25\" y=\"-22.2\" font-family=\"Helvetica,sans-Serif\" font-size=\"14.00\">value = [8075, 634]</text>\n",
       "<text text-anchor=\"middle\" x=\"712.25\" y=\"-6.45\" font-family=\"Helvetica,sans-Serif\" font-size=\"14.00\">class = Não é fraude</text>\n",
       "</g>\n",
       "<!-- 10&#45;&gt;11 -->\n",
       "<g id=\"edge11\" class=\"edge\">\n",
       "<title>10&#45;&gt;11</title>\n",
       "<path fill=\"none\" stroke=\"black\" d=\"M796.21,-106.7C785.14,-97.44 773.43,-87.65 762.39,-78.42\"/>\n",
       "<polygon fill=\"black\" stroke=\"black\" points=\"764.78,-75.86 754.86,-72.13 760.29,-81.23 764.78,-75.86\"/>\n",
       "</g>\n",
       "<!-- 12 -->\n",
       "<g id=\"node13\" class=\"node\">\n",
       "<title>12</title>\n",
       "<path fill=\"#3b9ee5\" stroke=\"black\" d=\"M942.25,-71C942.25,-71 812.25,-71 812.25,-71 806.25,-71 800.25,-65 800.25,-59 800.25,-59 800.25,-12 800.25,-12 800.25,-6 806.25,0 812.25,0 812.25,0 942.25,0 942.25,0 948.25,0 954.25,-6 954.25,-12 954.25,-12 954.25,-59 954.25,-59 954.25,-65 948.25,-71 942.25,-71\"/>\n",
       "<text text-anchor=\"middle\" x=\"877.25\" y=\"-53.7\" font-family=\"Helvetica,sans-Serif\" font-size=\"14.00\">gini = 0.02</text>\n",
       "<text text-anchor=\"middle\" x=\"877.25\" y=\"-37.95\" font-family=\"Helvetica,sans-Serif\" font-size=\"14.00\">samples = 147049</text>\n",
       "<text text-anchor=\"middle\" x=\"877.25\" y=\"-22.2\" font-family=\"Helvetica,sans-Serif\" font-size=\"14.00\">value = [1491, 145558]</text>\n",
       "<text text-anchor=\"middle\" x=\"877.25\" y=\"-6.45\" font-family=\"Helvetica,sans-Serif\" font-size=\"14.00\">class = Fraude</text>\n",
       "</g>\n",
       "<!-- 10&#45;&gt;12 -->\n",
       "<g id=\"edge12\" class=\"edge\">\n",
       "<title>10&#45;&gt;12</title>\n",
       "<path fill=\"none\" stroke=\"black\" d=\"M858.59,-106.7C860.74,-98.63 862.99,-90.16 865.15,-82.01\"/>\n",
       "<polygon fill=\"black\" stroke=\"black\" points=\"868.46,-83.18 867.65,-72.62 861.7,-81.39 868.46,-83.18\"/>\n",
       "</g>\n",
       "<!-- 14 -->\n",
       "<g id=\"node15\" class=\"node\">\n",
       "<title>14</title>\n",
       "<path fill=\"#e58139\" stroke=\"black\" d=\"M1100.5,-71C1100.5,-71 984,-71 984,-71 978,-71 972,-65 972,-59 972,-59 972,-12 972,-12 972,-6 978,0 984,0 984,0 1100.5,0 1100.5,0 1106.5,0 1112.5,-6 1112.5,-12 1112.5,-12 1112.5,-59 1112.5,-59 1112.5,-65 1106.5,-71 1100.5,-71\"/>\n",
       "<text text-anchor=\"middle\" x=\"1042.25\" y=\"-53.7\" font-family=\"Helvetica,sans-Serif\" font-size=\"14.00\">gini = 0.0</text>\n",
       "<text text-anchor=\"middle\" x=\"1042.25\" y=\"-37.95\" font-family=\"Helvetica,sans-Serif\" font-size=\"14.00\">samples = 12240</text>\n",
       "<text text-anchor=\"middle\" x=\"1042.25\" y=\"-22.2\" font-family=\"Helvetica,sans-Serif\" font-size=\"14.00\">value = [12240, 0]</text>\n",
       "<text text-anchor=\"middle\" x=\"1042.25\" y=\"-6.45\" font-family=\"Helvetica,sans-Serif\" font-size=\"14.00\">class = Não é fraude</text>\n",
       "</g>\n",
       "<!-- 13&#45;&gt;14 -->\n",
       "<g id=\"edge14\" class=\"edge\">\n",
       "<title>13&#45;&gt;14</title>\n",
       "<path fill=\"none\" stroke=\"black\" d=\"M1061.53,-106.7C1059.31,-98.63 1056.99,-90.16 1054.75,-82.01\"/>\n",
       "<polygon fill=\"black\" stroke=\"black\" points=\"1058.19,-81.33 1052.17,-72.62 1051.44,-83.19 1058.19,-81.33\"/>\n",
       "</g>\n",
       "<!-- 15 -->\n",
       "<g id=\"node16\" class=\"node\">\n",
       "<title>15</title>\n",
       "<path fill=\"#3fa0e6\" stroke=\"black\" d=\"M1235.5,-71C1235.5,-71 1143,-71 1143,-71 1137,-71 1131,-65 1131,-59 1131,-59 1131,-12 1131,-12 1131,-6 1137,0 1143,0 1143,0 1235.5,0 1235.5,0 1241.5,0 1247.5,-6 1247.5,-12 1247.5,-12 1247.5,-59 1247.5,-59 1247.5,-65 1241.5,-71 1235.5,-71\"/>\n",
       "<text text-anchor=\"middle\" x=\"1189.25\" y=\"-53.7\" font-family=\"Helvetica,sans-Serif\" font-size=\"14.00\">gini = 0.055</text>\n",
       "<text text-anchor=\"middle\" x=\"1189.25\" y=\"-37.95\" font-family=\"Helvetica,sans-Serif\" font-size=\"14.00\">samples = 712</text>\n",
       "<text text-anchor=\"middle\" x=\"1189.25\" y=\"-22.2\" font-family=\"Helvetica,sans-Serif\" font-size=\"14.00\">value = [20, 692]</text>\n",
       "<text text-anchor=\"middle\" x=\"1189.25\" y=\"-6.45\" font-family=\"Helvetica,sans-Serif\" font-size=\"14.00\">class = Fraude</text>\n",
       "</g>\n",
       "<!-- 13&#45;&gt;15 -->\n",
       "<g id=\"edge15\" class=\"edge\">\n",
       "<title>13&#45;&gt;15</title>\n",
       "<path fill=\"none\" stroke=\"black\" d=\"M1117.1,-106.7C1126.43,-97.62 1136.28,-88.04 1145.6,-78.97\"/>\n",
       "<polygon fill=\"black\" stroke=\"black\" points=\"1147.82,-81.7 1152.55,-72.21 1142.94,-76.68 1147.82,-81.7\"/>\n",
       "</g>\n",
       "<!-- 17 -->\n",
       "<g id=\"node18\" class=\"node\">\n",
       "<title>17</title>\n",
       "<path fill=\"#f1f8fd\" stroke=\"black\" d=\"M1623.62,-316.5C1623.62,-316.5 1486.88,-316.5 1486.88,-316.5 1480.88,-316.5 1474.88,-310.5 1474.88,-304.5 1474.88,-304.5 1474.88,-241.75 1474.88,-241.75 1474.88,-235.75 1480.88,-229.75 1486.88,-229.75 1486.88,-229.75 1623.62,-229.75 1623.62,-229.75 1629.62,-229.75 1635.62,-235.75 1635.62,-241.75 1635.62,-241.75 1635.62,-304.5 1635.62,-304.5 1635.62,-310.5 1629.62,-316.5 1623.62,-316.5\"/>\n",
       "<text text-anchor=\"middle\" x=\"1555.25\" y=\"-299.2\" font-family=\"Helvetica,sans-Serif\" font-size=\"14.00\">repeat_retailer &lt;= 0.351</text>\n",
       "<text text-anchor=\"middle\" x=\"1555.25\" y=\"-283.45\" font-family=\"Helvetica,sans-Serif\" font-size=\"14.00\">gini = 0.499</text>\n",
       "<text text-anchor=\"middle\" x=\"1555.25\" y=\"-267.7\" font-family=\"Helvetica,sans-Serif\" font-size=\"14.00\">samples = 52680</text>\n",
       "<text text-anchor=\"middle\" x=\"1555.25\" y=\"-251.95\" font-family=\"Helvetica,sans-Serif\" font-size=\"14.00\">value = [25403, 27277]</text>\n",
       "<text text-anchor=\"middle\" x=\"1555.25\" y=\"-236.2\" font-family=\"Helvetica,sans-Serif\" font-size=\"14.00\">class = Fraude</text>\n",
       "</g>\n",
       "<!-- 16&#45;&gt;17 -->\n",
       "<g id=\"edge17\" class=\"edge\">\n",
       "<title>16&#45;&gt;17</title>\n",
       "<path fill=\"none\" stroke=\"black\" d=\"M1555.25,-352.3C1555.25,-344.46 1555.25,-336.17 1555.25,-328.04\"/>\n",
       "<polygon fill=\"black\" stroke=\"black\" points=\"1558.75,-328.23 1555.25,-318.23 1551.75,-328.23 1558.75,-328.23\"/>\n",
       "</g>\n",
       "<!-- 24 -->\n",
       "<g id=\"node25\" class=\"node\">\n",
       "<title>24</title>\n",
       "<path fill=\"#3b9ee5\" stroke=\"black\" d=\"M1914.5,-316.5C1914.5,-316.5 1756,-316.5 1756,-316.5 1750,-316.5 1744,-310.5 1744,-304.5 1744,-304.5 1744,-241.75 1744,-241.75 1744,-235.75 1750,-229.75 1756,-229.75 1756,-229.75 1914.5,-229.75 1914.5,-229.75 1920.5,-229.75 1926.5,-235.75 1926.5,-241.75 1926.5,-241.75 1926.5,-304.5 1926.5,-304.5 1926.5,-310.5 1920.5,-316.5 1914.5,-316.5\"/>\n",
       "<text text-anchor=\"middle\" x=\"1835.25\" y=\"-299.2\" font-family=\"Helvetica,sans-Serif\" font-size=\"14.00\">used_pin_number &lt;= 4.109</text>\n",
       "<text text-anchor=\"middle\" x=\"1835.25\" y=\"-283.45\" font-family=\"Helvetica,sans-Serif\" font-size=\"14.00\">gini = 0.02</text>\n",
       "<text text-anchor=\"middle\" x=\"1835.25\" y=\"-267.7\" font-family=\"Helvetica,sans-Serif\" font-size=\"14.00\">samples = 517917</text>\n",
       "<text text-anchor=\"middle\" x=\"1835.25\" y=\"-251.95\" font-family=\"Helvetica,sans-Serif\" font-size=\"14.00\">value = [5199, 512718]</text>\n",
       "<text text-anchor=\"middle\" x=\"1835.25\" y=\"-236.2\" font-family=\"Helvetica,sans-Serif\" font-size=\"14.00\">class = Fraude</text>\n",
       "</g>\n",
       "<!-- 16&#45;&gt;24 -->\n",
       "<g id=\"edge24\" class=\"edge\">\n",
       "<title>16&#45;&gt;24</title>\n",
       "<path fill=\"none\" stroke=\"black\" d=\"M1636.24,-359.95C1666.55,-346.88 1701.38,-331.85 1733.35,-318.07\"/>\n",
       "<polygon fill=\"black\" stroke=\"black\" points=\"1734.43,-321.42 1742.23,-314.24 1731.66,-314.99 1734.43,-321.42\"/>\n",
       "</g>\n",
       "<!-- 18 -->\n",
       "<g id=\"node19\" class=\"node\">\n",
       "<title>18</title>\n",
       "<path fill=\"#48a4e7\" stroke=\"black\" d=\"M1527.5,-193.75C1527.5,-193.75 1405,-193.75 1405,-193.75 1399,-193.75 1393,-187.75 1393,-181.75 1393,-181.75 1393,-119 1393,-119 1393,-113 1399,-107 1405,-107 1405,-107 1527.5,-107 1527.5,-107 1533.5,-107 1539.5,-113 1539.5,-119 1539.5,-119 1539.5,-181.75 1539.5,-181.75 1539.5,-187.75 1533.5,-193.75 1527.5,-193.75\"/>\n",
       "<text text-anchor=\"middle\" x=\"1466.25\" y=\"-176.45\" font-family=\"Helvetica,sans-Serif\" font-size=\"14.00\">used_chip &lt;= 1.514</text>\n",
       "<text text-anchor=\"middle\" x=\"1466.25\" y=\"-160.7\" font-family=\"Helvetica,sans-Serif\" font-size=\"14.00\">gini = 0.128</text>\n",
       "<text text-anchor=\"middle\" x=\"1466.25\" y=\"-144.95\" font-family=\"Helvetica,sans-Serif\" font-size=\"14.00\">samples = 20960</text>\n",
       "<text text-anchor=\"middle\" x=\"1466.25\" y=\"-129.2\" font-family=\"Helvetica,sans-Serif\" font-size=\"14.00\">value = [1443, 19517]</text>\n",
       "<text text-anchor=\"middle\" x=\"1466.25\" y=\"-113.45\" font-family=\"Helvetica,sans-Serif\" font-size=\"14.00\">class = Fraude</text>\n",
       "</g>\n",
       "<!-- 17&#45;&gt;18 -->\n",
       "<g id=\"edge18\" class=\"edge\">\n",
       "<title>17&#45;&gt;18</title>\n",
       "<path fill=\"none\" stroke=\"black\" d=\"M1523.87,-229.55C1517.56,-220.99 1510.86,-211.89 1504.34,-203.06\"/>\n",
       "<polygon fill=\"black\" stroke=\"black\" points=\"1507.29,-201.16 1498.54,-195.19 1501.66,-205.31 1507.29,-201.16\"/>\n",
       "</g>\n",
       "<!-- 21 -->\n",
       "<g id=\"node22\" class=\"node\">\n",
       "<title>21</title>\n",
       "<path fill=\"#edaa79\" stroke=\"black\" d=\"M1739.12,-193.75C1739.12,-193.75 1569.38,-193.75 1569.38,-193.75 1563.38,-193.75 1557.38,-187.75 1557.38,-181.75 1557.38,-181.75 1557.38,-119 1557.38,-119 1557.38,-113 1563.38,-107 1569.38,-107 1569.38,-107 1739.12,-107 1739.12,-107 1745.12,-107 1751.12,-113 1751.12,-119 1751.12,-119 1751.12,-181.75 1751.12,-181.75 1751.12,-187.75 1745.12,-193.75 1739.12,-193.75\"/>\n",
       "<text text-anchor=\"middle\" x=\"1654.25\" y=\"-176.45\" font-family=\"Helvetica,sans-Serif\" font-size=\"14.00\">distance_from_home &lt;= 0.54</text>\n",
       "<text text-anchor=\"middle\" x=\"1654.25\" y=\"-160.7\" font-family=\"Helvetica,sans-Serif\" font-size=\"14.00\">gini = 0.37</text>\n",
       "<text text-anchor=\"middle\" x=\"1654.25\" y=\"-144.95\" font-family=\"Helvetica,sans-Serif\" font-size=\"14.00\">samples = 31720</text>\n",
       "<text text-anchor=\"middle\" x=\"1654.25\" y=\"-129.2\" font-family=\"Helvetica,sans-Serif\" font-size=\"14.00\">value = [23960, 7760]</text>\n",
       "<text text-anchor=\"middle\" x=\"1654.25\" y=\"-113.45\" font-family=\"Helvetica,sans-Serif\" font-size=\"14.00\">class = Não é fraude</text>\n",
       "</g>\n",
       "<!-- 17&#45;&gt;21 -->\n",
       "<g id=\"edge21\" class=\"edge\">\n",
       "<title>17&#45;&gt;21</title>\n",
       "<path fill=\"none\" stroke=\"black\" d=\"M1590.15,-229.55C1597.25,-220.9 1604.79,-211.7 1612.11,-202.78\"/>\n",
       "<polygon fill=\"black\" stroke=\"black\" points=\"1614.73,-205.09 1618.37,-195.14 1609.32,-200.65 1614.73,-205.09\"/>\n",
       "</g>\n",
       "<!-- 19 -->\n",
       "<g id=\"node20\" class=\"node\">\n",
       "<title>19</title>\n",
       "<path fill=\"#3b9ee5\" stroke=\"black\" d=\"M1392.75,-71C1392.75,-71 1277.75,-71 1277.75,-71 1271.75,-71 1265.75,-65 1265.75,-59 1265.75,-59 1265.75,-12 1265.75,-12 1265.75,-6 1271.75,0 1277.75,0 1277.75,0 1392.75,0 1392.75,0 1398.75,0 1404.75,-6 1404.75,-12 1404.75,-12 1404.75,-59 1404.75,-59 1404.75,-65 1398.75,-71 1392.75,-71\"/>\n",
       "<text text-anchor=\"middle\" x=\"1335.25\" y=\"-53.7\" font-family=\"Helvetica,sans-Serif\" font-size=\"14.00\">gini = 0.023</text>\n",
       "<text text-anchor=\"middle\" x=\"1335.25\" y=\"-37.95\" font-family=\"Helvetica,sans-Serif\" font-size=\"14.00\">samples = 19725</text>\n",
       "<text text-anchor=\"middle\" x=\"1335.25\" y=\"-22.2\" font-family=\"Helvetica,sans-Serif\" font-size=\"14.00\">value = [226, 19499]</text>\n",
       "<text text-anchor=\"middle\" x=\"1335.25\" y=\"-6.45\" font-family=\"Helvetica,sans-Serif\" font-size=\"14.00\">class = Fraude</text>\n",
       "</g>\n",
       "<!-- 18&#45;&gt;19 -->\n",
       "<g id=\"edge19\" class=\"edge\">\n",
       "<title>18&#45;&gt;19</title>\n",
       "<path fill=\"none\" stroke=\"black\" d=\"M1416.72,-106.7C1405.98,-97.44 1394.62,-87.65 1383.9,-78.42\"/>\n",
       "<polygon fill=\"black\" stroke=\"black\" points=\"1386.48,-76.02 1376.62,-72.15 1381.91,-81.32 1386.48,-76.02\"/>\n",
       "</g>\n",
       "<!-- 20 -->\n",
       "<g id=\"node21\" class=\"node\">\n",
       "<title>20</title>\n",
       "<path fill=\"#e5833c\" stroke=\"black\" d=\"M1551.5,-71C1551.5,-71 1435,-71 1435,-71 1429,-71 1423,-65 1423,-59 1423,-59 1423,-12 1423,-12 1423,-6 1429,0 1435,0 1435,0 1551.5,0 1551.5,0 1557.5,0 1563.5,-6 1563.5,-12 1563.5,-12 1563.5,-59 1563.5,-59 1563.5,-65 1557.5,-71 1551.5,-71\"/>\n",
       "<text text-anchor=\"middle\" x=\"1493.25\" y=\"-53.7\" font-family=\"Helvetica,sans-Serif\" font-size=\"14.00\">gini = 0.029</text>\n",
       "<text text-anchor=\"middle\" x=\"1493.25\" y=\"-37.95\" font-family=\"Helvetica,sans-Serif\" font-size=\"14.00\">samples = 1235</text>\n",
       "<text text-anchor=\"middle\" x=\"1493.25\" y=\"-22.2\" font-family=\"Helvetica,sans-Serif\" font-size=\"14.00\">value = [1217, 18]</text>\n",
       "<text text-anchor=\"middle\" x=\"1493.25\" y=\"-6.45\" font-family=\"Helvetica,sans-Serif\" font-size=\"14.00\">class = Não é fraude</text>\n",
       "</g>\n",
       "<!-- 18&#45;&gt;20 -->\n",
       "<g id=\"edge20\" class=\"edge\">\n",
       "<title>18&#45;&gt;20</title>\n",
       "<path fill=\"none\" stroke=\"black\" d=\"M1476.46,-106.7C1478.37,-98.72 1480.37,-90.36 1482.3,-82.29\"/>\n",
       "<polygon fill=\"black\" stroke=\"black\" points=\"1485.69,-83.17 1484.61,-72.63 1478.88,-81.54 1485.69,-83.17\"/>\n",
       "</g>\n",
       "<!-- 22 -->\n",
       "<g id=\"node23\" class=\"node\">\n",
       "<title>22</title>\n",
       "<path fill=\"#e68743\" stroke=\"black\" d=\"M1715.12,-71C1715.12,-71 1593.38,-71 1593.38,-71 1587.38,-71 1581.38,-65 1581.38,-59 1581.38,-59 1581.38,-12 1581.38,-12 1581.38,-6 1587.38,0 1593.38,0 1593.38,0 1715.12,0 1715.12,0 1721.12,0 1727.12,-6 1727.12,-12 1727.12,-12 1727.12,-59 1727.12,-59 1727.12,-65 1721.12,-71 1715.12,-71\"/>\n",
       "<text text-anchor=\"middle\" x=\"1654.25\" y=\"-53.7\" font-family=\"Helvetica,sans-Serif\" font-size=\"14.00\">gini = 0.09</text>\n",
       "<text text-anchor=\"middle\" x=\"1654.25\" y=\"-37.95\" font-family=\"Helvetica,sans-Serif\" font-size=\"14.00\">samples = 25000</text>\n",
       "<text text-anchor=\"middle\" x=\"1654.25\" y=\"-22.2\" font-family=\"Helvetica,sans-Serif\" font-size=\"14.00\">value = [23824, 1176]</text>\n",
       "<text text-anchor=\"middle\" x=\"1654.25\" y=\"-6.45\" font-family=\"Helvetica,sans-Serif\" font-size=\"14.00\">class = Não é fraude</text>\n",
       "</g>\n",
       "<!-- 21&#45;&gt;22 -->\n",
       "<g id=\"edge22\" class=\"edge\">\n",
       "<title>21&#45;&gt;22</title>\n",
       "<path fill=\"none\" stroke=\"black\" d=\"M1654.25,-106.7C1654.25,-98.82 1654.25,-90.55 1654.25,-82.57\"/>\n",
       "<polygon fill=\"black\" stroke=\"black\" points=\"1657.75,-82.67 1654.25,-72.67 1650.75,-82.67 1657.75,-82.67\"/>\n",
       "</g>\n",
       "<!-- 23 -->\n",
       "<g id=\"node24\" class=\"node\">\n",
       "<title>23</title>\n",
       "<path fill=\"#3d9fe6\" stroke=\"black\" d=\"M1865,-71C1865,-71 1757.5,-71 1757.5,-71 1751.5,-71 1745.5,-65 1745.5,-59 1745.5,-59 1745.5,-12 1745.5,-12 1745.5,-6 1751.5,0 1757.5,0 1757.5,0 1865,0 1865,0 1871,0 1877,-6 1877,-12 1877,-12 1877,-59 1877,-59 1877,-65 1871,-71 1865,-71\"/>\n",
       "<text text-anchor=\"middle\" x=\"1811.25\" y=\"-53.7\" font-family=\"Helvetica,sans-Serif\" font-size=\"14.00\">gini = 0.04</text>\n",
       "<text text-anchor=\"middle\" x=\"1811.25\" y=\"-37.95\" font-family=\"Helvetica,sans-Serif\" font-size=\"14.00\">samples = 6720</text>\n",
       "<text text-anchor=\"middle\" x=\"1811.25\" y=\"-22.2\" font-family=\"Helvetica,sans-Serif\" font-size=\"14.00\">value = [136, 6584]</text>\n",
       "<text text-anchor=\"middle\" x=\"1811.25\" y=\"-6.45\" font-family=\"Helvetica,sans-Serif\" font-size=\"14.00\">class = Fraude</text>\n",
       "</g>\n",
       "<!-- 21&#45;&gt;23 -->\n",
       "<g id=\"edge23\" class=\"edge\">\n",
       "<title>21&#45;&gt;23</title>\n",
       "<path fill=\"none\" stroke=\"black\" d=\"M1713.6,-106.7C1726.74,-97.26 1740.64,-87.27 1753.7,-77.87\"/>\n",
       "<polygon fill=\"black\" stroke=\"black\" points=\"1755.74,-80.72 1761.82,-72.04 1751.65,-75.04 1755.74,-80.72\"/>\n",
       "</g>\n",
       "<!-- 25 -->\n",
       "<g id=\"node26\" class=\"node\">\n",
       "<title>25</title>\n",
       "<path fill=\"#399de5\" stroke=\"black\" d=\"M1889,-185.88C1889,-185.88 1781.5,-185.88 1781.5,-185.88 1775.5,-185.88 1769.5,-179.88 1769.5,-173.88 1769.5,-173.88 1769.5,-126.88 1769.5,-126.88 1769.5,-120.88 1775.5,-114.88 1781.5,-114.88 1781.5,-114.88 1889,-114.88 1889,-114.88 1895,-114.88 1901,-120.88 1901,-126.88 1901,-126.88 1901,-173.88 1901,-173.88 1901,-179.88 1895,-185.88 1889,-185.88\"/>\n",
       "<text text-anchor=\"middle\" x=\"1835.25\" y=\"-168.57\" font-family=\"Helvetica,sans-Serif\" font-size=\"14.00\">gini = 0.0</text>\n",
       "<text text-anchor=\"middle\" x=\"1835.25\" y=\"-152.82\" font-family=\"Helvetica,sans-Serif\" font-size=\"14.00\">samples = 512333</text>\n",
       "<text text-anchor=\"middle\" x=\"1835.25\" y=\"-137.07\" font-family=\"Helvetica,sans-Serif\" font-size=\"14.00\">value = [0, 512333]</text>\n",
       "<text text-anchor=\"middle\" x=\"1835.25\" y=\"-121.33\" font-family=\"Helvetica,sans-Serif\" font-size=\"14.00\">class = Fraude</text>\n",
       "</g>\n",
       "<!-- 24&#45;&gt;25 -->\n",
       "<g id=\"edge25\" class=\"edge\">\n",
       "<title>24&#45;&gt;25</title>\n",
       "<path fill=\"none\" stroke=\"black\" d=\"M1835.25,-229.55C1835.25,-219.08 1835.25,-207.83 1835.25,-197.21\"/>\n",
       "<polygon fill=\"black\" stroke=\"black\" points=\"1838.75,-197.52 1835.25,-187.52 1831.75,-197.52 1838.75,-197.52\"/>\n",
       "</g>\n",
       "<!-- 26 -->\n",
       "<g id=\"node27\" class=\"node\">\n",
       "<title>26</title>\n",
       "<path fill=\"#e78a48\" stroke=\"black\" d=\"M2107.88,-193.75C2107.88,-193.75 1930.62,-193.75 1930.62,-193.75 1924.62,-193.75 1918.62,-187.75 1918.62,-181.75 1918.62,-181.75 1918.62,-119 1918.62,-119 1918.62,-113 1924.62,-107 1930.62,-107 1930.62,-107 2107.88,-107 2107.88,-107 2113.88,-107 2119.88,-113 2119.88,-119 2119.88,-119 2119.88,-181.75 2119.88,-181.75 2119.88,-187.75 2113.88,-193.75 2107.88,-193.75\"/>\n",
       "<text text-anchor=\"middle\" x=\"2019.25\" y=\"-176.45\" font-family=\"Helvetica,sans-Serif\" font-size=\"14.00\">distance_from_home &lt;= 0.543</text>\n",
       "<text text-anchor=\"middle\" x=\"2019.25\" y=\"-160.7\" font-family=\"Helvetica,sans-Serif\" font-size=\"14.00\">gini = 0.128</text>\n",
       "<text text-anchor=\"middle\" x=\"2019.25\" y=\"-144.95\" font-family=\"Helvetica,sans-Serif\" font-size=\"14.00\">samples = 5584</text>\n",
       "<text text-anchor=\"middle\" x=\"2019.25\" y=\"-129.2\" font-family=\"Helvetica,sans-Serif\" font-size=\"14.00\">value = [5199, 385]</text>\n",
       "<text text-anchor=\"middle\" x=\"2019.25\" y=\"-113.45\" font-family=\"Helvetica,sans-Serif\" font-size=\"14.00\">class = Não é fraude</text>\n",
       "</g>\n",
       "<!-- 24&#45;&gt;26 -->\n",
       "<g id=\"edge26\" class=\"edge\">\n",
       "<title>24&#45;&gt;26</title>\n",
       "<path fill=\"none\" stroke=\"black\" d=\"M1900.38,-229.38C1914.71,-219.98 1930,-209.95 1944.67,-200.32\"/>\n",
       "<polygon fill=\"black\" stroke=\"black\" points=\"1946.5,-203.3 1952.94,-194.89 1942.66,-197.45 1946.5,-203.3\"/>\n",
       "</g>\n",
       "<!-- 27 -->\n",
       "<g id=\"node28\" class=\"node\">\n",
       "<title>27</title>\n",
       "<path fill=\"#e6843d\" stroke=\"black\" d=\"M2050.5,-71C2050.5,-71 1934,-71 1934,-71 1928,-71 1922,-65 1922,-59 1922,-59 1922,-12 1922,-12 1922,-6 1928,0 1934,0 1934,0 2050.5,0 2050.5,0 2056.5,0 2062.5,-6 2062.5,-12 2062.5,-12 2062.5,-59 2062.5,-59 2062.5,-65 2056.5,-71 2050.5,-71\"/>\n",
       "<text text-anchor=\"middle\" x=\"1992.25\" y=\"-53.7\" font-family=\"Helvetica,sans-Serif\" font-size=\"14.00\">gini = 0.041</text>\n",
       "<text text-anchor=\"middle\" x=\"1992.25\" y=\"-37.95\" font-family=\"Helvetica,sans-Serif\" font-size=\"14.00\">samples = 5208</text>\n",
       "<text text-anchor=\"middle\" x=\"1992.25\" y=\"-22.2\" font-family=\"Helvetica,sans-Serif\" font-size=\"14.00\">value = [5100, 108]</text>\n",
       "<text text-anchor=\"middle\" x=\"1992.25\" y=\"-6.45\" font-family=\"Helvetica,sans-Serif\" font-size=\"14.00\">class = Não é fraude</text>\n",
       "</g>\n",
       "<!-- 26&#45;&gt;27 -->\n",
       "<g id=\"edge27\" class=\"edge\">\n",
       "<title>26&#45;&gt;27</title>\n",
       "<path fill=\"none\" stroke=\"black\" d=\"M2009.04,-106.7C2007.13,-98.72 2005.13,-90.36 2003.2,-82.29\"/>\n",
       "<polygon fill=\"black\" stroke=\"black\" points=\"2006.62,-81.54 2000.89,-72.63 1999.81,-83.17 2006.62,-81.54\"/>\n",
       "</g>\n",
       "<!-- 28 -->\n",
       "<g id=\"node29\" class=\"node\">\n",
       "<title>28</title>\n",
       "<path fill=\"#80c0ee\" stroke=\"black\" d=\"M2207.75,-71C2207.75,-71 2092.75,-71 2092.75,-71 2086.75,-71 2080.75,-65 2080.75,-59 2080.75,-59 2080.75,-12 2080.75,-12 2080.75,-6 2086.75,0 2092.75,0 2092.75,0 2207.75,0 2207.75,0 2213.75,0 2219.75,-6 2219.75,-12 2219.75,-12 2219.75,-59 2219.75,-59 2219.75,-65 2213.75,-71 2207.75,-71\"/>\n",
       "<text text-anchor=\"middle\" x=\"2150.25\" y=\"-53.7\" font-family=\"Helvetica,sans-Serif\" font-size=\"14.00\">gini = 0.388</text>\n",
       "<text text-anchor=\"middle\" x=\"2150.25\" y=\"-37.95\" font-family=\"Helvetica,sans-Serif\" font-size=\"14.00\">samples = 376</text>\n",
       "<text text-anchor=\"middle\" x=\"2150.25\" y=\"-22.2\" font-family=\"Helvetica,sans-Serif\" font-size=\"14.00\">value = [99.0, 277.0]</text>\n",
       "<text text-anchor=\"middle\" x=\"2150.25\" y=\"-6.45\" font-family=\"Helvetica,sans-Serif\" font-size=\"14.00\">class = Fraude</text>\n",
       "</g>\n",
       "<!-- 26&#45;&gt;28 -->\n",
       "<g id=\"edge28\" class=\"edge\">\n",
       "<title>26&#45;&gt;28</title>\n",
       "<path fill=\"none\" stroke=\"black\" d=\"M2068.78,-106.7C2079.52,-97.44 2090.88,-87.65 2101.6,-78.42\"/>\n",
       "<polygon fill=\"black\" stroke=\"black\" points=\"2103.59,-81.32 2108.88,-72.15 2099.02,-76.02 2103.59,-81.32\"/>\n",
       "</g>\n",
       "</g>\n",
       "</svg>\n"
      ],
      "text/plain": [
       "<graphviz.sources.Source at 0x2e0969c3810>"
      ]
     },
     "execution_count": 192,
     "metadata": {},
     "output_type": "execute_result"
    }
   ],
   "source": [
    "from sklearn.tree import export_graphviz\n",
    "import graphviz\n",
    "\n",
    "dot = export_graphviz(\n",
    "    tree, feature_names=X.columns, class_names=[\"Não é fraude\", \"Fraude\"],\n",
    "    filled=True, rounded=True)\n",
    "graphviz.Source(dot)"
   ]
  },
  {
   "cell_type": "markdown",
   "metadata": {
    "id": "mAwhi7NOJHdB"
   },
   "source": [
    "A árvore ficou grande. Caso quiséssemos **diminuir**, poderíamos mexer na:\n",
    "- profundidade (**max_depth**);\n",
    "- quantidade mínima de amostras para criar uma folha (**min_samples_leaf**)\n",
    "- quantidade mínima de amostras para dividir um nó (**min_samples_split**)\n",
    "\n",
    "Porém, deve-se mexer com cuidado para não perdermos eficiência."
   ]
  },
  {
   "cell_type": "markdown",
   "metadata": {
    "id": "qlSuKeZ38cJ2"
   },
   "source": [
    "<br>Vejamos se conseguimos um modelo ainda melhor:"
   ]
  },
  {
   "cell_type": "markdown",
   "metadata": {
    "id": "qbZo77s5lChv"
   },
   "source": [
    "## RandomForest\n",
    "\n",
    "\"Floresta de árvores\", usa várias DecisionTrees (por padrão 100) para chegar a um resultado final.\n",
    "\n",
    "Esse modelo costuma ser mais robusto, mais preciso e evita o overfitting, porém é bem mais lento."
   ]
  },
  {
   "cell_type": "code",
   "execution_count": 163,
   "metadata": {
    "colab": {
     "base_uri": "https://localhost:8080/",
     "height": 571
    },
    "id": "Idu5XKqwj_wD",
    "outputId": "b0ee0edd-d99e-42de-85e7-6004d339f09d"
   },
   "outputs": [
    {
     "name": "stdout",
     "output_type": "stream",
     "text": [
      "Acurácia: 99.85%\n",
      "Sensibilidade: 99.81%\n",
      "Precisão: 98.55%\n",
      "F1 score: 99.17%\n",
      "Curva ROC: 99.83%\n",
      "\n",
      "===== MATRIZ DE CONFUSÃO =====\n"
     ]
    },
    {
     "data": {
      "image/png": "[encoded data removed]",
      "text/plain": [
       "<Figure size 640x480 with 2 Axes>"
      ]
     },
     "metadata": {},
     "output_type": "display_data"
    }
   ],
   "source": [
    "from sklearn.ensemble import RandomForestClassifier\n",
    "\n",
    "rf = RandomForestClassifier(max_depth=4, random_state=SEED, n_jobs=-1)\n",
    "# n_jobs=-1 para paralelizar e agilizar o processo, usando todos os\n",
    "# núcleos disponíveis. Usar com cautela.\n",
    "rf.fit(X_train_res_scaled, y_train_res)\n",
    "y_pred = rf.predict(X_test_scaled)\n",
    "resultados(y_test, y_pred, matriz=True)"
   ]
  },
  {
   "cell_type": "markdown",
   "metadata": {
    "id": "33q_G2IWn1Ci"
   },
   "source": [
    "Apesar da lentidão, conseguiu se sair ainda melhor, entregando **70% menos falsos negativos** que a DecisionTree (fraudes não detectadas caíram de 114 para 34 (-80)).\n",
    "\n",
    "Vejamos se conseguimos resultados ainda melhores refinando os hiperparâmetros:"
   ]
  },
  {
   "cell_type": "markdown",
   "metadata": {
    "id": "j7CmYDGvmhDS"
   },
   "source": [
    "### RandomSearchCV\n",
    "\n",
    "- Ajuda a encontrar os **melhores hiperparâmetros** para otimizarmos nosso modelo;\n",
    "- Porém normalmente **demora muito**, ainda mais quando há muitos hiperparâmetros para testar. Por isso é necessário escolhermos o número de interações/combinações de hiperparâmetros para testar aleatoriamente. Para otimizar o modelo ao máximo possível, o ideal é testar todas as combinações de hiperparâmetros. Mas vai depender do custo computacional e se há tempo disponível para esperar;\n",
    "- É uma versão do **GridSearchCV**, que testa todos os hiperparâmetros fornecidos, porém **demora MUITO**, demora até horas;\n",
    "- Além disso, por padrão é feita uma **Validação Cruzada** de 5-folds, que divide os dados em treino/teste de 5 formas diferentes, testando cada cenário (dobra). Assim evita o enviesamento de uma única divisão ruim que ocasionalmente possamos fazer no holdout;\n",
    "- Usaremos **Pipeline** para que o Overfitting e a Padronização com StandardScaler sejam aplicados somente nos dados de teste de cada cenário (dobra) da validação cruzada."
   ]
  },
  {
   "cell_type": "code",
   "execution_count": 166,
   "metadata": {
    "colab": {
     "background_save": true,
     "base_uri": "https://localhost:8080/"
    },
    "id": "SVVwDdvBrC_K",
    "outputId": "54bea56e-c5b3-4213-9de9-5e380b1140d3"
   },
   "outputs": [],
   "source": [
    "from sklearn.model_selection import RandomizedSearchCV\n",
    "from imblearn.pipeline import Pipeline\n",
    "# Pipeline da imblearn permite inserir o SMOTE, diferente da sklearn\n",
    "\n",
    "pipeline = Pipeline([\n",
    "    (\"smote\", SMOTE()),\n",
    "    (\"scaler\", StandardScaler()),\n",
    "    (\"modelo\", RandomForestClassifier(random_state=SEED, n_jobs=-1)),\n",
    "    ])\n",
    "parametros = {\n",
    "    \"modelo__criterion\": [\"gini\", \"entropy\", \"log_loss\"],\n",
    "    \"modelo__max_depth\": range(4, 11),\n",
    "    \"modelo__bootstrap\": [True, False],\n",
    "    }\n",
    "gs = RandomizedSearchCV(\n",
    "    pipeline,\n",
    "    parametros,\n",
    "    n_iter=2,\n",
    "    scoring=[\"recall\", \"precision\", \"f1\"],\n",
    "    refit=\"f1\",\n",
    "    n_jobs=-1,\n",
    "    random_state=SEED,\n",
    "    )\n",
    "gs.fit(X, y);"
   ]
  },
  {
   "cell_type": "code",
   "execution_count": 200,
   "metadata": {
    "id": "IAxCebR873cS"
   },
   "outputs": [
    {
     "data": {
      "text/html": [
       "<div>\n",
       "<style scoped>\n",
       "    .dataframe tbody tr th:only-of-type {\n",
       "        vertical-align: middle;\n",
       "    }\n",
       "\n",
       "    .dataframe tbody tr th {\n",
       "        vertical-align: top;\n",
       "    }\n",
       "\n",
       "    .dataframe thead th {\n",
       "        text-align: right;\n",
       "    }\n",
       "</style>\n",
       "<table border=\"1\" class=\"dataframe\">\n",
       "  <thead>\n",
       "    <tr style=\"text-align: right;\">\n",
       "      <th></th>\n",
       "      <th>mean_fit_time</th>\n",
       "      <th>std_fit_time</th>\n",
       "      <th>mean_score_time</th>\n",
       "      <th>std_score_time</th>\n",
       "      <th>param_modelo__max_depth</th>\n",
       "      <th>param_modelo__criterion</th>\n",
       "      <th>param_modelo__bootstrap</th>\n",
       "      <th>params</th>\n",
       "      <th>split0_test_recall</th>\n",
       "      <th>split1_test_recall</th>\n",
       "      <th>...</th>\n",
       "      <th>std_test_precision</th>\n",
       "      <th>rank_test_precision</th>\n",
       "      <th>split0_test_f1</th>\n",
       "      <th>split1_test_f1</th>\n",
       "      <th>split2_test_f1</th>\n",
       "      <th>split3_test_f1</th>\n",
       "      <th>split4_test_f1</th>\n",
       "      <th>mean_test_f1</th>\n",
       "      <th>std_test_f1</th>\n",
       "      <th>rank_test_f1</th>\n",
       "    </tr>\n",
       "  </thead>\n",
       "  <tbody>\n",
       "    <tr>\n",
       "      <th>0</th>\n",
       "      <td>1044.608550</td>\n",
       "      <td>6.723134</td>\n",
       "      <td>10.580308</td>\n",
       "      <td>0.438247</td>\n",
       "      <td>8</td>\n",
       "      <td>log_loss</td>\n",
       "      <td>True</td>\n",
       "      <td>{'modelo__max_depth': 8, 'modelo__criterion': ...</td>\n",
       "      <td>0.999771</td>\n",
       "      <td>0.999943</td>\n",
       "      <td>...</td>\n",
       "      <td>0.000000</td>\n",
       "      <td>1</td>\n",
       "      <td>0.999886</td>\n",
       "      <td>0.999971</td>\n",
       "      <td>0.999971</td>\n",
       "      <td>0.999828</td>\n",
       "      <td>0.999943</td>\n",
       "      <td>0.999920</td>\n",
       "      <td>0.000055</td>\n",
       "      <td>1</td>\n",
       "    </tr>\n",
       "    <tr>\n",
       "      <th>1</th>\n",
       "      <td>1088.705356</td>\n",
       "      <td>239.855637</td>\n",
       "      <td>10.611574</td>\n",
       "      <td>5.637631</td>\n",
       "      <td>10</td>\n",
       "      <td>entropy</td>\n",
       "      <td>False</td>\n",
       "      <td>{'modelo__max_depth': 10, 'modelo__criterion':...</td>\n",
       "      <td>0.999771</td>\n",
       "      <td>0.999943</td>\n",
       "      <td>...</td>\n",
       "      <td>0.000046</td>\n",
       "      <td>2</td>\n",
       "      <td>0.999886</td>\n",
       "      <td>0.999971</td>\n",
       "      <td>0.999943</td>\n",
       "      <td>0.999886</td>\n",
       "      <td>0.999886</td>\n",
       "      <td>0.999914</td>\n",
       "      <td>0.000036</td>\n",
       "      <td>2</td>\n",
       "    </tr>\n",
       "  </tbody>\n",
       "</table>\n",
       "<p>2 rows × 32 columns</p>\n",
       "</div>"
      ],
      "text/plain": [
       "   mean_fit_time  std_fit_time  mean_score_time  std_score_time  \\\n",
       "0    1044.608550      6.723134        10.580308        0.438247   \n",
       "1    1088.705356    239.855637        10.611574        5.637631   \n",
       "\n",
       "   param_modelo__max_depth param_modelo__criterion  param_modelo__bootstrap  \\\n",
       "0                        8                log_loss                     True   \n",
       "1                       10                 entropy                    False   \n",
       "\n",
       "                                              params  split0_test_recall  \\\n",
       "0  {'modelo__max_depth': 8, 'modelo__criterion': ...            0.999771   \n",
       "1  {'modelo__max_depth': 10, 'modelo__criterion':...            0.999771   \n",
       "\n",
       "   split1_test_recall  ...  std_test_precision  rank_test_precision  \\\n",
       "0            0.999943  ...            0.000000                    1   \n",
       "1            0.999943  ...            0.000046                    2   \n",
       "\n",
       "   split0_test_f1  split1_test_f1  split2_test_f1  split3_test_f1  \\\n",
       "0        0.999886        0.999971        0.999971        0.999828   \n",
       "1        0.999886        0.999971        0.999943        0.999886   \n",
       "\n",
       "   split4_test_f1  mean_test_f1  std_test_f1  rank_test_f1  \n",
       "0        0.999943      0.999920     0.000055             1  \n",
       "1        0.999886      0.999914     0.000036             2  \n",
       "\n",
       "[2 rows x 32 columns]"
      ]
     },
     "execution_count": 200,
     "metadata": {},
     "output_type": "execute_result"
    }
   ],
   "source": [
    "pd.DataFrame(gs.cv_results_).sort_values(\n",
    "    [\"rank_test_f1\", \"rank_test_recall\", \"rank_test_precision\"]\n",
    "    )[[\n",
    "        \"mean_test_recall\",\n",
    "        \"mean_test_precision\",\n",
    "        \"mean_test_f1\",\n",
    "        \"rank_test_recall\",\n",
    "        \"rank_test_precision\",\n",
    "        \"rank_test_f1\",\n",
    "        \"param_modelo__criterion\",\n",
    "        \"param_modelo__max_depth\",\n",
    "        \"param_modelo__bootstrap\",\n",
    "    ]].reset_index(drop=True)"
   ]
  },
  {
   "cell_type": "code",
   "execution_count": null,
   "metadata": {
    "id": "HwFGVWaFwY9Y"
   },
   "outputs": [],
   "source": [
    "from sklearn.model_selection import GridSearchCV\n",
    "from imblearn.pipeline import Pipeline\n",
    "# Pipeline da imblearn permite inserir o SMOTE, diferente da sklearn\n",
    "\n",
    "pipeline = Pipeline([\n",
    "    (\"smote\", SMOTE()),\n",
    "    (\"scaler\", StandardScaler()),\n",
    "    (\"classifier\", DecisionTreeClassifier(random_state=SEED)),\n",
    "    ])\n",
    "parametros = {\n",
    "    \"classifier__criterion\": [\"gini\", \"entropy\", \"log_loss\"],\n",
    "    \"classifier__max_depth\": range(3, 11),\n",
    "    }\n",
    "gs = GridSearchCV(\n",
    "    pipeline,\n",
    "    parametros,\n",
    "    scoring=[\"recall\", \"precision\", \"f1\"],\n",
    "    refit=\"f1\",\n",
    "    n_jobs=-1,\n",
    "    )\n",
    "    # n_jobs=-1 permite a paralelização, tornando mais rápido\n",
    "gs.fit(X, y);"
   ]
  },
  {
   "cell_type": "code",
   "execution_count": null,
   "metadata": {
    "colab": {
     "base_uri": "https://localhost:8080/",
     "height": 822
    },
    "id": "AWHm1RjhMfYF",
    "outputId": "962880dc-da77-47fa-9376-01328b41e79f"
   },
   "outputs": [
    {
     "data": {
      "application/vnd.google.colaboratory.intrinsic+json": {
       "summary": "{\n  \"name\": \"    ]]\",\n  \"rows\": 24,\n  \"fields\": [\n    {\n      \"column\": \"mean_test_recall\",\n      \"properties\": {\n        \"dtype\": \"number\",\n        \"std\": 0.009451029821987181,\n        \"min\": 0.9712595846134089,\n        \"max\": 0.9998970284442199,\n        \"num_unique_values\": 20,\n        \"samples\": [\n          0.9998855867966228,\n          0.9714540821502574,\n          0.9927920179306804\n        ],\n        \"semantic_type\": \"\",\n        \"description\": \"\"\n      }\n    },\n    {\n      \"column\": \"mean_test_precision\",\n      \"properties\": {\n        \"dtype\": \"number\",\n        \"std\": 0.06753310358209351,\n        \"min\": 0.7990927554226961,\n        \"max\": 0.9998855979198524,\n        \"num_unique_values\": 24,\n        \"samples\": [\n          0.9998169565412949,\n          0.9926585857519095,\n          0.9998855926857966\n        ],\n        \"semantic_type\": \"\",\n        \"description\": \"\"\n      }\n    },\n    {\n      \"column\": \"mean_test_f1\",\n      \"properties\": {\n        \"dtype\": \"number\",\n        \"std\": 0.04121167520898023,\n        \"min\": 0.8768183350987705,\n        \"max\": 0.9998855867962858,\n        \"num_unique_values\": 24,\n        \"samples\": [\n          0.99984554675589,\n          0.994443910457916,\n          0.9998855867962858\n        ],\n        \"semantic_type\": \"\",\n        \"description\": \"\"\n      }\n    },\n    {\n      \"column\": \"rank_test_recall\",\n      \"properties\": {\n        \"dtype\": \"int32\",\n        \"num_unique_values\": 20,\n        \"samples\": [\n          2,\n          22,\n          19\n        ],\n        \"semantic_type\": \"\",\n        \"description\": \"\"\n      }\n    },\n    {\n      \"column\": \"rank_test_precision\",\n      \"properties\": {\n        \"dtype\": \"int32\",\n        \"num_unique_values\": 24,\n        \"samples\": [\n          7,\n          17,\n          2\n        ],\n        \"semantic_type\": \"\",\n        \"description\": \"\"\n      }\n    },\n    {\n      \"column\": \"rank_test_f1\",\n      \"properties\": {\n        \"dtype\": \"int32\",\n        \"num_unique_values\": 24,\n        \"samples\": [\n          9,\n          17,\n          1\n        ],\n        \"semantic_type\": \"\",\n        \"description\": \"\"\n      }\n    },\n    {\n      \"column\": \"param_classifier__criterion\",\n      \"properties\": {\n        \"dtype\": \"category\",\n        \"num_unique_values\": 3,\n        \"samples\": [\n          \"log_loss\",\n          \"gini\",\n          \"entropy\"\n        ],\n        \"semantic_type\": \"\",\n        \"description\": \"\"\n      }\n    },\n    {\n      \"column\": \"param_classifier__max_depth\",\n      \"properties\": {\n        \"dtype\": \"number\",\n        \"std\": 2,\n        \"min\": 3,\n        \"max\": 10,\n        \"num_unique_values\": 8,\n        \"samples\": [\n          10,\n          5,\n          7\n        ],\n        \"semantic_type\": \"\",\n        \"description\": \"\"\n      }\n    }\n  ]\n}",
       "type": "dataframe"
      },
      "text/html": [
       "\n",
       "  <div id=\"df-345e6adb-7d9e-4efb-bd26-546e6d7af192\" class=\"colab-df-container\">\n",
       "    <div>\n",
       "<style scoped>\n",
       "    .dataframe tbody tr th:only-of-type {\n",
       "        vertical-align: middle;\n",
       "    }\n",
       "\n",
       "    .dataframe tbody tr th {\n",
       "        vertical-align: top;\n",
       "    }\n",
       "\n",
       "    .dataframe thead th {\n",
       "        text-align: right;\n",
       "    }\n",
       "</style>\n",
       "<table border=\"1\" class=\"dataframe\">\n",
       "  <thead>\n",
       "    <tr style=\"text-align: right;\">\n",
       "      <th></th>\n",
       "      <th>mean_test_recall</th>\n",
       "      <th>mean_test_precision</th>\n",
       "      <th>mean_test_f1</th>\n",
       "      <th>rank_test_recall</th>\n",
       "      <th>rank_test_precision</th>\n",
       "      <th>rank_test_f1</th>\n",
       "      <th>param_classifier__criterion</th>\n",
       "      <th>param_classifier__max_depth</th>\n",
       "    </tr>\n",
       "  </thead>\n",
       "  <tbody>\n",
       "    <tr>\n",
       "      <th>0</th>\n",
       "      <td>0.999886</td>\n",
       "      <td>0.999886</td>\n",
       "      <td>0.999886</td>\n",
       "      <td>2</td>\n",
       "      <td>2</td>\n",
       "      <td>1</td>\n",
       "      <td>log_loss</td>\n",
       "      <td>7</td>\n",
       "    </tr>\n",
       "    <tr>\n",
       "      <th>1</th>\n",
       "      <td>0.999874</td>\n",
       "      <td>0.999886</td>\n",
       "      <td>0.999880</td>\n",
       "      <td>7</td>\n",
       "      <td>1</td>\n",
       "      <td>2</td>\n",
       "      <td>gini</td>\n",
       "      <td>7</td>\n",
       "    </tr>\n",
       "    <tr>\n",
       "      <th>2</th>\n",
       "      <td>0.999886</td>\n",
       "      <td>0.999851</td>\n",
       "      <td>0.999868</td>\n",
       "      <td>2</td>\n",
       "      <td>3</td>\n",
       "      <td>3</td>\n",
       "      <td>log_loss</td>\n",
       "      <td>10</td>\n",
       "    </tr>\n",
       "    <tr>\n",
       "      <th>3</th>\n",
       "      <td>0.999897</td>\n",
       "      <td>0.999817</td>\n",
       "      <td>0.999857</td>\n",
       "      <td>1</td>\n",
       "      <td>5</td>\n",
       "      <td>4</td>\n",
       "      <td>entropy</td>\n",
       "      <td>9</td>\n",
       "    </tr>\n",
       "    <tr>\n",
       "      <th>4</th>\n",
       "      <td>0.999874</td>\n",
       "      <td>0.999828</td>\n",
       "      <td>0.999851</td>\n",
       "      <td>7</td>\n",
       "      <td>4</td>\n",
       "      <td>5</td>\n",
       "      <td>log_loss</td>\n",
       "      <td>8</td>\n",
       "    </tr>\n",
       "    <tr>\n",
       "      <th>5</th>\n",
       "      <td>0.999874</td>\n",
       "      <td>0.999817</td>\n",
       "      <td>0.999846</td>\n",
       "      <td>5</td>\n",
       "      <td>6</td>\n",
       "      <td>6</td>\n",
       "      <td>gini</td>\n",
       "      <td>8</td>\n",
       "    </tr>\n",
       "    <tr>\n",
       "      <th>6</th>\n",
       "      <td>0.999886</td>\n",
       "      <td>0.999806</td>\n",
       "      <td>0.999846</td>\n",
       "      <td>2</td>\n",
       "      <td>9</td>\n",
       "      <td>7</td>\n",
       "      <td>entropy</td>\n",
       "      <td>10</td>\n",
       "    </tr>\n",
       "    <tr>\n",
       "      <th>7</th>\n",
       "      <td>0.999874</td>\n",
       "      <td>0.999817</td>\n",
       "      <td>0.999846</td>\n",
       "      <td>6</td>\n",
       "      <td>8</td>\n",
       "      <td>8</td>\n",
       "      <td>entropy</td>\n",
       "      <td>8</td>\n",
       "    </tr>\n",
       "    <tr>\n",
       "      <th>8</th>\n",
       "      <td>0.999874</td>\n",
       "      <td>0.999817</td>\n",
       "      <td>0.999846</td>\n",
       "      <td>7</td>\n",
       "      <td>7</td>\n",
       "      <td>9</td>\n",
       "      <td>gini</td>\n",
       "      <td>10</td>\n",
       "    </tr>\n",
       "    <tr>\n",
       "      <th>9</th>\n",
       "      <td>0.999863</td>\n",
       "      <td>0.999794</td>\n",
       "      <td>0.999828</td>\n",
       "      <td>10</td>\n",
       "      <td>10</td>\n",
       "      <td>10</td>\n",
       "      <td>entropy</td>\n",
       "      <td>7</td>\n",
       "    </tr>\n",
       "    <tr>\n",
       "      <th>10</th>\n",
       "      <td>0.999863</td>\n",
       "      <td>0.999771</td>\n",
       "      <td>0.999817</td>\n",
       "      <td>11</td>\n",
       "      <td>11</td>\n",
       "      <td>11</td>\n",
       "      <td>gini</td>\n",
       "      <td>9</td>\n",
       "    </tr>\n",
       "    <tr>\n",
       "      <th>11</th>\n",
       "      <td>0.999840</td>\n",
       "      <td>0.999737</td>\n",
       "      <td>0.999788</td>\n",
       "      <td>12</td>\n",
       "      <td>12</td>\n",
       "      <td>12</td>\n",
       "      <td>log_loss</td>\n",
       "      <td>9</td>\n",
       "    </tr>\n",
       "    <tr>\n",
       "      <th>12</th>\n",
       "      <td>0.999805</td>\n",
       "      <td>0.999428</td>\n",
       "      <td>0.999617</td>\n",
       "      <td>14</td>\n",
       "      <td>13</td>\n",
       "      <td>13</td>\n",
       "      <td>log_loss</td>\n",
       "      <td>6</td>\n",
       "    </tr>\n",
       "    <tr>\n",
       "      <th>13</th>\n",
       "      <td>0.999817</td>\n",
       "      <td>0.999394</td>\n",
       "      <td>0.999605</td>\n",
       "      <td>13</td>\n",
       "      <td>14</td>\n",
       "      <td>14</td>\n",
       "      <td>gini</td>\n",
       "      <td>6</td>\n",
       "    </tr>\n",
       "    <tr>\n",
       "      <th>14</th>\n",
       "      <td>0.999794</td>\n",
       "      <td>0.999337</td>\n",
       "      <td>0.999565</td>\n",
       "      <td>15</td>\n",
       "      <td>15</td>\n",
       "      <td>15</td>\n",
       "      <td>entropy</td>\n",
       "      <td>6</td>\n",
       "    </tr>\n",
       "    <tr>\n",
       "      <th>15</th>\n",
       "      <td>0.996236</td>\n",
       "      <td>0.992693</td>\n",
       "      <td>0.994461</td>\n",
       "      <td>18</td>\n",
       "      <td>16</td>\n",
       "      <td>16</td>\n",
       "      <td>log_loss</td>\n",
       "      <td>5</td>\n",
       "    </tr>\n",
       "    <tr>\n",
       "      <th>16</th>\n",
       "      <td>0.996236</td>\n",
       "      <td>0.992659</td>\n",
       "      <td>0.994444</td>\n",
       "      <td>17</td>\n",
       "      <td>17</td>\n",
       "      <td>17</td>\n",
       "      <td>entropy</td>\n",
       "      <td>5</td>\n",
       "    </tr>\n",
       "    <tr>\n",
       "      <th>17</th>\n",
       "      <td>0.996236</td>\n",
       "      <td>0.992647</td>\n",
       "      <td>0.994438</td>\n",
       "      <td>16</td>\n",
       "      <td>18</td>\n",
       "      <td>18</td>\n",
       "      <td>gini</td>\n",
       "      <td>5</td>\n",
       "    </tr>\n",
       "    <tr>\n",
       "      <th>18</th>\n",
       "      <td>0.992781</td>\n",
       "      <td>0.938827</td>\n",
       "      <td>0.965050</td>\n",
       "      <td>20</td>\n",
       "      <td>20</td>\n",
       "      <td>19</td>\n",
       "      <td>log_loss</td>\n",
       "      <td>4</td>\n",
       "    </tr>\n",
       "    <tr>\n",
       "      <th>19</th>\n",
       "      <td>0.992792</td>\n",
       "      <td>0.938797</td>\n",
       "      <td>0.965040</td>\n",
       "      <td>19</td>\n",
       "      <td>21</td>\n",
       "      <td>20</td>\n",
       "      <td>entropy</td>\n",
       "      <td>4</td>\n",
       "    </tr>\n",
       "    <tr>\n",
       "      <th>20</th>\n",
       "      <td>0.992609</td>\n",
       "      <td>0.938837</td>\n",
       "      <td>0.964975</td>\n",
       "      <td>21</td>\n",
       "      <td>19</td>\n",
       "      <td>21</td>\n",
       "      <td>gini</td>\n",
       "      <td>4</td>\n",
       "    </tr>\n",
       "    <tr>\n",
       "      <th>21</th>\n",
       "      <td>0.971454</td>\n",
       "      <td>0.799270</td>\n",
       "      <td>0.876990</td>\n",
       "      <td>22</td>\n",
       "      <td>22</td>\n",
       "      <td>22</td>\n",
       "      <td>gini</td>\n",
       "      <td>3</td>\n",
       "    </tr>\n",
       "    <tr>\n",
       "      <th>22</th>\n",
       "      <td>0.971260</td>\n",
       "      <td>0.799200</td>\n",
       "      <td>0.876869</td>\n",
       "      <td>24</td>\n",
       "      <td>23</td>\n",
       "      <td>23</td>\n",
       "      <td>log_loss</td>\n",
       "      <td>3</td>\n",
       "    </tr>\n",
       "    <tr>\n",
       "      <th>23</th>\n",
       "      <td>0.971294</td>\n",
       "      <td>0.799093</td>\n",
       "      <td>0.876818</td>\n",
       "      <td>23</td>\n",
       "      <td>24</td>\n",
       "      <td>24</td>\n",
       "      <td>entropy</td>\n",
       "      <td>3</td>\n",
       "    </tr>\n",
       "  </tbody>\n",
       "</table>\n",
       "</div>\n",
       "    <div class=\"colab-df-buttons\">\n",
       "\n",
       "  <div class=\"colab-df-container\">\n",
       "    <button class=\"colab-df-convert\" onclick=\"convertToInteractive('df-345e6adb-7d9e-4efb-bd26-546e6d7af192')\"\n",
       "            title=\"Convert this dataframe to an interactive table.\"\n",
       "            style=\"display:none;\">\n",
       "\n",
       "  <svg xmlns=\"http://www.w3.org/2000/svg\" height=\"24px\" viewBox=\"0 -960 960 960\">\n",
       "    <path d=\"M120-120v-720h720v720H120Zm60-500h600v-160H180v160Zm220 220h160v-160H400v160Zm0 220h160v-160H400v160ZM180-400h160v-160H180v160Zm440 0h160v-160H620v160ZM180-180h160v-160H180v160Zm440 0h160v-160H620v160Z\"/>\n",
       "  </svg>\n",
       "    </button>\n",
       "\n",
       "  <style>\n",
       "    .colab-df-container {\n",
       "      display:flex;\n",
       "      gap: 12px;\n",
       "    }\n",
       "\n",
       "    .colab-df-convert {\n",
       "      background-color: #E8F0FE;\n",
       "      border: none;\n",
       "      border-radius: 50%;\n",
       "      cursor: pointer;\n",
       "      display: none;\n",
       "      fill: #1967D2;\n",
       "      height: 32px;\n",
       "      padding: 0 0 0 0;\n",
       "      width: 32px;\n",
       "    }\n",
       "\n",
       "    .colab-df-convert:hover {\n",
       "      background-color: #E2EBFA;\n",
       "      box-shadow: 0px 1px 2px rgba(60, 64, 67, 0.3), 0px 1px 3px 1px rgba(60, 64, 67, 0.15);\n",
       "      fill: #174EA6;\n",
       "    }\n",
       "\n",
       "    .colab-df-buttons div {\n",
       "      margin-bottom: 4px;\n",
       "    }\n",
       "\n",
       "    [theme=dark] .colab-df-convert {\n",
       "      background-color: #3B4455;\n",
       "      fill: #D2E3FC;\n",
       "    }\n",
       "\n",
       "    [theme=dark] .colab-df-convert:hover {\n",
       "      background-color: #434B5C;\n",
       "      box-shadow: 0px 1px 3px 1px rgba(0, 0, 0, 0.15);\n",
       "      filter: drop-shadow(0px 1px 2px rgba(0, 0, 0, 0.3));\n",
       "      fill: #FFFFFF;\n",
       "    }\n",
       "  </style>\n",
       "\n",
       "    <script>\n",
       "      const buttonEl =\n",
       "        document.querySelector('#df-345e6adb-7d9e-4efb-bd26-546e6d7af192 button.colab-df-convert');\n",
       "      buttonEl.style.display =\n",
       "        google.colab.kernel.accessAllowed ? 'block' : 'none';\n",
       "\n",
       "      async function convertToInteractive(key) {\n",
       "        const element = document.querySelector('#df-345e6adb-7d9e-4efb-bd26-546e6d7af192');\n",
       "        const dataTable =\n",
       "          await google.colab.kernel.invokeFunction('convertToInteractive',\n",
       "                                                    [key], {});\n",
       "        if (!dataTable) return;\n",
       "\n",
       "        const docLinkHtml = 'Like what you see? Visit the ' +\n",
       "          '<a target=\"_blank\" href=https://colab.research.google.com/notebooks/data_table.ipynb>data table notebook</a>'\n",
       "          + ' to learn more about interactive tables.';\n",
       "        element.innerHTML = '';\n",
       "        dataTable['output_type'] = 'display_data';\n",
       "        await google.colab.output.renderOutput(dataTable, element);\n",
       "        const docLink = document.createElement('div');\n",
       "        docLink.innerHTML = docLinkHtml;\n",
       "        element.appendChild(docLink);\n",
       "      }\n",
       "    </script>\n",
       "  </div>\n",
       "\n",
       "\n",
       "<div id=\"df-f785868a-2ac4-4a04-a121-ed5ad4668c8d\">\n",
       "  <button class=\"colab-df-quickchart\" onclick=\"quickchart('df-f785868a-2ac4-4a04-a121-ed5ad4668c8d')\"\n",
       "            title=\"Suggest charts\"\n",
       "            style=\"display:none;\">\n",
       "\n",
       "<svg xmlns=\"http://www.w3.org/2000/svg\" height=\"24px\"viewBox=\"0 0 24 24\"\n",
       "     width=\"24px\">\n",
       "    <g>\n",
       "        <path d=\"M19 3H5c-1.1 0-2 .9-2 2v14c0 1.1.9 2 2 2h14c1.1 0 2-.9 2-2V5c0-1.1-.9-2-2-2zM9 17H7v-7h2v7zm4 0h-2V7h2v10zm4 0h-2v-4h2v4z\"/>\n",
       "    </g>\n",
       "</svg>\n",
       "  </button>\n",
       "\n",
       "<style>\n",
       "  .colab-df-quickchart {\n",
       "      --bg-color: #E8F0FE;\n",
       "      --fill-color: #1967D2;\n",
       "      --hover-bg-color: #E2EBFA;\n",
       "      --hover-fill-color: #174EA6;\n",
       "      --disabled-fill-color: #AAA;\n",
       "      --disabled-bg-color: #DDD;\n",
       "  }\n",
       "\n",
       "  [theme=dark] .colab-df-quickchart {\n",
       "      --bg-color: #3B4455;\n",
       "      --fill-color: #D2E3FC;\n",
       "      --hover-bg-color: #434B5C;\n",
       "      --hover-fill-color: #FFFFFF;\n",
       "      --disabled-bg-color: #3B4455;\n",
       "      --disabled-fill-color: #666;\n",
       "  }\n",
       "\n",
       "  .colab-df-quickchart {\n",
       "    background-color: var(--bg-color);\n",
       "    border: none;\n",
       "    border-radius: 50%;\n",
       "    cursor: pointer;\n",
       "    display: none;\n",
       "    fill: var(--fill-color);\n",
       "    height: 32px;\n",
       "    padding: 0;\n",
       "    width: 32px;\n",
       "  }\n",
       "\n",
       "  .colab-df-quickchart:hover {\n",
       "    background-color: var(--hover-bg-color);\n",
       "    box-shadow: 0 1px 2px rgba(60, 64, 67, 0.3), 0 1px 3px 1px rgba(60, 64, 67, 0.15);\n",
       "    fill: var(--button-hover-fill-color);\n",
       "  }\n",
       "\n",
       "  .colab-df-quickchart-complete:disabled,\n",
       "  .colab-df-quickchart-complete:disabled:hover {\n",
       "    background-color: var(--disabled-bg-color);\n",
       "    fill: var(--disabled-fill-color);\n",
       "    box-shadow: none;\n",
       "  }\n",
       "\n",
       "  .colab-df-spinner {\n",
       "    border: 2px solid var(--fill-color);\n",
       "    border-color: transparent;\n",
       "    border-bottom-color: var(--fill-color);\n",
       "    animation:\n",
       "      spin 1s steps(1) infinite;\n",
       "  }\n",
       "\n",
       "  @keyframes spin {\n",
       "    0% {\n",
       "      border-color: transparent;\n",
       "      border-bottom-color: var(--fill-color);\n",
       "      border-left-color: var(--fill-color);\n",
       "    }\n",
       "    20% {\n",
       "      border-color: transparent;\n",
       "      border-left-color: var(--fill-color);\n",
       "      border-top-color: var(--fill-color);\n",
       "    }\n",
       "    30% {\n",
       "      border-color: transparent;\n",
       "      border-left-color: var(--fill-color);\n",
       "      border-top-color: var(--fill-color);\n",
       "      border-right-color: var(--fill-color);\n",
       "    }\n",
       "    40% {\n",
       "      border-color: transparent;\n",
       "      border-right-color: var(--fill-color);\n",
       "      border-top-color: var(--fill-color);\n",
       "    }\n",
       "    60% {\n",
       "      border-color: transparent;\n",
       "      border-right-color: var(--fill-color);\n",
       "    }\n",
       "    80% {\n",
       "      border-color: transparent;\n",
       "      border-right-color: var(--fill-color);\n",
       "      border-bottom-color: var(--fill-color);\n",
       "    }\n",
       "    90% {\n",
       "      border-color: transparent;\n",
       "      border-bottom-color: var(--fill-color);\n",
       "    }\n",
       "  }\n",
       "</style>\n",
       "\n",
       "  <script>\n",
       "    async function quickchart(key) {\n",
       "      const quickchartButtonEl =\n",
       "        document.querySelector('#' + key + ' button');\n",
       "      quickchartButtonEl.disabled = true;  // To prevent multiple clicks.\n",
       "      quickchartButtonEl.classList.add('colab-df-spinner');\n",
       "      try {\n",
       "        const charts = await google.colab.kernel.invokeFunction(\n",
       "            'suggestCharts', [key], {});\n",
       "      } catch (error) {\n",
       "        console.error('Error during call to suggestCharts:', error);\n",
       "      }\n",
       "      quickchartButtonEl.classList.remove('colab-df-spinner');\n",
       "      quickchartButtonEl.classList.add('colab-df-quickchart-complete');\n",
       "    }\n",
       "    (() => {\n",
       "      let quickchartButtonEl =\n",
       "        document.querySelector('#df-f785868a-2ac4-4a04-a121-ed5ad4668c8d button');\n",
       "      quickchartButtonEl.style.display =\n",
       "        google.colab.kernel.accessAllowed ? 'block' : 'none';\n",
       "    })();\n",
       "  </script>\n",
       "</div>\n",
       "\n",
       "    </div>\n",
       "  </div>\n"
      ],
      "text/plain": [
       "    mean_test_recall  mean_test_precision  ...  param_classifier__criterion  param_classifier__max_depth\n",
       "0           0.999886             0.999886  ...                     log_loss                            7\n",
       "1           0.999874             0.999886  ...                         gini                            7\n",
       "2           0.999886             0.999851  ...                     log_loss                           10\n",
       "3           0.999897             0.999817  ...                      entropy                            9\n",
       "4           0.999874             0.999828  ...                     log_loss                            8\n",
       "5           0.999874             0.999817  ...                         gini                            8\n",
       "6           0.999886             0.999806  ...                      entropy                           10\n",
       "7           0.999874             0.999817  ...                      entropy                            8\n",
       "8           0.999874             0.999817  ...                         gini                           10\n",
       "9           0.999863             0.999794  ...                      entropy                            7\n",
       "10          0.999863             0.999771  ...                         gini                            9\n",
       "11          0.999840             0.999737  ...                     log_loss                            9\n",
       "12          0.999805             0.999428  ...                     log_loss                            6\n",
       "13          0.999817             0.999394  ...                         gini                            6\n",
       "14          0.999794             0.999337  ...                      entropy                            6\n",
       "15          0.996236             0.992693  ...                     log_loss                            5\n",
       "16          0.996236             0.992659  ...                      entropy                            5\n",
       "17          0.996236             0.992647  ...                         gini                            5\n",
       "18          0.992781             0.938827  ...                     log_loss                            4\n",
       "19          0.992792             0.938797  ...                      entropy                            4\n",
       "20          0.992609             0.938837  ...                         gini                            4\n",
       "21          0.971454             0.799270  ...                         gini                            3\n",
       "22          0.971260             0.799200  ...                     log_loss                            3\n",
       "23          0.971294             0.799093  ...                      entropy                            3\n",
       "\n",
       "[24 rows x 8 columns]"
      ]
     },
     "execution_count": 28,
     "metadata": {},
     "output_type": "execute_result"
    }
   ],
   "source": [
    "pd.DataFrame(gs.cv_results_).sort_values(\n",
    "    [\"rank_test_f1\", \"rank_test_recall\", \"rank_test_precision\"]\n",
    "    )[[\n",
    "        \"mean_test_recall\",\n",
    "        \"mean_test_precision\",\n",
    "        \"mean_test_f1\",\n",
    "        \"rank_test_recall\",\n",
    "        \"rank_test_precision\",\n",
    "        \"rank_test_f1\",\n",
    "        \"param_modelo__criterion\",\n",
    "        \"param_modelo__max_depth\",\n",
    "    ]].reset_index(drop=True)"
   ]
  },
  {
   "cell_type": "markdown",
   "metadata": {
    "id": "wKrFZE_iAB0S"
   },
   "source": [
    "Há uma **diferença muito pequena** entre os 15 primeiros modelos (linha 0 a 14), onde o hiperparâmetro max_depth é a partir de 6, fazendo os modelos terem desempenho alto, quase iguais entre si.\n",
    "<br>A princípio, poderíamos usar o modelo mais simples deles. Porém, como estamos tratando de fraude bancária, **é muito importante identificarmos o máximo possível**. Cada fraude não identificada é um cliente que está sendo roubado, e uma grande dor de cabeça para a instituição, que pode ser processada, sair noticiário e perder reputação.\n",
    "<br>Então, apesar de 99,9897% e 99,9886% parecerem iguais (com uma diferença de apenas 0,0011%), se considerarmos um cenário de 100 milhões de transações por dia, é uma diferença de **1.100 fraudes não identificadas por dia**. Só para termos um comparativo, as transações Pix no Brasil chegaram a bater recorde de 224 milhões de transações por dia em 2024 (fonte: [Agência Brasil](https://agenciabrasil.ebc.com.br/economia/noticia/2024-07/pix-bate-recorde-e-supera-224-milhoes-de-transacoes-em-um-dia)).\n",
    "<br>Logo, é importante sempre contextualizarmos esses números percentuais para o cenário do negócio que estamos trabalhando."
   ]
  },
  {
   "cell_type": "markdown",
   "metadata": {
    "id": "TJsszfIYKi4f"
   },
   "source": [
    "Hiperparâmetros do melhor modelo"
   ]
  },
  {
   "cell_type": "code",
   "execution_count": null,
   "metadata": {
    "colab": {
     "base_uri": "https://localhost:8080/"
    },
    "id": "QiWhX0B_Jkcc",
    "outputId": "21bcc369-2192-450c-c9a0-c8b7d882dc62"
   },
   "outputs": [
    {
     "data": {
      "text/plain": [
       "{'classifier__criterion': 'log_loss', 'classifier__max_depth': 7}"
      ]
     },
     "execution_count": 27,
     "metadata": {},
     "output_type": "execute_result"
    }
   ],
   "source": [
    "gs.best_params_"
   ]
  },
  {
   "cell_type": "markdown",
   "metadata": {
    "id": "jBu1qfon4rxM"
   },
   "source": [
    "Encontrado o melhor modelo, faremos a **Validação Cruzada Aninhada** para obtermos resultados mais realistas, que não sejam tão otimistas"
   ]
  },
  {
   "cell_type": "code",
   "execution_count": null,
   "metadata": {
    "id": "FB4KKGKT49nu"
   },
   "outputs": [],
   "source": [
    "from sklearn.model_selection import cross_val_score\n",
    "\n",
    "final_scores = cross_val_score(gs, X, y, cv=5, scoring=\"f1\", n_jobs=-1)"
   ]
  },
  {
   "cell_type": "code",
   "execution_count": null,
   "metadata": {
    "colab": {
     "base_uri": "https://localhost:8080/"
    },
    "id": "G5mF8i238kk9",
    "outputId": "54cadf54-4e8e-45bf-f42e-def4f04339d4"
   },
   "outputs": [
    {
     "name": "stdout",
     "output_type": "stream",
     "text": [
      "SCORE FINAL F1 DO MELHOR MODELO\n",
      "Média: 0.999868\n",
      "Intervalo: [0.999769, 0.999968]\n"
     ]
    }
   ],
   "source": [
    "media = final_scores.mean()\n",
    "desvio = final_scores.std()\n",
    "min, max = media - 2*desvio, media + 2*desvio\n",
    "print(f'''SCORE F1 DO MELHOR MODELO\n",
    "Média: {media:.6%}\n",
    "Intervalo de confiança: [{min:.6%}, {max:.6%}]''')"
   ]
  },
  {
   "cell_type": "markdown",
   "metadata": {
    "id": "Ebz6j7wVuho7"
   },
   "source": [
    "# Finalizando e salvando o modelo\n",
    "\n",
    "Com o modelo final determinado, vamos treiná-lo com TODOS os dados e salvá-lo para reutilização ou implantação posterior"
   ]
  },
  {
   "cell_type": "code",
   "execution_count": null,
   "metadata": {
    "id": "VIgzlGFQLd12"
   },
   "outputs": [],
   "source": [
    "import joblib\n",
    "\n",
    "sm = SMOTE(random_state=SEED)\n",
    "X_resampled, y_resampled = sm.fit_resample(X, y)\n",
    "\n",
    "scaler = StandardScaler()\n",
    "scaler.fit(X_resampled)\n",
    "X_scaled = scaler.transform(X_resampled)\n",
    "\n",
    "modelo = RandomForestClassifier(random_state=SEED, n_jobs=-1)\n",
    "modelo.fit(X_scaled, y_resampled)\n",
    "modelo_e_scaler = (modelo, scaler)\n",
    "joblib.dump(modelo_e_scaler, 'modelo_e_scaler.pkl')\n"
   ]
  },
  {
   "cell_type": "markdown",
   "metadata": {
    "id": "9pn6MGBVwtWb"
   },
   "source": [
    "O modelo salvo pode ser carregado mais tarde para fazer previsões em novos dados, sem a necessidade de treiná-lo novamente. Esse seria o código:"
   ]
  },
  {
   "cell_type": "code",
   "execution_count": null,
   "metadata": {
    "id": "Xe73rx8kwzWn"
   },
   "outputs": [],
   "source": [
    "import joblib\n",
    "\n",
    "modelo, scaler = joblib.load('modelo_e_scaler.pkl')\n",
    "\n",
    "X_novos_dados = X  # Novos dados recebidos\n",
    "X_novos_dados_scaled = scaler.trasform(X_novos_dados)\n",
    "y_novas_previsoes = modelo.predict(X_novos_dados_scaled)\n"
   ]
  }
 ],
 "metadata": {
  "colab": {
   "provenance": []
  },
  "kernelspec": {
   "display_name": "Python 3 (ipykernel)",
   "language": "python",
   "name": "python3"
  },
  "language_info": {
   "codemirror_mode": {
    "name": "ipython",
    "version": 3
   },
   "file_extension": ".py",
   "mimetype": "text/x-python",
   "name": "python",
   "nbconvert_exporter": "python",
   "pygments_lexer": "ipython3",
   "version": "3.11.5"
  }
 },
 "nbformat": 4,
 "nbformat_minor": 4
}
